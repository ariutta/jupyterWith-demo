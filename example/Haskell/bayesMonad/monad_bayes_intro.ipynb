{
 "cells": [
  {
   "cell_type": "markdown",
   "metadata": {},
   "source": [
    "# a gentle exploration tour through the Monad-Bayes library\n",
    "\n",
    "https://github.com/adscib/monad-bayes"
   ]
  },
  {
   "cell_type": "code",
   "execution_count": 1,
   "metadata": {},
   "outputs": [],
   "source": [
    ":e OverloadedStrings\n",
    "\n",
    "import qualified Graphics.Vega.VegaLite as VL\n",
    "import Graphics.Vega.VegaLite hiding (filter)\n",
    "import IHaskell.Display.Hvega (vlShow)\n",
    "import Data.Aeson (ToJSON(toJSON), Value)\n",
    "import Data.Aeson (encode)\n",
    "import qualified Data.ByteString.Lazy.Char8 as BL\n",
    "\n",
    "import Control.Monad (liftM2, replicateM)\n",
    "import Control.Monad.IO.Class (liftIO)\n",
    "import Control.Monad.Bayes.Class\n",
    "import Control.Monad.Bayes.Sampler\n",
    "import Control.Monad.Bayes.Inference.RMSMC as RMSMC\n",
    "import Control.Monad.Bayes.Sequential\n",
    "import Control.Monad.Bayes.Population\n",
    "import Control.Monad.Bayes.Traced.Static (Traced)\n",
    "import Control.Monad.Bayes.Inference.SMC\n",
    "import Data.Vector (fromList, toList)\n",
    "import Statistics.Sample.KernelDensity (kde)\n",
    "\n",
    "\n",
    "import Numeric.Log\n",
    "import Control.Monad.Bayes.Class\n",
    "\n",
    "\n",
    "barPlot :: [Double] -> VegaLite\n",
    "barPlot dataSamples = \n",
    "  let desc = description \"Probability Games\"\n",
    "      dat = dataFromColumns []\n",
    "          . dataColumn \"Result\" (Numbers dataSamples)\n",
    "      trans = transform\n",
    "        . binAs [ MaxBins 20 ] \"Result\" \"binnedData\"\n",
    "      conf = configure\n",
    "        . configuration (Axis [ DomainWidth 1 ])\n",
    "        . configuration (BarStyle [ MContinuousBandSize 20 ])\n",
    "        . configuration (SelectionStyle [ ( Single, [ On \"dblclick\" ] ) ])\n",
    "      barOpts = [MOpacity 1.0, MColor \"blue\"]\n",
    "      enc = encoding\n",
    "            . position X [PName \"Result\", PmType Quantitative, PAxis [AxGrid True, AxTitle \"Toss Value\"]]\n",
    "            . position Y [PName \"binnedData\", PmType Quantitative, PAxis [AxGrid False]]\n",
    "  in toVegaLite [desc, width 600, height 200, dat [], trans [], conf [], mark Bar barOpts, enc []]\n",
    "  \n",
    "linePlot :: [Double] -> [Double] -> VegaLite\n",
    "linePlot xSamples ySamples = \n",
    "  let desc = description \"Logistic Regression\"\n",
    "      dat = dataFromColumns []\n",
    "          . dataColumn \"X\" (Numbers xSamples)\n",
    "          . dataColumn \"Y\" (Numbers ySamples)\n",
    "      conf = configure\n",
    "        . configuration (Axis [ DomainWidth 1 ])\n",
    "        . configuration (SelectionStyle [ ( Single, [ On \"dblclick\" ] ) ])\n",
    "      enc = encoding\n",
    "            . position X [PName \"X\", PmType Quantitative, PAxis [AxGrid True, AxTitle \"Toss Value\"]]\n",
    "            . position Y [PName \"Y\", PmType Quantitative, PAxis [AxGrid False]]\n",
    "  in toVegaLite [desc, width 600, height 200, dat [], conf [], mark Line [], enc []]\n",
    "\n",
    "pointPlot :: [Double] -> [Double] -> VegaLite\n",
    "pointPlot xSamples ySamples = \n",
    "  let desc = description \"Logistic Regression\"\n",
    "      dat = dataFromColumns []\n",
    "          . dataColumn \"X\" (Numbers xSamples)\n",
    "          . dataColumn \"Y\" (Numbers ySamples)\n",
    "      conf = configure\n",
    "        . configuration (Axis [ DomainWidth 1 ])\n",
    "        . configuration (SelectionStyle [ ( Single, [ On \"dblclick\" ] ) ])\n",
    "      enc = encoding\n",
    "            . position X [PName \"X\", PmType Quantitative, PAxis [AxGrid True, AxTitle \"Toss Value\"]]\n",
    "            . position Y [PName \"Y\", PmType Quantitative, PAxis [AxGrid False]]\n",
    "  in toVegaLite [desc, width 600, height 200, dat [], conf [], mark Point [MOpacity 0.2], enc []]\n",
    "  \n",
    "density2DPlot :: [Double] -> [Double] -> VegaLite\n",
    "density2DPlot xSamples ySamples = \n",
    "  let desc = description \"Logistic Regression\"\n",
    "      dat = dataFromColumns []\n",
    "          . dataColumn \"X\" (Numbers xSamples)\n",
    "          . dataColumn \"Y\" (Numbers ySamples)\n",
    "      conf = configure\n",
    "        . configuration (Axis [ DomainWidth 1 ])\n",
    "        . configuration (SelectionStyle [ ( Single, [ On \"dblclick\" ] ) ])\n",
    "        . configuration (View [ViewStroke (Just \"transparent\")])\n",
    "      enc = encoding\n",
    "            . position X [PName \"X\", PBin [MaxBins 20], PmType Quantitative, PAxis [AxGrid True, AxTitle \"Toss Value\"]]\n",
    "            . position Y [PName \"Y\", PBin [MaxBins 20], PmType Quantitative, PAxis [AxGrid False]]\n",
    "            . color [ MAggregate Count, MName \"col\", MmType Quantitative, MScale [SScheme \"blues\"[0.0, 1.0]]]\n",
    "  in toVegaLite [desc, width 300, height 300, dat [], conf [], mark Rect [], enc []]"
   ]
  },
  {
   "cell_type": "markdown",
   "metadata": {},
   "source": [
    "## A Gaussian Toy Model"
   ]
  },
  {
   "cell_type": "code",
   "execution_count": 2,
   "metadata": {},
   "outputs": [],
   "source": [
    "gaussian :: MonadInfer m => [Double] -> m (Double, Double)\n",
    "gaussian os = do\n",
    "  c <- uniform (-0.5) 0.5\n",
    "  s <- uniform 0.5 1.0\n",
    "  mapM_ (score . normalPdf c s) os\n",
    "  return (c, s)\n",
    "  \n",
    "generateDataGaussian :: MonadSample m\n",
    "      => Int  -- ^ Number of points\n",
    "      -> m [Double] -- ^ List of latent and observable states from t=1\n",
    "generateDataGaussian n = replicateM n $ normal 0 0.1"
   ]
  },
  {
   "cell_type": "code",
   "execution_count": 3,
   "metadata": {},
   "outputs": [
    {
     "data": {
      "text/html": [
       "<style>/* Styles used for the Hoogle display in the pager */\n",
       ".hoogle-doc {\n",
       "display: block;\n",
       "padding-bottom: 1.3em;\n",
       "padding-left: 0.4em;\n",
       "}\n",
       ".hoogle-code {\n",
       "display: block;\n",
       "font-family: monospace;\n",
       "white-space: pre;\n",
       "}\n",
       ".hoogle-text {\n",
       "display: block;\n",
       "}\n",
       ".hoogle-name {\n",
       "color: green;\n",
       "font-weight: bold;\n",
       "}\n",
       ".hoogle-head {\n",
       "font-weight: bold;\n",
       "}\n",
       ".hoogle-sub {\n",
       "display: block;\n",
       "margin-left: 0.4em;\n",
       "}\n",
       ".hoogle-package {\n",
       "font-weight: bold;\n",
       "font-style: italic;\n",
       "}\n",
       ".hoogle-module {\n",
       "font-weight: bold;\n",
       "}\n",
       ".hoogle-class {\n",
       "font-weight: bold;\n",
       "}\n",
       ".get-type {\n",
       "color: green;\n",
       "font-weight: bold;\n",
       "font-family: monospace;\n",
       "display: block;\n",
       "white-space: pre-wrap;\n",
       "}\n",
       ".show-type {\n",
       "color: green;\n",
       "font-weight: bold;\n",
       "font-family: monospace;\n",
       "margin-left: 1em;\n",
       "}\n",
       ".mono {\n",
       "font-family: monospace;\n",
       "display: block;\n",
       "}\n",
       ".err-msg {\n",
       "color: red;\n",
       "font-style: italic;\n",
       "font-family: monospace;\n",
       "white-space: pre;\n",
       "display: block;\n",
       "}\n",
       "#unshowable {\n",
       "color: red;\n",
       "font-weight: bold;\n",
       "}\n",
       ".err-msg.in.collapse {\n",
       "padding-top: 0.7em;\n",
       "}\n",
       ".highlight-code {\n",
       "white-space: pre;\n",
       "font-family: monospace;\n",
       "}\n",
       ".suggestion-warning { \n",
       "font-weight: bold;\n",
       "color: rgb(200, 130, 0);\n",
       "}\n",
       ".suggestion-error { \n",
       "font-weight: bold;\n",
       "color: red;\n",
       "}\n",
       ".suggestion-name {\n",
       "font-weight: bold;\n",
       "}\n",
       "</style><div class=\"suggestion-name\" style=\"clear:both;\">Redundant return</div><div class=\"suggestion-row\" style=\"float: left;\"><div class=\"suggestion-warning\">Found:</div><div class=\"highlight-code\" id=\"haskell\">do ys <- generateDataGaussian 50\n",
       "   res <- runPopulation $ (RMSMC.rmsmc 100 10 10) (gaussian ys)\n",
       "   return res</div></div><div class=\"suggestion-row\" style=\"float: left;\"><div class=\"suggestion-warning\">Why Not:</div><div class=\"highlight-code\" id=\"haskell\">do ys <- generateDataGaussian 50\n",
       "   runPopulation $ (RMSMC.rmsmc 100 10 10) (gaussian ys)</div></div><div class=\"suggestion-name\" style=\"clear:both;\">Redundant bracket</div><div class=\"suggestion-row\" style=\"float: left;\"><div class=\"suggestion-warning\">Found:</div><div class=\"highlight-code\" id=\"haskell\">(RMSMC.rmsmc 100 10 10) (gaussian ys)</div></div><div class=\"suggestion-row\" style=\"float: left;\"><div class=\"suggestion-warning\">Why Not:</div><div class=\"highlight-code\" id=\"haskell\">RMSMC.rmsmc 100 10 10 (gaussian ys)</div></div>"
      ],
      "text/plain": [
       "Line 2: Redundant return\n",
       "Found:\n",
       "do ys <- generateDataGaussian 50\n",
       "   res <- runPopulation $ (RMSMC.rmsmc 100 10 10) (gaussian ys)\n",
       "   return res\n",
       "Why not:\n",
       "do ys <- generateDataGaussian 50\n",
       "   runPopulation $ (RMSMC.rmsmc 100 10 10) (gaussian ys)Line 4: Redundant bracket\n",
       "Found:\n",
       "(RMSMC.rmsmc 100 10 10) (gaussian ys)\n",
       "Why not:\n",
       "RMSMC.rmsmc 100 10 10 (gaussian ys)"
      ]
     },
     "metadata": {},
     "output_type": "display_data"
    },
    {
     "data": {
      "text/plain": [
       "[((-8.933493531459702e-2,0.5068287953900739),3.432840311164619e-11),((-7.208342190316908e-2,0.5118051359349169),3.432840311164619e-11),((-0.21347520671537035,0.5392372331968052),3.432840311164619e-11),((8.207728631069389e-2,0.5006324063422118),3.432840311164619e-11),((-0.1437519737421854,0.5229573268830032),3.432840311164619e-11),((0.20708731047806317,0.5565640901233249),3.432840311164619e-11),((-0.13914773844926598,0.5046444504795156),3.432840311164619e-11),((-7.567361211862855e-3,0.51879727410227),3.432840311164619e-11),((-0.16231767522516372,0.5305638573537379),3.432840311164619e-11),((-4.698914798945242e-3,0.5312181276476171),3.432840311164619e-11)]"
      ]
     },
     "metadata": {},
     "output_type": "display_data"
    }
   ],
   "source": [
    "runModel :: IO [((Double, Double), Log Double)]\n",
    "runModel = sampleIOfixed $ do\n",
    "  ys <- generateDataGaussian 50\n",
    "  res <- runPopulation $ (RMSMC.rmsmc 100 10 10) (gaussian ys)\n",
    "  return res\n",
    "  \n",
    "runModel"
   ]
  },
  {
   "cell_type": "markdown",
   "metadata": {},
   "source": [
    "## Modelling Dice"
   ]
  },
  {
   "cell_type": "code",
   "execution_count": 4,
   "metadata": {},
   "outputs": [],
   "source": [
    "-- A toy model for dice rolling from http://dl.acm.org/citation.cfm?id=2804317\n",
    "-- Exact results can be obtained using Dist monad\n",
    "\n",
    "-- | A toss of a six-sided die.\n",
    "die :: MonadSample m => m Int\n",
    "die = uniformD [1..6]\n",
    "\n",
    "-- | A sum of outcomes of n independent tosses of six-sided dice.\n",
    "dice :: MonadSample m => Int -> m Int\n",
    "dice 1 = die\n",
    "dice n = liftM2 (+) die (dice (n-1))"
   ]
  },
  {
   "cell_type": "code",
   "execution_count": 5,
   "metadata": {},
   "outputs": [
    {
     "data": {
      "text/html": [
       "<style>/* Styles used for the Hoogle display in the pager */\n",
       ".hoogle-doc {\n",
       "display: block;\n",
       "padding-bottom: 1.3em;\n",
       "padding-left: 0.4em;\n",
       "}\n",
       ".hoogle-code {\n",
       "display: block;\n",
       "font-family: monospace;\n",
       "white-space: pre;\n",
       "}\n",
       ".hoogle-text {\n",
       "display: block;\n",
       "}\n",
       ".hoogle-name {\n",
       "color: green;\n",
       "font-weight: bold;\n",
       "}\n",
       ".hoogle-head {\n",
       "font-weight: bold;\n",
       "}\n",
       ".hoogle-sub {\n",
       "display: block;\n",
       "margin-left: 0.4em;\n",
       "}\n",
       ".hoogle-package {\n",
       "font-weight: bold;\n",
       "font-style: italic;\n",
       "}\n",
       ".hoogle-module {\n",
       "font-weight: bold;\n",
       "}\n",
       ".hoogle-class {\n",
       "font-weight: bold;\n",
       "}\n",
       ".get-type {\n",
       "color: green;\n",
       "font-weight: bold;\n",
       "font-family: monospace;\n",
       "display: block;\n",
       "white-space: pre-wrap;\n",
       "}\n",
       ".show-type {\n",
       "color: green;\n",
       "font-weight: bold;\n",
       "font-family: monospace;\n",
       "margin-left: 1em;\n",
       "}\n",
       ".mono {\n",
       "font-family: monospace;\n",
       "display: block;\n",
       "}\n",
       ".err-msg {\n",
       "color: red;\n",
       "font-style: italic;\n",
       "font-family: monospace;\n",
       "white-space: pre;\n",
       "display: block;\n",
       "}\n",
       "#unshowable {\n",
       "color: red;\n",
       "font-weight: bold;\n",
       "}\n",
       ".err-msg.in.collapse {\n",
       "padding-top: 0.7em;\n",
       "}\n",
       ".highlight-code {\n",
       "white-space: pre;\n",
       "font-family: monospace;\n",
       "}\n",
       ".suggestion-warning { \n",
       "font-weight: bold;\n",
       "color: rgb(200, 130, 0);\n",
       "}\n",
       ".suggestion-error { \n",
       "font-weight: bold;\n",
       "color: red;\n",
       "}\n",
       ".suggestion-name {\n",
       "font-weight: bold;\n",
       "}\n",
       "</style><div class=\"suggestion-name\" style=\"clear:both;\">Use camelCase</div><div class=\"suggestion-row\" style=\"float: left;\"><div class=\"suggestion-warning\">Found:</div><div class=\"highlight-code\" id=\"haskell\">dice_hard :: MonadInfer m => m Int</div></div><div class=\"suggestion-row\" style=\"float: left;\"><div class=\"suggestion-warning\">Why Not:</div><div class=\"highlight-code\" id=\"haskell\">diceHard :: MonadInfer m => m Int</div></div><div class=\"suggestion-name\" style=\"clear:both;\">Use camelCase</div><div class=\"suggestion-row\" style=\"float: left;\"><div class=\"suggestion-warning\">Found:</div><div class=\"highlight-code\" id=\"haskell\">dice_hard = ...</div></div><div class=\"suggestion-row\" style=\"float: left;\"><div class=\"suggestion-warning\">Why Not:</div><div class=\"highlight-code\" id=\"haskell\">diceHard = ...</div></div>"
      ],
      "text/plain": [
       "Line 2: Use camelCase\n",
       "Found:\n",
       "dice_hard :: MonadInfer m => m Int\n",
       "Why not:\n",
       "diceHard :: MonadInfer m => m IntLine 3: Use camelCase\n",
       "Found:\n",
       "dice_hard = ...\n",
       "Why not:\n",
       "diceHard = ..."
      ]
     },
     "metadata": {},
     "output_type": "display_data"
    }
   ],
   "source": [
    "-- | Toss of two dice where the output is greater than 4.\n",
    "dice_hard :: MonadInfer m => m Int\n",
    "dice_hard = do\n",
    "  result <- dice 2\n",
    "  condition (result > 8)\n",
    "  return result"
   ]
  },
  {
   "cell_type": "code",
   "execution_count": 6,
   "metadata": {},
   "outputs": [],
   "source": [
    "takeFromModel :: Int -> Sequential (Population SamplerIO) a -> IO [a]\n",
    "takeFromModel nsamples inModel = sampleIOfixed $ do\n",
    "    res <- runPopulation $ smcMultinomial 1 nsamples inModel\n",
    "    return $ map fst res"
   ]
  },
  {
   "cell_type": "code",
   "execution_count": 7,
   "metadata": {},
   "outputs": [
    {
     "data": {
      "application/vnd.vegalite.v2+json": {
       "$schema": "https://vega.github.io/schema/vega-lite/v3.json",
       "config": {
        "axis": {
         "domainWidth": 1
        },
        "selection": {
         "single": {
          "on": "dblclick"
         }
        }
       },
       "data": {
        "values": [
         {
          "X": 2.7,
          "Y": 0.004327236592301015
         },
         {
          "X": 3.74,
          "Y": 0.009839196683462875
         },
         {
          "X": 4.78,
          "Y": 0.015461952854274473
         },
         {
          "X": 5.82,
          "Y": 0.021062736409676916
         },
         {
          "X": 6.86,
          "Y": 0.030534348049173776
         },
         {
          "X": 7.9,
          "Y": 0.0521286643856108
         },
         {
          "X": 8.940000000000001,
          "Y": 0.10438513030147098
         },
         {
          "X": 9.98,
          "Y": 0.15297563774652267
         },
         {
          "X": 11.02,
          "Y": 0.15366922024757848
         },
         {
          "X": 12.059999999999999,
          "Y": 0.14059684940456116
         },
         {
          "X": 13.100000000000001,
          "Y": 0.12685188395745037
         },
         {
          "X": 14.14,
          "Y": 0.09610424507945667
         },
         {
          "X": 15.18,
          "Y": 0.060192337630355836
         },
         {
          "X": 16.22,
          "Y": 0.03498646810299323
         },
         {
          "X": 17.26,
          "Y": 0.016819058702866402
         },
         {
          "X": 18.3,
          "Y": 0.005706059493269836
         }
        ]
       },
       "description": "Logistic Regression",
       "encoding": {
        "x": {
         "axis": {
          "grid": true,
          "title": "Toss Value"
         },
         "field": "X",
         "type": "quantitative"
        },
        "y": {
         "axis": {
          "grid": false
         },
         "field": "Y",
         "type": "quantitative"
        }
       },
       "height": 200,
       "mark": "line",
       "width": 600
      },
      "image/png": "[encoded data removed]"
     },
     "metadata": {},
     "output_type": "display_data"
    }
   ],
   "source": [
    "samples <- takeFromModel 100 (dice 3)\n",
    "(bins, counts) = kde 10 (fromList (fromIntegral <$> samples))\n",
    "vlShow $ linePlot (toList bins) (toList counts)"
   ]
  },
  {
   "cell_type": "code",
   "execution_count": 8,
   "metadata": {},
   "outputs": [
    {
     "data": {
      "application/vnd.vegalite.v2+json": {
       "$schema": "https://vega.github.io/schema/vega-lite/v3.json",
       "config": {
        "axis": {
         "domainWidth": 1
        },
        "selection": {
         "single": {
          "on": "dblclick"
         }
        }
       },
       "data": {
        "values": [
         {
          "X": 8.7,
          "Y": 0.0037283330880443855
         },
         {
          "X": 8.757142857142856,
          "Y": -0.012853195602347621
         },
         {
          "X": 8.814285714285713,
          "Y": 0.029293051993045216
         },
         {
          "X": 8.87142857142857,
          "Y": -0.07438438680540446
         },
         {
          "X": 8.928571428571429,
          "Y": 0.3658538909866493
         },
         {
          "X": 8.985714285714286,
          "Y": 5.420884390789861
         },
         {
          "X": 9.042857142857143,
          "Y": 0.36701712854996693
         },
         {
          "X": 9.1,
          "Y": -0.0768151585336786
         },
         {
          "X": 9.157142857142857,
          "Y": 0.0332269826617827
         },
         {
          "X": 9.214285714285714,
          "Y": -0.01872593760651223
         },
         {
          "X": 9.27142857142857,
          "Y": 0.012329513866181929
         },
         {
          "X": 9.328571428571427,
          "Y": -0.009108909493329135
         },
         {
          "X": 9.385714285714286,
          "Y": 0.00742913478360503
         },
         {
          "X": 9.442857142857143,
          "Y": -0.006644680502495117
         },
         {
          "X": 9.5,
          "Y": 0.006494555334167208
         },
         {
          "X": 9.557142857142857,
          "Y": -0.006914975727700102
         },
         {
          "X": 9.614285714285714,
          "Y": 0.0079974046539102
         },
         {
          "X": 9.67142857142857,
          "Y": -0.01004114346214612
         },
         {
          "X": 9.728571428571428,
          "Y": 0.013760743316629688
         },
         {
          "X": 9.785714285714285,
          "Y": -0.0209465111508221
         },
         {
          "X": 9.842857142857143,
          "Y": 0.03697380718074634
         },
         {
          "X": 9.9,
          "Y": -0.0846904537543798
         },
         {
          "X": 9.957142857142857,
          "Y": 0.40083490400948696
         },
         {
          "X": 10.014285714285714,
          "Y": 5.897347649369724
         },
         {
          "X": 10.071428571428571,
          "Y": 0.4005196380418115
         },
         {
          "X": 10.128571428571428,
          "Y": -0.08404586226625943
         },
         {
          "X": 10.185714285714285,
          "Y": 0.03597028965249955
         },
         {
          "X": 10.242857142857144,
          "Y": -0.01953566947403768
         },
         {
          "X": 10.3,
          "Y": 0.011869665707716111
         },
         {
          "X": 10.357142857142858,
          "Y": -0.007562912003982497
         },
         {
          "X": 10.414285714285715,
          "Y": 0.004775355437086668
         },
         {
          "X": 10.471428571428572,
          "Y": -0.002715957121152206
         },
         {
          "X": 10.528571428571428,
          "Y": 0.0009615719264686042
         },
         {
          "X": 10.585714285714285,
          "Y": 0.0007918746802040717
         },
         {
          "X": 10.642857142857142,
          "Y": -0.0028725036936454664
         },
         {
          "X": 10.7,
          "Y": 0.005811045751991898
         },
         {
          "X": 10.757142857142858,
          "Y": -0.010775757808853101
         },
         {
          "X": 10.814285714285715,
          "Y": 0.021145050163776463
         },
         {
          "X": 10.871428571428572,
          "Y": -0.051147335574889874
         },
         {
          "X": 10.928571428571429,
          "Y": 0.24796300703608237
         },
         {
          "X": 10.985714285714286,
          "Y": 3.6668629435307567
         },
         {
          "X": 11.042857142857143,
          "Y": 0.2482665546475024
         },
         {
          "X": 11.100000000000001,
          "Y": -0.051767135833115006
         },
         {
          "X": 11.157142857142858,
          "Y": 0.022107867988821663
         },
         {
          "X": 11.214285714285715,
          "Y": -0.012125406138906227
         },
         {
          "X": 11.271428571428572,
          "Y": 0.0076136594382363735
         },
         {
          "X": 11.32857142857143,
          "Y": -0.005225367389146104
         },
         {
          "X": 11.385714285714286,
          "Y": 0.003838216519873712
         },
         {
          "X": 11.442857142857143,
          "Y": -0.0029928984650992494
         },
         {
          "X": 11.5,
          "Y": 0.00247861757771607
         },
         {
          "X": 11.557142857142857,
          "Y": -0.0021965519691500577
         },
         {
          "X": 11.614285714285714,
          "Y": 0.0021113226560921477
         },
         {
          "X": 11.671428571428573,
          "Y": -0.0022410911422934667
         },
         {
          "X": 11.72857142857143,
          "Y": 0.0026822712785414897
         },
         {
          "X": 11.785714285714286,
          "Y": -0.0037119700620813476
         },
         {
          "X": 11.842857142857143,
          "Y": 0.0061922668545789745
         },
         {
          "X": 11.9,
          "Y": -0.013820596716191319
         },
         {
          "X": 11.957142857142857,
          "Y": 0.06498018784430012
         },
         {
          "X": 12.014285714285716,
          "Y": 0.9564583474251557
         },
         {
          "X": 12.071428571428573,
          "Y": 0.06469286962745775
         },
         {
          "X": 12.12857142857143,
          "Y": -0.013223804773835415
         },
         {
          "X": 12.185714285714287,
          "Y": 0.005236553516881361
         },
         {
          "X": 12.242857142857144,
          "Y": -0.0023076722102586744
         },
         {
          "X": 12.3,
          "Y": 0.0006709551721285589
         }
        ]
       },
       "description": "Logistic Regression",
       "encoding": {
        "x": {
         "axis": {
          "grid": true,
          "title": "Toss Value"
         },
         "field": "X",
         "type": "quantitative"
        },
        "y": {
         "axis": {
          "grid": false
         },
         "field": "Y",
         "type": "quantitative"
        }
       },
       "height": 200,
       "mark": "line",
       "width": 600
      },
      "image/png": "[encoded data removed]"
     },
     "metadata": {},
     "output_type": "display_data"
    }
   ],
   "source": [
    "samples <- takeFromModel 100 dice_hard\n",
    "(bins, counts) = kde 50 (fromList (fromIntegral <$> samples))\n",
    "vlShow $ linePlot (toList bins) (toList counts)"
   ]
  },
  {
   "cell_type": "markdown",
   "metadata": {},
   "source": [
    "## Two alternating distributions"
   ]
  },
  {
   "cell_type": "code",
   "execution_count": 9,
   "metadata": {},
   "outputs": [
    {
     "data": {
      "text/html": [
       "<style>/* Styles used for the Hoogle display in the pager */\n",
       ".hoogle-doc {\n",
       "display: block;\n",
       "padding-bottom: 1.3em;\n",
       "padding-left: 0.4em;\n",
       "}\n",
       ".hoogle-code {\n",
       "display: block;\n",
       "font-family: monospace;\n",
       "white-space: pre;\n",
       "}\n",
       ".hoogle-text {\n",
       "display: block;\n",
       "}\n",
       ".hoogle-name {\n",
       "color: green;\n",
       "font-weight: bold;\n",
       "}\n",
       ".hoogle-head {\n",
       "font-weight: bold;\n",
       "}\n",
       ".hoogle-sub {\n",
       "display: block;\n",
       "margin-left: 0.4em;\n",
       "}\n",
       ".hoogle-package {\n",
       "font-weight: bold;\n",
       "font-style: italic;\n",
       "}\n",
       ".hoogle-module {\n",
       "font-weight: bold;\n",
       "}\n",
       ".hoogle-class {\n",
       "font-weight: bold;\n",
       "}\n",
       ".get-type {\n",
       "color: green;\n",
       "font-weight: bold;\n",
       "font-family: monospace;\n",
       "display: block;\n",
       "white-space: pre-wrap;\n",
       "}\n",
       ".show-type {\n",
       "color: green;\n",
       "font-weight: bold;\n",
       "font-family: monospace;\n",
       "margin-left: 1em;\n",
       "}\n",
       ".mono {\n",
       "font-family: monospace;\n",
       "display: block;\n",
       "}\n",
       ".err-msg {\n",
       "color: red;\n",
       "font-style: italic;\n",
       "font-family: monospace;\n",
       "white-space: pre;\n",
       "display: block;\n",
       "}\n",
       "#unshowable {\n",
       "color: red;\n",
       "font-weight: bold;\n",
       "}\n",
       ".err-msg.in.collapse {\n",
       "padding-top: 0.7em;\n",
       "}\n",
       ".highlight-code {\n",
       "white-space: pre;\n",
       "font-family: monospace;\n",
       "}\n",
       ".suggestion-warning { \n",
       "font-weight: bold;\n",
       "color: rgb(200, 130, 0);\n",
       "}\n",
       ".suggestion-error { \n",
       "font-weight: bold;\n",
       "color: red;\n",
       "}\n",
       ".suggestion-name {\n",
       "font-weight: bold;\n",
       "}\n",
       "</style><div class=\"suggestion-name\" style=\"clear:both;\">Redundant return</div><div class=\"suggestion-row\" style=\"float: left;\"><div class=\"suggestion-warning\">Found:</div><div class=\"highlight-code\" id=\"haskell\">do x <- bernoulli 0.5\n",
       "   y <- uniformD (if x then [1, 2] else [11, 12] :: [Int])\n",
       "   return y</div></div><div class=\"suggestion-row\" style=\"float: left;\"><div class=\"suggestion-warning\">Why Not:</div><div class=\"highlight-code\" id=\"haskell\">do x <- bernoulli 0.5\n",
       "   uniformD (if x then [1, 2] else [11, 12] :: [Int])</div></div>"
      ],
      "text/plain": [
       "Line 8: Redundant return\n",
       "Found:\n",
       "do x <- bernoulli 0.5\n",
       "   y <- uniformD (if x then [1, 2] else [11, 12] :: [Int])\n",
       "   return y\n",
       "Why not:\n",
       "do x <- bernoulli 0.5\n",
       "   uniformD (if x then [1, 2] else [11, 12] :: [Int])"
      ]
     },
     "metadata": {},
     "output_type": "display_data"
    }
   ],
   "source": [
    "prior :: MonadSample m => m Double\n",
    "prior = return 0.2\n",
    "\n",
    "modelFalse :: MonadSample m => m Int\n",
    "modelFalse = uniformD ([1, 2, 3, 4, 5, 6, 7, 8, 9, 10, 11, 12] :: [Int])\n",
    "\n",
    "modelTrue :: MonadSample m => m Int\n",
    "modelTrue = do\n",
    "  x <- bernoulli 0.5\n",
    "  y <- uniformD (if x then [1, 2] else [11, 12] :: [Int])\n",
    "  return y"
   ]
  },
  {
   "cell_type": "code",
   "execution_count": 10,
   "metadata": {},
   "outputs": [
    {
     "data": {
      "application/vnd.vegalite.v2+json": {
       "$schema": "https://vega.github.io/schema/vega-lite/v3.json",
       "config": {
        "axis": {
         "domainWidth": 1
        },
        "bar": {
         "continuousBandSize": 20
        },
        "selection": {
         "single": {
          "on": "dblclick"
         }
        }
       },
       "data": {
        "values": [
         {
          "Result": 11
         },
         {
          "Result": 11
         },
         {
          "Result": 11
         },
         {
          "Result": 12
         },
         {
          "Result": 12
         },
         {
          "Result": 11
         },
         {
          "Result": 1
         },
         {
          "Result": 1
         },
         {
          "Result": 11
         },
         {
          "Result": 1
         },
         {
          "Result": 11
         },
         {
          "Result": 12
         },
         {
          "Result": 11
         },
         {
          "Result": 12
         },
         {
          "Result": 1
         },
         {
          "Result": 12
         },
         {
          "Result": 12
         },
         {
          "Result": 12
         },
         {
          "Result": 12
         },
         {
          "Result": 12
         }
        ]
       },
       "description": "Probability Games",
       "encoding": {
        "x": {
         "axis": {
          "grid": true,
          "title": "Toss Value"
         },
         "field": "Result",
         "type": "quantitative"
        },
        "y": {
         "axis": {
          "grid": false
         },
         "field": "binnedData",
         "type": "quantitative"
        }
       },
       "height": 200,
       "mark": {
        "color": "blue",
        "opacity": 1,
        "type": "bar"
       },
       "transform": [
        {
         "as": "binnedData",
         "bin": {
          "maxbins": 20
         },
         "field": "Result"
        }
       ],
       "width": 600
      },
      "image/png": "[encoded data removed]"
     },
     "metadata": {},
     "output_type": "display_data"
    }
   ],
   "source": [
    "samples <- takeFromModel 20 modelTrue\n",
    "vlShow $ barPlot $ fromIntegral <$> samples"
   ]
  },
  {
   "cell_type": "markdown",
   "metadata": {},
   "source": [
    "## Logistic Regression"
   ]
  },
  {
   "cell_type": "code",
   "execution_count": 11,
   "metadata": {},
   "outputs": [
    {
     "data": {
      "text/html": [
       "<style>/* Styles used for the Hoogle display in the pager */\n",
       ".hoogle-doc {\n",
       "display: block;\n",
       "padding-bottom: 1.3em;\n",
       "padding-left: 0.4em;\n",
       "}\n",
       ".hoogle-code {\n",
       "display: block;\n",
       "font-family: monospace;\n",
       "white-space: pre;\n",
       "}\n",
       ".hoogle-text {\n",
       "display: block;\n",
       "}\n",
       ".hoogle-name {\n",
       "color: green;\n",
       "font-weight: bold;\n",
       "}\n",
       ".hoogle-head {\n",
       "font-weight: bold;\n",
       "}\n",
       ".hoogle-sub {\n",
       "display: block;\n",
       "margin-left: 0.4em;\n",
       "}\n",
       ".hoogle-package {\n",
       "font-weight: bold;\n",
       "font-style: italic;\n",
       "}\n",
       ".hoogle-module {\n",
       "font-weight: bold;\n",
       "}\n",
       ".hoogle-class {\n",
       "font-weight: bold;\n",
       "}\n",
       ".get-type {\n",
       "color: green;\n",
       "font-weight: bold;\n",
       "font-family: monospace;\n",
       "display: block;\n",
       "white-space: pre-wrap;\n",
       "}\n",
       ".show-type {\n",
       "color: green;\n",
       "font-weight: bold;\n",
       "font-family: monospace;\n",
       "margin-left: 1em;\n",
       "}\n",
       ".mono {\n",
       "font-family: monospace;\n",
       "display: block;\n",
       "}\n",
       ".err-msg {\n",
       "color: red;\n",
       "font-style: italic;\n",
       "font-family: monospace;\n",
       "white-space: pre;\n",
       "display: block;\n",
       "}\n",
       "#unshowable {\n",
       "color: red;\n",
       "font-weight: bold;\n",
       "}\n",
       ".err-msg.in.collapse {\n",
       "padding-top: 0.7em;\n",
       "}\n",
       ".highlight-code {\n",
       "white-space: pre;\n",
       "font-family: monospace;\n",
       "}\n",
       ".suggestion-warning { \n",
       "font-weight: bold;\n",
       "color: rgb(200, 130, 0);\n",
       "}\n",
       ".suggestion-error { \n",
       "font-weight: bold;\n",
       "color: red;\n",
       "}\n",
       ".suggestion-name {\n",
       "font-weight: bold;\n",
       "}\n",
       "</style><div class=\"suggestion-name\" style=\"clear:both;\">Functor law</div><div class=\"suggestion-row\" style=\"float: left;\"><div class=\"suggestion-warning\">Found:</div><div class=\"highlight-code\" id=\"haskell\">fromIntegral <$> fromEnum <$> labels</div></div><div class=\"suggestion-row\" style=\"float: left;\"><div class=\"suggestion-warning\">Why Not:</div><div class=\"highlight-code\" id=\"haskell\">fromIntegral . fromEnum <$> labels</div></div>"
      ],
      "text/plain": [
       "Line 4: Functor law\n",
       "Found:\n",
       "fromIntegral <$> fromEnum <$> labels\n",
       "Why not:\n",
       "fromIntegral . fromEnum <$> labels"
      ]
     },
     "metadata": {},
     "output_type": "display_data"
    }
   ],
   "source": [
    "xs = [-10, -5, 2, 6, 10]\n",
    "xsDouble = fromInteger <$> xs\n",
    "labels = [False, False, True, True, True]\n",
    "ysDouble = fromIntegral <$> fromEnum <$> labels"
   ]
  },
  {
   "cell_type": "code",
   "execution_count": 12,
   "metadata": {},
   "outputs": [
    {
     "data": {
      "application/vnd.vegalite.v2+json": {
       "$schema": "https://vega.github.io/schema/vega-lite/v3.json",
       "config": {
        "axis": {
         "domainWidth": 1
        },
        "selection": {
         "single": {
          "on": "dblclick"
         }
        }
       },
       "data": {
        "values": [
         {
          "X": -10,
          "Y": 0
         },
         {
          "X": -5,
          "Y": 0
         },
         {
          "X": 2,
          "Y": 1
         },
         {
          "X": 6,
          "Y": 1
         },
         {
          "X": 10,
          "Y": 1
         }
        ]
       },
       "description": "Logistic Regression",
       "encoding": {
        "x": {
         "axis": {
          "grid": true,
          "title": "Toss Value"
         },
         "field": "X",
         "type": "quantitative"
        },
        "y": {
         "axis": {
          "grid": false
         },
         "field": "Y",
         "type": "quantitative"
        }
       },
       "height": 200,
       "mark": "line",
       "width": 600
      },
      "image/png": "[encoded data removed]"
     },
     "metadata": {},
     "output_type": "display_data"
    }
   ],
   "source": [
    "vlShow $ linePlot xsDouble ysDouble"
   ]
  },
  {
   "cell_type": "markdown",
   "metadata": {},
   "source": [
    "both normal and gamma are functions that take two parameters and that return distributions with the _MonadSample_ interface:"
   ]
  },
  {
   "cell_type": "code",
   "execution_count": 13,
   "metadata": {},
   "outputs": [
    {
     "data": {
      "text/html": [
       "<style>/* Styles used for the Hoogle display in the pager */\n",
       ".hoogle-doc {\n",
       "display: block;\n",
       "padding-bottom: 1.3em;\n",
       "padding-left: 0.4em;\n",
       "}\n",
       ".hoogle-code {\n",
       "display: block;\n",
       "font-family: monospace;\n",
       "white-space: pre;\n",
       "}\n",
       ".hoogle-text {\n",
       "display: block;\n",
       "}\n",
       ".hoogle-name {\n",
       "color: green;\n",
       "font-weight: bold;\n",
       "}\n",
       ".hoogle-head {\n",
       "font-weight: bold;\n",
       "}\n",
       ".hoogle-sub {\n",
       "display: block;\n",
       "margin-left: 0.4em;\n",
       "}\n",
       ".hoogle-package {\n",
       "font-weight: bold;\n",
       "font-style: italic;\n",
       "}\n",
       ".hoogle-module {\n",
       "font-weight: bold;\n",
       "}\n",
       ".hoogle-class {\n",
       "font-weight: bold;\n",
       "}\n",
       ".get-type {\n",
       "color: green;\n",
       "font-weight: bold;\n",
       "font-family: monospace;\n",
       "display: block;\n",
       "white-space: pre-wrap;\n",
       "}\n",
       ".show-type {\n",
       "color: green;\n",
       "font-weight: bold;\n",
       "font-family: monospace;\n",
       "margin-left: 1em;\n",
       "}\n",
       ".mono {\n",
       "font-family: monospace;\n",
       "display: block;\n",
       "}\n",
       ".err-msg {\n",
       "color: red;\n",
       "font-style: italic;\n",
       "font-family: monospace;\n",
       "white-space: pre;\n",
       "display: block;\n",
       "}\n",
       "#unshowable {\n",
       "color: red;\n",
       "font-weight: bold;\n",
       "}\n",
       ".err-msg.in.collapse {\n",
       "padding-top: 0.7em;\n",
       "}\n",
       ".highlight-code {\n",
       "white-space: pre;\n",
       "font-family: monospace;\n",
       "}\n",
       ".suggestion-warning { \n",
       "font-weight: bold;\n",
       "color: rgb(200, 130, 0);\n",
       "}\n",
       ".suggestion-error { \n",
       "font-weight: bold;\n",
       "color: red;\n",
       "}\n",
       ".suggestion-name {\n",
       "font-weight: bold;\n",
       "}\n",
       "</style><span class='get-type'>normal :: forall (m :: * -> *). MonadSample m => Double -> Double -> m Double</span>"
      ],
      "text/plain": [
       "normal :: forall (m :: * -> *). MonadSample m => Double -> Double -> m Double"
      ]
     },
     "metadata": {},
     "output_type": "display_data"
    },
    {
     "data": {
      "text/html": [
       "<style>/* Styles used for the Hoogle display in the pager */\n",
       ".hoogle-doc {\n",
       "display: block;\n",
       "padding-bottom: 1.3em;\n",
       "padding-left: 0.4em;\n",
       "}\n",
       ".hoogle-code {\n",
       "display: block;\n",
       "font-family: monospace;\n",
       "white-space: pre;\n",
       "}\n",
       ".hoogle-text {\n",
       "display: block;\n",
       "}\n",
       ".hoogle-name {\n",
       "color: green;\n",
       "font-weight: bold;\n",
       "}\n",
       ".hoogle-head {\n",
       "font-weight: bold;\n",
       "}\n",
       ".hoogle-sub {\n",
       "display: block;\n",
       "margin-left: 0.4em;\n",
       "}\n",
       ".hoogle-package {\n",
       "font-weight: bold;\n",
       "font-style: italic;\n",
       "}\n",
       ".hoogle-module {\n",
       "font-weight: bold;\n",
       "}\n",
       ".hoogle-class {\n",
       "font-weight: bold;\n",
       "}\n",
       ".get-type {\n",
       "color: green;\n",
       "font-weight: bold;\n",
       "font-family: monospace;\n",
       "display: block;\n",
       "white-space: pre-wrap;\n",
       "}\n",
       ".show-type {\n",
       "color: green;\n",
       "font-weight: bold;\n",
       "font-family: monospace;\n",
       "margin-left: 1em;\n",
       "}\n",
       ".mono {\n",
       "font-family: monospace;\n",
       "display: block;\n",
       "}\n",
       ".err-msg {\n",
       "color: red;\n",
       "font-style: italic;\n",
       "font-family: monospace;\n",
       "white-space: pre;\n",
       "display: block;\n",
       "}\n",
       "#unshowable {\n",
       "color: red;\n",
       "font-weight: bold;\n",
       "}\n",
       ".err-msg.in.collapse {\n",
       "padding-top: 0.7em;\n",
       "}\n",
       ".highlight-code {\n",
       "white-space: pre;\n",
       "font-family: monospace;\n",
       "}\n",
       ".suggestion-warning { \n",
       "font-weight: bold;\n",
       "color: rgb(200, 130, 0);\n",
       "}\n",
       ".suggestion-error { \n",
       "font-weight: bold;\n",
       "color: red;\n",
       "}\n",
       ".suggestion-name {\n",
       "font-weight: bold;\n",
       "}\n",
       "</style><span class='get-type'>gamma :: forall (m :: * -> *). MonadSample m => Double -> Double -> m Double</span>"
      ],
      "text/plain": [
       "gamma :: forall (m :: * -> *). MonadSample m => Double -> Double -> m Double"
      ]
     },
     "metadata": {},
     "output_type": "display_data"
    }
   ],
   "source": [
    ":t normal\n",
    ":t gamma"
   ]
  },
  {
   "cell_type": "markdown",
   "metadata": {},
   "source": [
    "we now build a sigmoid function from those. First we build a scaled and shifted normal distribution that is then passed through the exponential."
   ]
  },
  {
   "cell_type": "code",
   "execution_count": 14,
   "metadata": {},
   "outputs": [],
   "source": [
    "sigmoid :: MonadSample m => Double -> m Double\n",
    "sigmoid x = do\n",
    "    m <- normal 0 1\n",
    "    b <- normal 0 1\n",
    "    sigma <- gamma 1 1\n",
    "    n <- normal (m * x + b) sigma\n",
    "    return (1 / (1 + exp (- n)))"
   ]
  },
  {
   "cell_type": "markdown",
   "metadata": {},
   "source": [
    "we can take 100 samples of the final distribution at a few x values and plot the resulting model distribution ..."
   ]
  },
  {
   "cell_type": "code",
   "execution_count": 15,
   "metadata": {},
   "outputs": [
    {
     "data": {
      "application/vnd.vegalite.v2+json": {
       "$schema": "https://vega.github.io/schema/vega-lite/v3.json",
       "config": {
        "axis": {
         "domainWidth": 1
        },
        "selection": {
         "single": {
          "on": "dblclick"
         }
        }
       },
       "data": {
        "values": [
         {
          "X": -10,
          "Y": 1.0997476874619009e-08
         },
         {
          "X": -10,
          "Y": 0.003745878495144002
         },
         {
          "X": -10,
          "Y": 6.368226316023605e-06
         },
         {
          "X": -10,
          "Y": 0.9219936279746949
         },
         {
          "X": -10,
          "Y": 5.768296902301941e-07
         },
         {
          "X": -10,
          "Y": 0.005290234618412058
         },
         {
          "X": -10,
          "Y": 0.9973968433041063
         },
         {
          "X": -10,
          "Y": 0.9999652611424226
         },
         {
          "X": -10,
          "Y": 0.9999652611424226
         },
         {
          "X": -10,
          "Y": 0.17400147925996473
         },
         {
          "X": -10,
          "Y": 0.0005959088505429753
         },
         {
          "X": -10,
          "Y": 1.790594543574563e-06
         },
         {
          "X": -10,
          "Y": 0.9956633313967521
         },
         {
          "X": -10,
          "Y": 0.9956633313967521
         },
         {
          "X": -10,
          "Y": 0.9999963687567498
         },
         {
          "X": -10,
          "Y": 0.9990352230404143
         },
         {
          "X": -10,
          "Y": 0.49932290358095616
         },
         {
          "X": -10,
          "Y": 0.9999987583524308
         },
         {
          "X": -10,
          "Y": 0.0009663197781041685
         },
         {
          "X": -10,
          "Y": 0.13286459529387146
         },
         {
          "X": -10,
          "Y": 0.9990352230404143
         },
         {
          "X": -10,
          "Y": 1.790594543574563e-06
         },
         {
          "X": -10,
          "Y": 1.1864222870670743e-08
         },
         {
          "X": -10,
          "Y": 0.015101216801203483
         },
         {
          "X": -10,
          "Y": 0.5530803448767949
         },
         {
          "X": -10,
          "Y": 0.08554951348013706
         },
         {
          "X": -10,
          "Y": 0.0468993342759829
         },
         {
          "X": -10,
          "Y": 0.9999678346553255
         },
         {
          "X": -10,
          "Y": 0.7184101762460826
         },
         {
          "X": -10,
          "Y": 0.008136240811561668
         },
         {
          "X": -10,
          "Y": 0.010398278018482164
         },
         {
          "X": -10,
          "Y": 0.9920274010989777
         },
         {
          "X": -10,
          "Y": 1.1864222870670743e-08
         },
         {
          "X": -10,
          "Y": 0.029877683774436923
         },
         {
          "X": -10,
          "Y": 0.9999999453392193
         },
         {
          "X": -10,
          "Y": 0.048459746556230254
         },
         {
          "X": -10,
          "Y": 0.008346384773700288
         },
         {
          "X": -10,
          "Y": 0.04322994436823856
         },
         {
          "X": -10,
          "Y": 0.9973968433041063
         },
         {
          "X": -10,
          "Y": 0.9999943896586143
         },
         {
          "X": -10,
          "Y": 4.4150291546421753e-08
         },
         {
          "X": -10,
          "Y": 5.768296902301941e-07
         },
         {
          "X": -10,
          "Y": 0.9920274010989777
         },
         {
          "X": -10,
          "Y": 0.09568195254765983
         },
         {
          "X": -10,
          "Y": 0.7634429760348269
         },
         {
          "X": -10,
          "Y": 0.0009812864501612423
         },
         {
          "X": -10,
          "Y": 2.3242614090181065e-08
         },
         {
          "X": -10,
          "Y": 0.9999999999995055
         },
         {
          "X": -10,
          "Y": 1.1864222870670743e-08
         },
         {
          "X": -10,
          "Y": 0.0009663197781041685
         },
         {
          "X": -10,
          "Y": 0.029877683774436923
         },
         {
          "X": -10,
          "Y": 0.4358848141538802
         },
         {
          "X": -10,
          "Y": 0.49932290358095616
         },
         {
          "X": -10,
          "Y": 0.999993594762956
         },
         {
          "X": -10,
          "Y": 0.9984929302948347
         },
         {
          "X": -10,
          "Y": 0.9999953282471261
         },
         {
          "X": -10,
          "Y": 0.9999678346553255
         },
         {
          "X": -10,
          "Y": 0.017528035875920934
         },
         {
          "X": -10,
          "Y": 0.9997294931682695
         },
         {
          "X": -10,
          "Y": 0.5181868726661863
         },
         {
          "X": -10,
          "Y": 0.9999963687567498
         },
         {
          "X": -10,
          "Y": 0.9999999985718444
         },
         {
          "X": -10,
          "Y": 0.24054521311096128
         },
         {
          "X": -10,
          "Y": 0.049705159252630395
         },
         {
          "X": -10,
          "Y": 6.368226316023605e-06
         },
         {
          "X": -10,
          "Y": 0.9860022329836442
         },
         {
          "X": -10,
          "Y": 1.1864222870670743e-08
         },
         {
          "X": -10,
          "Y": 0.0009958280978263608
         },
         {
          "X": -10,
          "Y": 0.7634429760348269
         },
         {
          "X": -10,
          "Y": 0.5530803448767949
         },
         {
          "X": -10,
          "Y": 0.9860022329836442
         },
         {
          "X": -10,
          "Y": 6.525341268812402e-08
         },
         {
          "X": -10,
          "Y": 0.8212081416075854
         },
         {
          "X": -10,
          "Y": 0.048459746556230254
         },
         {
          "X": -10,
          "Y": 0.003745878495144002
         },
         {
          "X": -10,
          "Y": 0.9999999997548812
         },
         {
          "X": -10,
          "Y": 0.9219936279746949
         },
         {
          "X": -10,
          "Y": 0.049705159252630395
         },
         {
          "X": -10,
          "Y": 0.9999984670702138
         },
         {
          "X": -10,
          "Y": 0.17252373554485456
         },
         {
          "X": -10,
          "Y": 0.048459746556230254
         },
         {
          "X": -10,
          "Y": 0.0009812864501612423
         },
         {
          "X": -10,
          "Y": 0.5530803448767949
         },
         {
          "X": -10,
          "Y": 0.010398278018482164
         },
         {
          "X": -10,
          "Y": 0.029062692313610198
         },
         {
          "X": -10,
          "Y": 0.9999953282471261
         },
         {
          "X": -10,
          "Y": 0.17252373554485456
         },
         {
          "X": -10,
          "Y": 0.7004347441698515
         },
         {
          "X": -10,
          "Y": 0.006090163610845287
         },
         {
          "X": -10,
          "Y": 0.7004347441698515
         },
         {
          "X": -10,
          "Y": 0.9999998831809717
         },
         {
          "X": -10,
          "Y": 2.3242614090181065e-08
         },
         {
          "X": -10,
          "Y": 8.430168085911697e-07
         },
         {
          "X": -10,
          "Y": 0.7184101762460826
         },
         {
          "X": -10,
          "Y": 0.0468993342759829
         },
         {
          "X": -10,
          "Y": 0.7634429760348269
         },
         {
          "X": -10,
          "Y": 3.710867430313614e-05
         },
         {
          "X": -10,
          "Y": 0.8212081416075854
         },
         {
          "X": -10,
          "Y": 0.17765269023598954
         },
         {
          "X": -10,
          "Y": 0.9999987583524308
         },
         {
          "X": -9,
          "Y": 6.797178901176685e-08
         },
         {
          "X": -9,
          "Y": 0.005491469431213112
         },
         {
          "X": -9,
          "Y": 1.5439398767544737e-05
         },
         {
          "X": -9,
          "Y": 0.889530748024696
         },
         {
          "X": -9,
          "Y": 1.305784453786037e-06
         },
         {
          "X": -9,
          "Y": 0.008681096731331417
         },
         {
          "X": -9,
          "Y": 0.9950013359908428
         },
         {
          "X": -9,
          "Y": 0.9999175429102494
         },
         {
          "X": -9,
          "Y": 0.9999175429102494
         },
         {
          "X": -9,
          "Y": 0.21234892765551083
         },
         {
          "X": -9,
          "Y": 0.0015217035004536764
         },
         {
          "X": -9,
          "Y": 6.097615532457837e-06
         },
         {
          "X": -9,
          "Y": 0.9926957499208882
         },
         {
          "X": -9,
          "Y": 0.9926957499208882
         },
         {
          "X": -9,
          "Y": 0.999986955921372
         },
         {
          "X": -9,
          "Y": 0.9983164895891276
         },
         {
          "X": -9,
          "Y": 0.6043832798118617
         },
         {
          "X": -9,
          "Y": 0.9999952242696675
         },
         {
          "X": -9,
          "Y": 0.0021100040125049055
         },
         {
          "X": -9,
          "Y": 0.14991179159542298
         },
         {
          "X": -9,
          "Y": 0.9983164895891276
         },
         {
          "X": -9,
          "Y": 6.097615532457837e-06
         },
         {
          "X": -9,
          "Y": 4.717997619082167e-08
         },
         {
          "X": -9,
          "Y": 0.022039769201828267
         },
         {
          "X": -9,
          "Y": 0.5622779137422026
         },
         {
          "X": -9,
          "Y": 0.10598321056787674
         },
         {
          "X": -9,
          "Y": 0.06186629264892872
         },
         {
          "X": -9,
          "Y": 0.9999083941433774
         },
         {
          "X": -9,
          "Y": 0.7131550002132567
         },
         {
          "X": -9,
          "Y": 0.012362085148508858
         },
         {
          "X": -9,
          "Y": 0.013070999266621117
         },
         {
          "X": -9,
          "Y": 0.988472853118683
         },
         {
          "X": -9,
          "Y": 4.717997619082167e-08
         },
         {
          "X": -9,
          "Y": 0.041922909779724994
         },
         {
          "X": -9,
          "Y": 0.9999997494001502
         },
         {
          "X": -9,
          "Y": 0.06387642015107661
         },
         {
          "X": -9,
          "Y": 0.011880962706433613
         },
         {
          "X": -9,
          "Y": 0.06494820832040384
         },
         {
          "X": -9,
          "Y": 0.9950013359908428
         },
         {
          "X": -9,
          "Y": 0.9999811289257842
         },
         {
          "X": -9,
          "Y": 1.763580273720258e-07
         },
         {
          "X": -9,
          "Y": 1.305784453786037e-06
         },
         {
          "X": -9,
          "Y": 0.988472853118683
         },
         {
          "X": -9,
          "Y": 0.1317151248647589
         },
         {
          "X": -9,
          "Y": 0.7749202638649697
         },
         {
          "X": -9,
          "Y": 0.0015480125915363486
         },
         {
          "X": -9,
          "Y": 1.2231146725615244e-07
         },
         {
          "X": -9,
          "Y": 0.9999999999927138
         },
         {
          "X": -9,
          "Y": 4.717997619082167e-08
         },
         {
          "X": -9,
          "Y": 0.0021100040125049055
         },
         {
          "X": -9,
          "Y": 0.041922909779724994
         },
         {
          "X": -9,
          "Y": 0.44233660979961636
         },
         {
          "X": -9,
          "Y": 0.6043832798118617
         },
         {
          "X": -9,
          "Y": 0.9999830880273839
         },
         {
          "X": -9,
          "Y": 0.9968193099183271
         },
         {
          "X": -9,
          "Y": 0.9999877242154387
         },
         {
          "X": -9,
          "Y": 0.9999083941433774
         },
         {
          "X": -9,
          "Y": 0.02571958619652279
         },
         {
          "X": -9,
          "Y": 0.999506402488846
         },
         {
          "X": -9,
          "Y": 0.5474141824508324
         },
         {
          "X": -9,
          "Y": 0.999986955921372
         },
         {
          "X": -9,
          "Y": 0.9999999898283666
         },
         {
          "X": -9,
          "Y": 0.21610038349087596
         },
         {
          "X": -9,
          "Y": 0.05930454474063667
         },
         {
          "X": -9,
          "Y": 1.5439398767544737e-05
         },
         {
          "X": -9,
          "Y": 0.9805608644012968
         },
         {
          "X": -9,
          "Y": 4.717997619082167e-08
         },
         {
          "X": -9,
          "Y": 0.001964146847499613
         },
         {
          "X": -9,
          "Y": 0.7749202638649697
         },
         {
          "X": -9,
          "Y": 0.5622779137422026
         },
         {
          "X": -9,
          "Y": 0.9805608644012968
         },
         {
          "X": -9,
          "Y": 3.1422448453939193e-07
         },
         {
          "X": -9,
          "Y": 0.7916679456284247
         },
         {
          "X": -9,
          "Y": 0.06387642015107661
         },
         {
          "X": -9,
          "Y": 0.005491469431213112
         },
         {
          "X": -9,
          "Y": 0.9999999978899397
         },
         {
          "X": -9,
          "Y": 0.889530748024696
         },
         {
          "X": -9,
          "Y": 0.05930454474063667
         },
         {
          "X": -9,
          "Y": 0.9999943308453586
         },
         {
          "X": -9,
          "Y": 0.18734602362364272
         },
         {
          "X": -9,
          "Y": 0.06387642015107661
         },
         {
          "X": -9,
          "Y": 0.0015480125915363486
         },
         {
          "X": -9,
          "Y": 0.5622779137422026
         },
         {
          "X": -9,
          "Y": 0.013070999266621117
         },
         {
          "X": -9,
          "Y": 0.03916026181285694
         },
         {
          "X": -9,
          "Y": 0.9999877242154387
         },
         {
          "X": -9,
          "Y": 0.18734602362364272
         },
         {
          "X": -9,
          "Y": 0.689435781822609
         },
         {
          "X": -9,
          "Y": 0.008785454834495604
         },
         {
          "X": -9,
          "Y": 0.689435781822609
         },
         {
          "X": -9,
          "Y": 0.9999994790975342
         },
         {
          "X": -9,
          "Y": 1.2231146725615244e-07
         },
         {
          "X": -9,
          "Y": 3.4273315808157795e-06
         },
         {
          "X": -9,
          "Y": 0.7131550002132567
         },
         {
          "X": -9,
          "Y": 0.06186629264892872
         },
         {
          "X": -9,
          "Y": 0.7749202638649697
         },
         {
          "X": -9,
          "Y": 0.00010977712309549775
         },
         {
          "X": -9,
          "Y": 0.7916679456284247
         },
         {
          "X": -9,
          "Y": 0.20750209405444556
         },
         {
          "X": -9,
          "Y": 0.9999952242696675
         },
         {
          "X": -8,
          "Y": 4.201111573520827e-07
         },
         {
          "X": -8,
          "Y": 0.008043943174778726
         },
         {
          "X": -8,
          "Y": 3.743145145345981e-05
         },
         {
          "X": -8,
          "Y": 0.8458174039353197
         },
         {
          "X": -8,
          "Y": 2.9559356911005796e-06
         },
         {
          "X": -8,
          "Y": 0.014214329058302777
         },
         {
          "X": -8,
          "Y": 0.9904225746967237
         },
         {
          "X": -8,
          "Y": 0.9998042904553486
         },
         {
          "X": -8,
          "Y": 0.9998042904553486
         },
         {
          "X": -8,
          "Y": 0.25652298411959057
         },
         {
          "X": -8,
          "Y": 0.0038802139678634066
         },
         {
          "X": -8,
          "Y": 2.076434898498e-05
         },
         {
          "X": -8,
          "Y": 0.9877224937368947
         },
         {
          "X": -8,
          "Y": 0.9877224937368947
         },
         {
          "X": -8,
          "Y": 0.9999531444675971
         },
         {
          "X": -8,
          "Y": 0.9970638922471705
         },
         {
          "X": -8,
          "Y": 0.7006161830991631
         },
         {
          "X": -8,
          "Y": 0.9999816313651673
         },
         {
          "X": -8,
          "Y": 0.00460105750336267
         },
         {
          "X": -8,
          "Y": 0.16872065214663767
         },
         {
          "X": -8,
          "Y": 0.9970638922471705
         },
         {
          "X": -8,
          "Y": 2.076434898498e-05
         },
         {
          "X": -8,
          "Y": 1.8761868717678314e-07
         },
         {
          "X": -8,
          "Y": 0.03206259200221279
         },
         {
          "X": -8,
          "Y": 0.5714328694357971
         },
         {
          "X": -8,
          "Y": 0.13060049768436052
         },
         {
          "X": -8,
          "Y": 0.08120270643203097
         },
         {
          "X": -8,
          "Y": 0.9997391381515605
         },
         {
          "X": -8,
          "Y": 0.7078416337806224
         },
         {
          "X": -8,
          "Y": 0.018741299546034047
         },
         {
          "X": -8,
          "Y": 0.01641930508013624
         },
         {
          "X": -8,
          "Y": 0.983360108124009
         },
         {
          "X": -8,
          "Y": 1.8761868717678314e-07
         },
         {
          "X": -8,
          "Y": 0.05853119987936947
         },
         {
          "X": -8,
          "Y": 0.9999988510914063
         },
         {
          "X": -8,
          "Y": 0.08376589770067888
         },
         {
          "X": -8,
          "Y": 0.016886895454898288
         },
         {
          "X": -8,
          "Y": 0.09647726825588282
         },
         {
          "X": -8,
          "Y": 0.9904225746967237
         },
         {
          "X": -8,
          "Y": 0.9999365268072042
         },
         {
          "X": -8,
          "Y": 7.044606143237585e-07
         },
         {
          "X": -8,
          "Y": 2.9559356911005796e-06
         },
         {
          "X": -8,
          "Y": 0.983360108124009
         },
         {
          "X": -8,
          "Y": 0.178637578170769
         },
         {
          "X": -8,
          "Y": 0.7859967900200445
         },
         {
          "X": -8,
          "Y": 0.002441242451037787
         },
         {
          "X": -8,
          "Y": 6.436491457942131e-07
         },
         {
          "X": -8,
          "Y": 0.999999999892637
         },
         {
          "X": -8,
          "Y": 1.8761868717678314e-07
         },
         {
          "X": -8,
          "Y": 0.00460105750336267
         },
         {
          "X": -8,
          "Y": 0.05853119987936947
         },
         {
          "X": -8,
          "Y": 0.44880792537870035
         },
         {
          "X": -8,
          "Y": 0.7006161830991631
         },
         {
          "X": -8,
          "Y": 0.99995534749354
         },
         {
          "X": -8,
          "Y": 0.993299584527857
         },
         {
          "X": -8,
          "Y": 0.9999677437943404
         },
         {
          "X": -8,
          "Y": 0.9997391381515605
         },
         {
          "X": -8,
          "Y": 0.037592892634037776
         },
         {
          "X": -8,
          "Y": 0.9990994916042462
         },
         {
          "X": -8,
          "Y": 0.576318146212633
         },
         {
          "X": -8,
          "Y": 0.9999531444675971
         },
         {
          "X": -8,
          "Y": 0.9999999275554242
         },
         {
          "X": -8,
          "Y": 0.19350674792177933
         },
         {
          "X": -8,
          "Y": 0.0706200562114376
         },
         {
          "X": -8,
          "Y": 3.743145145345981e-05
         },
         {
          "X": -8,
          "Y": 0.9730620550083939
         },
         {
          "X": -8,
          "Y": 1.8761868717678314e-07
         },
         {
          "X": -8,
          "Y": 0.0038703870628724424
         },
         {
          "X": -8,
          "Y": 0.7859967900200445
         },
         {
          "X": -8,
          "Y": 0.5714328694357971
         },
         {
          "X": -8,
          "Y": 0.9730620550083939
         },
         {
          "X": -8,
          "Y": 1.5131305601155102e-06
         },
         {
          "X": -8,
          "Y": 0.7586813077087384
         },
         {
          "X": -8,
          "Y": 0.08376589770067888
         },
         {
          "X": -8,
          "Y": 0.008043943174778726
         },
         {
          "X": -8,
          "Y": 0.999999981835939
         },
         {
          "X": -8,
          "Y": 0.8458174039353197
         },
         {
          "X": -8,
          "Y": 0.0706200562114376
         },
         {
          "X": -8,
          "Y": 0.9999790342937113
         },
         {
          "X": -8,
          "Y": 0.20312915420824382
         },
         {
          "X": -8,
          "Y": 0.08376589770067888
         },
         {
          "X": -8,
          "Y": 0.002441242451037787
         },
         {
          "X": -8,
          "Y": 0.5714328694357971
         },
         {
          "X": -8,
          "Y": 0.01641930508013624
         },
         {
          "X": -8,
          "Y": 0.05257616585831214
         },
         {
          "X": -8,
          "Y": 0.9999677437943404
         },
         {
          "X": -8,
          "Y": 0.20312915420824382
         },
         {
          "X": -8,
          "Y": 0.6782185032598578
         },
         {
          "X": -8,
          "Y": 0.012658394748492783
         },
         {
          "X": -8,
          "Y": 0.6782185032598578
         },
         {
          "X": -8,
          "Y": 0.9999976772705329
         },
         {
          "X": -8,
          "Y": 6.436491457942131e-07
         },
         {
          "X": -8,
          "Y": 1.393389619874338e-05
         },
         {
          "X": -8,
          "Y": 0.7078416337806224
         },
         {
          "X": -8,
          "Y": 0.08120270643203097
         },
         {
          "X": -8,
          "Y": 0.7859967900200445
         },
         {
          "X": -8,
          "Y": 0.000324703112059989
         },
         {
          "X": -8,
          "Y": 0.7586813077087384
         },
         {
          "X": -8,
          "Y": 0.24089764201783906
         },
         {
          "X": -8,
          "Y": 0.9999816313651673
         },
         {
          "X": -7,
          "Y": 2.5965634437210634e-06
         },
         {
          "X": -7,
          "Y": 0.011768785049595398
         },
         {
          "X": -7,
          "Y": 9.074638778390895e-05
         },
         {
          "X": -7,
          "Y": 0.7889112170246492
         },
         {
          "X": -7,
          "Y": 6.691408803240361e-06
         },
         {
          "X": -7,
          "Y": 0.02319187092640221
         },
         {
          "X": -7,
          "Y": 0.9817267073610241
         },
         {
          "X": -7,
          "Y": 0.9995355612410572
         },
         {
          "X": -7,
          "Y": 0.9995355612410572
         },
         {
          "X": -7,
          "Y": 0.30631270444489506
         },
         {
          "X": -7,
          "Y": 0.00985812304716623
         },
         {
          "X": -7,
          "Y": 7.070681587287037e-05
         },
         {
          "X": -7,
          "Y": 0.97943324335367
         },
         {
          "X": -7,
          "Y": 0.97943324335367
         },
         {
          "X": -7,
          "Y": 0.9998317053599569
         },
         {
          "X": -7,
          "Y": 0.9948840896494316
         },
         {
          "X": -7,
          "Y": 0.7818883520251974
         },
         {
          "X": -7,
          "Y": 0.9999293524406284
         },
         {
          "X": -7,
          "Y": 0.010003546573855313
         },
         {
          "X": -7,
          "Y": 0.18936370808892283
         },
         {
          "X": -7,
          "Y": 0.9948840896494316
         },
         {
          "X": -7,
          "Y": 7.070681587287037e-05
         },
         {
          "X": -7,
          "Y": 7.460952697455228e-07
         },
         {
          "X": -7,
          "Y": 0.046427018828374474
         },
         {
          "X": -7,
          "Y": 0.5805391907663556
         },
         {
          "X": -7,
          "Y": 0.1599129956928033
         },
         {
          "X": -7,
          "Y": 0.10590051837737459
         },
         {
          "X": -7,
          "Y": 0.9992573877863312
         },
         {
          "X": -7,
          "Y": 0.7024709071118012
         },
         {
          "X": -7,
          "Y": 0.0283179978969974
         },
         {
          "X": -7,
          "Y": 0.020607413492560598
         },
         {
          "X": -7,
          "Y": 0.9760346388753368
         },
         {
          "X": -7,
          "Y": 7.460952697455228e-07
         },
         {
          "X": -7,
          "Y": 0.08116169676948659
         },
         {
          "X": -7,
          "Y": 0.9999947326915508
         },
         {
          "X": -7,
          "Y": 0.10912650445233274
         },
         {
          "X": -7,
          "Y": 0.023950906509401394
         },
         {
          "X": -7,
          "Y": 0.14100400818361022
         },
         {
          "X": -7,
          "Y": 0.9817267073610241
         },
         {
          "X": -7,
          "Y": 0.999786529294417
         },
         {
          "X": -7,
          "Y": 2.81395737827822e-06
         },
         {
          "X": -7,
          "Y": 6.691408803240361e-06
         },
         {
          "X": -7,
          "Y": 0.9760346388753368
         },
         {
          "X": -7,
          "Y": 0.23769971277191604
         },
         {
          "X": -7,
          "Y": 0.7966712481741405
         },
         {
          "X": -7,
          "Y": 0.0038478949703337744
         },
         {
          "X": -7,
          "Y": 3.3871174271760363e-06
         },
         {
          "X": -7,
          "Y": 0.9999999984179901
         },
         {
          "X": -7,
          "Y": 7.460952697455228e-07
         },
         {
          "X": -7,
          "Y": 0.010003546573855313
         },
         {
          "X": -7,
          "Y": 0.08116169676948659
         },
         {
          "X": -7,
          "Y": 0.4552966197319861
         },
         {
          "X": -7,
          "Y": 0.7818883520251974
         },
         {
          "X": -7,
          "Y": 0.9998821098132088
         },
         {
          "X": -7,
          "Y": 0.9859398974916656
         },
         {
          "X": -7,
          "Y": 0.9999152454197576
         },
         {
          "X": -7,
          "Y": 0.9992573877863312
         },
         {
          "X": -7,
          "Y": 0.05464004428453276
         },
         {
          "X": -7,
          "Y": 0.9983576835594605
         },
         {
          "X": -7,
          "Y": 0.6047091380231714
         },
         {
          "X": -7,
          "Y": 0.9998317053599569
         },
         {
          "X": -7,
          "Y": 0.9999994840342374
         },
         {
          "X": -7,
          "Y": 0.17275473407393976
         },
         {
          "X": -7,
          "Y": 0.08390203837012596
         },
         {
          "X": -7,
          "Y": 9.074638778390895e-05
         },
         {
          "X": -7,
          "Y": 0.9627803179474218
         },
         {
          "X": -7,
          "Y": 7.460952697455228e-07
         },
         {
          "X": -7,
          "Y": 0.007612556797572405
         },
         {
          "X": -7,
          "Y": 0.7966712481741405
         },
         {
          "X": -7,
          "Y": 0.5805391907663556
         },
         {
          "X": -7,
          "Y": 0.9627803179474218
         },
         {
          "X": -7,
          "Y": 7.286362875467317e-06
         },
         {
          "X": -7,
          "Y": 0.7223037605817397
         },
         {
          "X": -7,
          "Y": 0.10912650445233274
         },
         {
          "X": -7,
          "Y": 0.011768785049595398
         },
         {
          "X": -7,
          "Y": 0.9999998436380844
         },
         {
          "X": -7,
          "Y": 0.7889112170246492
         },
         {
          "X": -7,
          "Y": 0.08390203837012596
         },
         {
          "X": -7,
          "Y": 0.9999224676823043
         },
         {
          "X": -7,
          "Y": 0.2198821774891774
         },
         {
          "X": -7,
          "Y": 0.10912650445233274
         },
         {
          "X": -7,
          "Y": 0.0038478949703337744
         },
         {
          "X": -7,
          "Y": 0.5805391907663556
         },
         {
          "X": -7,
          "Y": 0.020607413492560598
         },
         {
          "X": -7,
          "Y": 0.07025217164862947
         },
         {
          "X": -7,
          "Y": 0.9999152454197576
         },
         {
          "X": -7,
          "Y": 0.2198821774891774
         },
         {
          "X": -7,
          "Y": 0.6667918821921415
         },
         {
          "X": -7,
          "Y": 0.01820730247965707
         },
         {
          "X": -7,
          "Y": 0.6667918821921415
         },
         {
          "X": -7,
          "Y": 0.9999896429007238
         },
         {
          "X": -7,
          "Y": 3.3871174271760363e-06
         },
         {
          "X": -7,
          "Y": 5.6646754351516134e-05
         },
         {
          "X": -7,
          "Y": 0.7024709071118012
         },
         {
          "X": -7,
          "Y": 0.10590051837737459
         },
         {
          "X": -7,
          "Y": 0.7966712481741405
         },
         {
          "X": -7,
          "Y": 0.0009600156841697104
         },
         {
          "X": -7,
          "Y": 0.7223037605817397
         },
         {
          "X": -7,
          "Y": 0.27778396988957904
         },
         {
          "X": -7,
          "Y": 0.9999293524406284
         },
         {
          "X": -6,
          "Y": 1.6048290028456112e-05
         },
         {
          "X": -6,
          "Y": 0.017188570671828354
         },
         {
          "X": -6,
          "Y": 0.00021998296232120107
         },
         {
          "X": -6,
          "Y": 0.7180043595564928
         },
         {
          "X": -6,
          "Y": 1.5147400040902662e-05
         },
         {
          "X": -6,
          "Y": 0.03762308244697664
         },
         {
          "X": -6,
          "Y": 0.96541112298044
         },
         {
          "X": -6,
          "Y": 0.9988982459592365
         },
         {
          "X": -6,
          "Y": 0.9988982459592365
         },
         {
          "X": -6,
          "Y": 0.3610730150976401
         },
         {
          "X": -6,
          "Y": 0.024816239055036216
         },
         {
          "X": -6,
          "Y": 0.00024074211674071248
         },
         {
          "X": -6,
          "Y": 0.9657415557347732
         },
         {
          "X": -6,
          "Y": 0.9657415557347732
         },
         {
          "X": -6,
          "Y": 0.9993957133276279
         },
         {
          "X": -6,
          "Y": 0.9911004194384371
         },
         {
          "X": -6,
          "Y": 0.8459490796195754
         },
         {
          "X": -6,
          "Y": 0.9997283230267021
         },
         {
          "X": -6,
          "Y": 0.02161182432607101
         },
         {
          "X": -6,
          "Y": 0.2118886677860056
         },
         {
          "X": -6,
          "Y": 0.9911004194384371
         },
         {
          "X": -6,
          "Y": 0.00024074211674071248
         },
         {
          "X": -6,
          "Y": 2.9669604586273766e-06
         },
         {
          "X": -6,
          "Y": 0.06678286854501578
         },
         {
          "X": -6,
          "Y": 0.589590987546925
         },
         {
          "X": -6,
          "Y": 0.1943339232255968
         },
         {
          "X": -6,
          "Y": 0.1369901772621588
         },
         {
          "X": -6,
          "Y": 0.9978878376526529
         },
         {
          "X": -6,
          "Y": 0.6970437070705299
         },
         {
          "X": -6,
          "Y": 0.04257600413927483
         },
         {
          "X": -6,
          "Y": 0.025835731699249662
         },
         {
          "X": -6,
          "Y": 0.9655970633100734
         },
         {
          "X": -6,
          "Y": 2.9669604586273766e-06
         },
         {
          "X": -6,
          "Y": 0.11150573103116967
         },
         {
          "X": -6,
          "Y": 0.9999758517528119
         },
         {
          "X": -6,
          "Y": 0.14098373266289688
         },
         {
          "X": -6,
          "Y": 0.033868088334393545
         },
         {
          "X": -6,
          "Y": 0.20149799828371753
         },
         {
          "X": -6,
          "Y": 0.96541112298044
         },
         {
          "X": -6,
          "Y": 0.9992823175927992
         },
         {
          "X": -6,
          "Y": 1.1240239620108582e-05
         },
         {
          "X": -6,
          "Y": 1.5147400040902662e-05
         },
         {
          "X": -6,
          "Y": 0.9655970633100734
         },
         {
          "X": -6,
          "Y": 0.30894431028215685
         },
         {
          "X": -6,
          "Y": 0.8069440431898158
         },
         {
          "X": -6,
          "Y": 0.006060141762300354
         },
         {
          "X": -6,
          "Y": 1.782404340250853e-05
         },
         {
          "X": -6,
          "Y": 0.9999999766888489
         },
         {
          "X": -6,
          "Y": 2.9669604586273766e-06
         },
         {
          "X": -6,
          "Y": 0.02161182432607101
         },
         {
          "X": -6,
          "Y": 0.11150573103116967
         },
         {
          "X": -6,
          "Y": 0.46180052823210155
         },
         {
          "X": -6,
          "Y": 0.8459490796195754
         },
         {
          "X": -6,
          "Y": 0.9996887873067083
         },
         {
          "X": -6,
          "Y": 0.9707345569924399
         },
         {
          "X": -6,
          "Y": 0.9997773226891052
         },
         {
          "X": -6,
          "Y": 0.9978878376526529
         },
         {
          "X": -6,
          "Y": 0.0787847024931247
         },
         {
          "X": -6,
          "Y": 0.9970066302214623
         },
         {
          "X": -6,
          "Y": 0.6324110932804236
         },
         {
          "X": -6,
          "Y": 0.9993957133276279
         },
         {
          "X": -6,
          "Y": 0.9999963251914636
         },
         {
          "X": -6,
          "Y": 0.15380378879209397
         },
         {
          "X": -6,
          "Y": 0.09941483916121181
         },
         {
          "X": -6,
          "Y": 0.00021998296232120107
         },
         {
          "X": -6,
          "Y": 0.9487807906976061
         },
         {
          "X": -6,
          "Y": 2.9669604586273766e-06
         },
         {
          "X": -6,
          "Y": 0.014918737786378346
         },
         {
          "X": -6,
          "Y": 0.8069440431898158
         },
         {
          "X": -6,
          "Y": 0.589590987546925
         },
         {
          "X": -6,
          "Y": 0.9487807906976061
         },
         {
          "X": -6,
          "Y": 3.5086142545834866e-05
         },
         {
          "X": -6,
          "Y": 0.6827356638323522
         },
         {
          "X": -6,
          "Y": 0.14098373266289688
         },
         {
          "X": -6,
          "Y": 0.017188570671828354
         },
         {
          "X": -6,
          "Y": 0.9999986539891664
         },
         {
          "X": -6,
          "Y": 0.7180043595564928
         },
         {
          "X": -6,
          "Y": 0.09941483916121181
         },
         {
          "X": -6,
          "Y": 0.9997133250419529
         },
         {
          "X": -6,
          "Y": 0.23760491674089315
         },
         {
          "X": -6,
          "Y": 0.14098373266289688
         },
         {
          "X": -6,
          "Y": 0.006060141762300354
         },
         {
          "X": -6,
          "Y": 0.589590987546925
         },
         {
          "X": -6,
          "Y": 0.025835731699249662
         },
         {
          "X": -6,
          "Y": 0.09328568965219755
         },
         {
          "X": -6,
          "Y": 0.9997773226891052
         },
         {
          "X": -6,
          "Y": 0.23760491674089315
         },
         {
          "X": -6,
          "Y": 0.6551658037479555
         },
         {
          "X": -6,
          "Y": 0.026124258386930763
         },
         {
          "X": -6,
          "Y": 0.6551658037479555
         },
         {
          "X": -6,
          "Y": 0.9999538187611239
         },
         {
          "X": -6,
          "Y": 1.782404340250853e-05
         },
         {
          "X": -6,
          "Y": 0.00023026113021396656
         },
         {
          "X": -6,
          "Y": 0.6970437070705299
         },
         {
          "X": -6,
          "Y": 0.1369901772621588
         },
         {
          "X": -6,
          "Y": 0.8069440431898158
         },
         {
          "X": -6,
          "Y": 0.0028348528205220298
         },
         {
          "X": -6,
          "Y": 0.6827356638323522
         },
         {
          "X": -6,
          "Y": 0.3179526407462218
         },
         {
          "X": -6,
          "Y": 0.9997283230267021
         },
         {
          "X": -5,
          "Y": 9.918096425582835e-05
         },
         {
          "X": -5,
          "Y": 0.02504104232546354
         },
         {
          "X": -5,
          "Y": 0.0005331738151432123
         },
         {
          "X": -5,
          "Y": 0.6343195738327992
         },
         {
          "X": -5,
          "Y": 3.4288934205147845e-05
         },
         {
          "X": -5,
          "Y": 0.06047817870422683
         },
         {
          "X": -5,
          "Y": 0.9354852430323305
         },
         {
          "X": -5,
          "Y": 0.9973886743816702
         },
         {
          "X": -5,
          "Y": 0.9973886743816702
         },
         {
          "X": -5,
          "Y": 0.4196999639634804
         },
         {
          "X": -5,
          "Y": 0.06107098979110346
         },
         {
          "X": -5,
          "Y": 0.0008193421745653086
         },
         {
          "X": -5,
          "Y": 0.9434612093218567
         },
         {
          "X": -5,
          "Y": 0.9434612093218567
         },
         {
          "X": -5,
          "Y": 0.9978326681888575
         },
         {
          "X": -5,
          "Y": 0.9845618127202768
         },
         {
          "X": -5,
          "Y": 0.893751497660227
         },
         {
          "X": -5,
          "Y": 0.9989558566677585
         },
         {
          "X": -5,
          "Y": 0.04606376708805815
         },
         {
          "X": -5,
          "Y": 0.23631191722654663
         },
         {
          "X": -5,
          "Y": 0.9845618127202768
         },
         {
          "X": -5,
          "Y": 0.0008193421745653086
         },
         {
          "X": -5,
          "Y": 1.1798488111332746e-05
         },
         {
          "X": -5,
          "Y": 0.09517293364111581
         },
         {
          "X": -5,
          "Y": 0.5985825152042611
         },
         {
          "X": -5,
          "Y": 0.23409927521176124
         },
         {
          "X": -5,
          "Y": 0.17541627800391227
         },
         {
          "X": -5,
          "Y": 0.9940076641392114
         },
         {
          "X": -5,
          "Y": 0.6915609773398977
         },
         {
          "X": -5,
          "Y": 0.06354340032871515
         },
         {
          "X": -5,
          "Y": 0.03234671932066379
         },
         {
          "X": -5,
          "Y": 0.9508425849724134
         },
         {
          "X": -5,
          "Y": 1.1798488111332746e-05
         },
         {
          "X": -5,
          "Y": 0.15132612864003342
         },
         {
          "X": -5,
          "Y": 0.9998892986078636
         },
         {
          "X": -5,
          "Y": 0.1802592473687582
         },
         {
          "X": -5,
          "Y": 0.047690966522334274
         },
         {
          "X": -5,
          "Y": 0.2795006056365272
         },
         {
          "X": -5,
          "Y": 0.9354852430323305
         },
         {
          "X": -5,
          "Y": 0.9975900429833671
         },
         {
          "X": -5,
          "Y": 4.489755241401007e-05
         },
         {
          "X": -5,
          "Y": 3.4288934205147845e-05
         },
         {
          "X": -5,
          "Y": 0.9508425849724134
         },
         {
          "X": -5,
          "Y": 0.3906010666311022
         },
         {
          "X": -5,
          "Y": 0.8168171644140805
         },
         {
          "X": -5,
          "Y": 0.00953209166679879
         },
         {
          "X": -5,
          "Y": 9.378977312147238e-05
         },
         {
          "X": -5,
          "Y": 0.9999996565068076
         },
         {
          "X": -5,
          "Y": 1.1798488111332746e-05
         },
         {
          "X": -5,
          "Y": 0.04606376708805815
         },
         {
          "X": -5,
          "Y": 0.15132612864003342
         },
         {
          "X": -5,
          "Y": 0.4683174656286659
         },
         {
          "X": -5,
          "Y": 0.893751497660227
         },
         {
          "X": -5,
          "Y": 0.9991787048207178
         },
         {
          "X": -5,
          "Y": 0.9400846448223829
         },
         {
          "X": -5,
          "Y": 0.9994150869830345
         },
         {
          "X": -5,
          "Y": 0.9940076641392114
         },
         {
          "X": -5,
          "Y": 0.11233079431680656
         },
         {
          "X": -5,
          "Y": 0.9945501985625905
         },
         {
          "X": -5,
          "Y": 0.6592655872136599
         },
         {
          "X": -5,
          "Y": 0.9978326681888575
         },
         {
          "X": -5,
          "Y": 0.9999738278048592
         },
         {
          "X": -5,
          "Y": 0.13658848406054183
         },
         {
          "X": -5,
          "Y": 0.1174281767891664
         },
         {
          "X": -5,
          "Y": 0.0005331738151432123
         },
         {
          "X": -5,
          "Y": 0.9298989872454708
         },
         {
          "X": -5,
          "Y": 1.1798488111332746e-05
         },
         {
          "X": -5,
          "Y": 0.02903191703096615
         },
         {
          "X": -5,
          "Y": 0.8168171644140805
         },
         {
          "X": -5,
          "Y": 0.5985825152042611
         },
         {
          "X": -5,
          "Y": 0.9298989872454708
         },
         {
          "X": -5,
          "Y": 0.0001689329591120272
         },
         {
          "X": -5,
          "Y": 0.6403369766382115
         },
         {
          "X": -5,
          "Y": 0.1802592473687582
         },
         {
          "X": -5,
          "Y": 0.02504104232546354
         },
         {
          "X": -5,
          "Y": 0.9999884132350275
         },
         {
          "X": -5,
          "Y": 0.6343195738327992
         },
         {
          "X": -5,
          "Y": 0.1174281767891664
         },
         {
          "X": -5,
          "Y": 0.9989406199575304
         },
         {
          "X": -5,
          "Y": 0.25628684158587156
         },
         {
          "X": -5,
          "Y": 0.1802592473687582
         },
         {
          "X": -5,
          "Y": 0.00953209166679879
         },
         {
          "X": -5,
          "Y": 0.5985825152042611
         },
         {
          "X": -5,
          "Y": 0.03234671932066379
         },
         {
          "X": -5,
          "Y": 0.12287313641913512
         },
         {
          "X": -5,
          "Y": 0.9994150869830345
         },
         {
          "X": -5,
          "Y": 0.25628684158587156
         },
         {
          "X": -5,
          "Y": 0.6433510467648308
         },
         {
          "X": -5,
          "Y": 0.03735271925612554
         },
         {
          "X": -5,
          "Y": 0.6433510467648308
         },
         {
          "X": -5,
          "Y": 0.9997941081253306
         },
         {
          "X": -5,
          "Y": 9.378977312147238e-05
         },
         {
          "X": -5,
          "Y": 0.0009354814739072684
         },
         {
          "X": -5,
          "Y": 0.6915609773398977
         },
         {
          "X": -5,
          "Y": 0.17541627800391227
         },
         {
          "X": -5,
          "Y": 0.8168171644140805
         },
         {
          "X": -5,
          "Y": 0.008340535859379045
         },
         {
          "X": -5,
          "Y": 0.6403369766382115
         },
         {
          "X": -5,
          "Y": 0.36102624433053404
         },
         {
          "X": -5,
          "Y": 0.9989558566677585
         },
         {
          "X": -4,
          "Y": 0.0006126901531712292
         },
         {
          "X": -4,
          "Y": 0.03634818379633878
         },
         {
          "X": -4,
          "Y": 0.0012916799888159373
         },
         {
          "X": -4,
          "Y": 0.5416537721261245
         },
         {
          "X": -4,
          "Y": 7.76174502829027e-05
         },
         {
          "X": -4,
          "Y": 0.09583460755868799
         },
         {
          "X": -4,
          "Y": 0.8828107682876495
         },
         {
          "X": -4,
          "Y": 0.9938235479328696
         },
         {
          "X": -4,
          "Y": 0.9938235479328696
         },
         {
          "X": -4,
          "Y": 0.4806845195587524
         },
         {
          "X": -4,
          "Y": 0.14254900980915386
         },
         {
          "X": -4,
          "Y": 0.002784677375170691
         },
         {
          "X": -4,
          "Y": 0.9080699456054973
         },
         {
          "X": -4,
          "Y": 0.9080699456054973
         },
         {
          "X": -4,
          "Y": 0.9922579773096912
         },
         {
          "X": -4,
          "Y": 0.9733484125669941
         },
         {
          "X": -4,
          "Y": 0.9279834634837408
         },
         {
          "X": -4,
          "Y": 0.9959958132615598
         },
         {
          "X": -4,
          "Y": 0.095481142308841
         },
         {
          "X": -4,
          "Y": 0.2626122499817588
         },
         {
          "X": -4,
          "Y": 0.9733484125669941
         },
         {
          "X": -4,
          "Y": 0.002784677375170691
         },
         {
          "X": -4,
          "Y": 4.691692535730329e-05
         },
         {
          "X": -4,
          "Y": 0.13390022455445794
         },
         {
          "X": -4,
          "Y": 0.6075081885745418
         },
         {
          "X": -4,
          "Y": 0.27918192844648754
         },
         {
          "X": -4,
          "Y": 0.22185018655432942
         },
         {
          "X": -4,
          "Y": 0.9831199484211003
         },
         {
          "X": -4,
          "Y": 0.6860237184363809
         },
         {
          "X": -4,
          "Y": 0.09382470725636192
         },
         {
          "X": -4,
          "Y": 0.04043047201465833
         },
         {
          "X": -4,
          "Y": 0.9302176154505358
         },
         {
          "X": -4,
          "Y": 4.691692535730329e-05
         },
         {
          "X": -4,
          "Y": 0.20213184999376702
         },
         {
          "X": -4,
          "Y": 0.9994926754956959
         },
         {
          "X": -4,
          "Y": 0.22757751283873667
         },
         {
          "X": -4,
          "Y": 0.06676562386392841
         },
         {
          "X": -4,
          "Y": 0.3735722066089783
         },
         {
          "X": -4,
          "Y": 0.8828107682876495
         },
         {
          "X": -4,
          "Y": 0.9919396199172252
         },
         {
          "X": -4,
          "Y": 0.00017931887073172924
         },
         {
          "X": -4,
          "Y": 7.76174502829027e-05
         },
         {
          "X": -4,
          "Y": 0.9302176154505358
         },
         {
          "X": -4,
          "Y": 0.47888422787459356
         },
         {
          "X": -4,
          "Y": 0.8262940538200395
         },
         {
          "X": -4,
          "Y": 0.014963230571359577
         },
         {
          "X": -4,
          "Y": 0.0004933602445556559
         },
         {
          "X": -4,
          "Y": 0.999994938600262
         },
         {
          "X": -4,
          "Y": 4.691692535730329e-05
         },
         {
          "X": -4,
          "Y": 0.095481142308841
         },
         {
          "X": -4,
          "Y": 0.20213184999376702
         },
         {
          "X": -4,
          "Y": 0.4748452289526312
         },
         {
          "X": -4,
          "Y": 0.9279834634837408
         },
         {
          "X": -4,
          "Y": 0.9978344002159686
         },
         {
          "X": -4,
          "Y": 0.8812612626979904
         },
         {
          "X": -4,
          "Y": 0.9984644968516483
         },
         {
          "X": -4,
          "Y": 0.9831199484211003
         },
         {
          "X": -4,
          "Y": 0.15771520185945676
         },
         {
          "X": -4,
          "Y": 0.9900979801481112
         },
         {
          "X": -4,
          "Y": 0.6851349845422593
         },
         {
          "X": -4,
          "Y": 0.9922579773096912
         },
         {
          "X": -4,
          "Y": 0.999813625808976
         },
         {
          "X": -4,
          "Y": 0.12102450286604222
         },
         {
          "X": -4,
          "Y": 0.13820453568723112
         },
         {
          "X": -4,
          "Y": 0.0012916799888159373
         },
         {
          "X": -4,
          "Y": 0.904755227318696
         },
         {
          "X": -4,
          "Y": 4.691692535730329e-05
         },
         {
          "X": -4,
          "Y": 0.05574074234656079
         },
         {
          "X": -4,
          "Y": 0.8262940538200395
         },
         {
          "X": -4,
          "Y": 0.6075081885745418
         },
         {
          "X": -4,
          "Y": 0.904755227318696
         },
         {
          "X": -4,
          "Y": 0.0008129642606187106
         },
         {
          "X": -4,
          "Y": 0.595628120685614
         },
         {
          "X": -4,
          "Y": 0.22757751283873667
         },
         {
          "X": -4,
          "Y": 0.03634818379633878
         },
         {
          "X": -4,
          "Y": 0.9999002662833165
         },
         {
          "X": -4,
          "Y": 0.5416537721261245
         },
         {
          "X": -4,
          "Y": 0.13820453568723112
         },
         {
          "X": -4,
          "Y": 0.9960933008311675
         },
         {
          "X": -4,
          "Y": 0.27590607107089377
         },
         {
          "X": -4,
          "Y": 0.22757751283873667
         },
         {
          "X": -4,
          "Y": 0.014963230571359577
         },
         {
          "X": -4,
          "Y": 0.6075081885745418
         },
         {
          "X": -4,
          "Y": 0.04043047201465833
         },
         {
          "X": -4,
          "Y": 0.16018694804683206
         },
         {
          "X": -4,
          "Y": 0.9984644968516483
         },
         {
          "X": -4,
          "Y": 0.27590607107089377
         },
         {
          "X": -4,
          "Y": 0.631359258239452
         },
         {
          "X": -4,
          "Y": 0.053143924015961914
         },
         {
          "X": -4,
          "Y": 0.631359258239452
         },
         {
          "X": -4,
          "Y": 0.9990825698342625
         },
         {
          "X": -4,
          "Y": 0.0004933602445556559
         },
         {
          "X": -4,
          "Y": 0.0037923859046247255
         },
         {
          "X": -4,
          "Y": 0.6860237184363809
         },
         {
          "X": -4,
          "Y": 0.22185018655432942
         },
         {
          "X": -4,
          "Y": 0.8262940538200395
         },
         {
          "X": -4,
          "Y": 0.024278684575607643
         },
         {
          "X": -4,
          "Y": 0.595628120685614
         },
         {
          "X": -4,
          "Y": 0.4064576558929036
         },
         {
          "X": -4,
          "Y": 0.9959958132615598
         },
         {
          "X": -3,
          "Y": 0.003774854681724805
         },
         {
          "X": -3,
          "Y": 0.052486141232696876
         },
         {
          "X": -3,
          "Y": 0.003125880845446738
         },
         {
          "X": -3,
          "Y": 0.4460140687341977
         },
         {
          "X": -3,
          "Y": 0.00017568754724890895
         },
         {
          "X": -3,
          "Y": 0.14859183780884574
         },
         {
          "X": -3,
          "Y": 0.7964852901240486
         },
         {
          "X": -3,
          "Y": 0.985462059185091
         },
         {
          "X": -3,
          "Y": 0.985462059185091
         },
         {
          "X": -3,
          "Y": 0.5422501097831323
         },
         {
          "X": -3,
          "Y": 0.2982064191871205
         },
         {
          "X": -3,
          "Y": 0.009419768968639337
         },
         {
          "X": -3,
          "Y": 0.8539543520287061
         },
         {
          "X": -3,
          "Y": 0.8539543520287061
         },
         {
          "X": -3,
          "Y": 0.9727361581535547
         },
         {
          "X": -3,
          "Y": 0.954367743190383
         },
         {
          "X": -3,
          "Y": 0.951781339777334
         },
         {
          "X": -3,
          "Y": 0.9847722547652495
         },
         {
          "X": -3,
          "Y": 0.18749366903946765
         },
         {
          "X": -3,
          "Y": 0.2907253737904688
         },
         {
          "X": -3,
          "Y": 0.954367743190383
         },
         {
          "X": -3,
          "Y": 0.009419768968639337
         },
         {
          "X": -3,
          "Y": 0.00018654659755692357
         },
         {
          "X": -3,
          "Y": 0.185161408244041
         },
         {
          "X": -3,
          "Y": 0.6163625948201333
         },
         {
          "X": -3,
          "Y": 0.329214701118571
         },
         {
          "X": -3,
          "Y": 0.27645459659854105
         },
         {
          "X": -3,
          "Y": 0.953377761139896
         },
         {
          "X": -3,
          "Y": 0.6804329876155422
         },
         {
          "X": -3,
          "Y": 0.13643403505838017
         },
         {
          "X": -3,
          "Y": 0.050429148506601934
         },
         {
          "X": -3,
          "Y": 0.9018324529934895
         },
         {
          "X": -3,
          "Y": 0.00018654659755692357
         },
         {
          "X": -3,
          "Y": 0.2646752525742144
         },
         {
          "X": -3,
          "Y": 0.9976783228784009
         },
         {
          "X": -3,
          "Y": 0.28302829990349027
         },
         {
          "X": -3,
          "Y": 0.0927265979473214
         },
         {
          "X": -3,
          "Y": 0.47828759032695634
         },
         {
          "X": -3,
          "Y": 0.7964852901240486
         },
         {
          "X": -3,
          "Y": 0.9733944499007611
         },
         {
          "X": -3,
          "Y": 0.0007159036375849177
         },
         {
          "X": -3,
          "Y": 0.00017568754724890895
         },
         {
          "X": -3,
          "Y": 0.9018324529934895
         },
         {
          "X": -3,
          "Y": 0.5685063419274674
         },
         {
          "X": -3,
          "Y": 0.8353794713685407
         },
         {
          "X": -3,
          "Y": 0.023415733874036008
         },
         {
          "X": -3,
          "Y": 0.0025908011675037585
         },
         {
          "X": -3,
          "Y": 0.9999254247014958
         },
         {
          "X": -3,
          "Y": 0.00018654659755692357
         },
         {
          "X": -3,
          "Y": 0.18749366903946765
         },
         {
          "X": -3,
          "Y": 0.2646752525742144
         },
         {
          "X": -3,
          "Y": 0.48138160047165107
         },
         {
          "X": -3,
          "Y": 0.951781339777334
         },
         {
          "X": -3,
          "Y": 0.9943022710950491
         },
         {
          "X": -3,
          "Y": 0.7783057013911153
         },
         {
          "X": -3,
          "Y": 0.9959752461181522
         },
         {
          "X": -3,
          "Y": 0.953377761139896
         },
         {
          "X": -3,
          "Y": 0.21695444013686024
         },
         {
          "X": -3,
          "Y": 0.9820740775469521
         },
         {
          "X": -3,
          "Y": 0.7099045588867026
         },
         {
          "X": -3,
          "Y": 0.9727361581535547
         },
         {
          "X": -3,
          "Y": 0.9986741154266977
         },
         {
          "X": -3,
          "Y": 0.10701419408786432
         },
         {
          "X": -3,
          "Y": 0.16198216086587688
         },
         {
          "X": -3,
          "Y": 0.003125880845446738
         },
         {
          "X": -3,
          "Y": 0.8718359165240551
         },
         {
          "X": -3,
          "Y": 0.00018654659755692357
         },
         {
          "X": -3,
          "Y": 0.1043797254809787
         },
         {
          "X": -3,
          "Y": 0.8353794713685407
         },
         {
          "X": -3,
          "Y": 0.6163625948201333
         },
         {
          "X": -3,
          "Y": 0.8718359165240551
         },
         {
          "X": -3,
          "Y": 0.0039026835160379265
         },
         {
          "X": -3,
          "Y": 0.5492735852031027
         },
         {
          "X": -3,
          "Y": 0.28302829990349027
         },
         {
          "X": -3,
          "Y": 0.052486141232696876
         },
         {
          "X": -3,
          "Y": 0.9991421118407618
         },
         {
          "X": -3,
          "Y": 0.4460140687341977
         },
         {
          "X": -3,
          "Y": 0.16198216086587688
         },
         {
          "X": -3,
          "Y": 0.9857027096067754
         },
         {
          "X": -3,
          "Y": 0.2964285673745746
         },
         {
          "X": -3,
          "Y": 0.28302829990349027
         },
         {
          "X": -3,
          "Y": 0.023415733874036008
         },
         {
          "X": -3,
          "Y": 0.6163625948201333
         },
         {
          "X": -3,
          "Y": 0.050429148506601934
         },
         {
          "X": -3,
          "Y": 0.20616868821188578
         },
         {
          "X": -3,
          "Y": 0.9959752461181522
         },
         {
          "X": -3,
          "Y": 0.2964285673745746
         },
         {
          "X": -3,
          "Y": 0.6192029198451907
         },
         {
          "X": -3,
          "Y": 0.07509026091784017
         },
         {
          "X": -3,
          "Y": 0.6192029198451907
         },
         {
          "X": -3,
          "Y": 0.9959220679191784
         },
         {
          "X": -3,
          "Y": 0.0025908011675037585
         },
         {
          "X": -3,
          "Y": 0.015241006002821654
         },
         {
          "X": -3,
          "Y": 0.6804329876155422
         },
         {
          "X": -3,
          "Y": 0.27645459659854105
         },
         {
          "X": -3,
          "Y": 0.8353794713685407
         },
         {
          "X": -3,
          "Y": 0.0685675588121615
         },
         {
          "X": -3,
          "Y": 0.5492735852031027
         },
         {
          "X": -3,
          "Y": 0.45354812114474546
         },
         {
          "X": -3,
          "Y": 0.9847722547652495
         },
         {
          "X": -2,
          "Y": 0.0228836185815292
         },
         {
          "X": -2,
          "Y": 0.07522971923231575
         },
         {
          "X": -2,
          "Y": 0.007544991602933998
         },
         {
          "X": -2,
          "Y": 0.3542110701543473
         },
         {
          "X": -2,
          "Y": 0.00039762050462635134
         },
         {
          "X": -2,
          "Y": 0.2232218894104898
         },
         {
          "X": -2,
          "Y": 0.6703171595067198
         },
         {
          "X": -2,
          "Y": 0.9661664072823701
         },
         {
          "X": -2,
          "Y": 0.9661664072823701
         },
         {
          "X": -2,
          "Y": 0.6025518434514734
         },
         {
          "X": -2,
          "Y": 0.5206311239644102
         },
         {
          "X": -2,
          "Y": 0.03136710655733782
         },
         {
          "X": -2,
          "Y": 0.7758465026893618
         },
         {
          "X": -2,
          "Y": 0.7758465026893618
         },
         {
          "X": -2,
          "Y": 0.9085271792145914
         },
         {
          "X": -2,
          "Y": 0.9229396562954025
         },
         {
          "X": -2,
          "Y": 0.9679864960503706
         },
         {
          "X": -2,
          "Y": 0.9438626891240222
         },
         {
          "X": -2,
          "Y": 0.3353060828962928
         },
         {
          "X": -2,
          "Y": 0.32053981352437977
         },
         {
          "X": -2,
          "Y": 0.9229396562954025
         },
         {
          "X": -2,
          "Y": 0.03136710655733782
         },
         {
          "X": -2,
          "Y": 0.0007414206504312629
         },
         {
          "X": -2,
          "Y": 0.25037391588393204
         },
         {
          "X": -2,
          "Y": 0.6251405054103365
         },
         {
          "X": -2,
          "Y": 0.38344417118035173
         },
         {
          "X": -2,
          "Y": 0.3386498712433268
         },
         {
          "X": -2,
          "Y": 0.8777473005882334
         },
         {
          "X": -2,
          "Y": 0.6747898986665559
         },
         {
          "X": -2,
          "Y": 0.19424592678497424
         },
         {
          "X": -2,
          "Y": 0.06273887964963672
         },
         {
          "X": -2,
          "Y": 0.8635942562783878
         },
         {
          "X": -2,
          "Y": 0.0007414206504312629
         },
         {
          "X": -2,
          "Y": 0.33836382604925314
         },
         {
          "X": -2,
          "Y": 0.9894438031510951
         },
         {
          "X": -2,
          "Y": 0.34593899376015125
         },
         {
          "X": -2,
          "Y": 0.12740406783949842
         },
         {
          "X": -2,
          "Y": 0.5849466596521411
         },
         {
          "X": -2,
          "Y": 0.6703171595067198
         },
         {
          "X": -2,
          "Y": 0.9158026600520471
         },
         {
          "X": -2,
          "Y": 0.002853555033737637
         },
         {
          "X": -2,
          "Y": 0.00039762050462635134
         },
         {
          "X": -2,
          "Y": 0.8635942562783878
         },
         {
          "X": -2,
          "Y": 0.6538560897929729
         },
         {
          "X": -2,
          "Y": 0.8440793597389373
         },
         {
          "X": -2,
          "Y": 0.03646616921926457
         },
         {
          "X": -2,
          "Y": 0.013484868429587767
         },
         {
          "X": -2,
          "Y": 0.9989022462437909
         },
         {
          "X": -2,
          "Y": 0.0007414206504312629
         },
         {
          "X": -2,
          "Y": 0.3353060828962928
         },
         {
          "X": -2,
          "Y": 0.33836382604925314
         },
         {
          "X": -2,
          "Y": 0.48792435068812173
         },
         {
          "X": -2,
          "Y": 0.9679864960503706
         },
         {
          "X": -2,
          "Y": 0.9850952330056216
         },
         {
          "X": -2,
          "Y": 0.6241525390054465
         },
         {
          "X": -2,
          "Y": 0.9894930604165058
         },
         {
          "X": -2,
          "Y": 0.8777473005882334
         },
         {
          "X": -2,
          "Y": 0.29076331915980264
         },
         {
          "X": -2,
          "Y": 0.9677598888169779
         },
         {
          "X": -2,
          "Y": 0.733483563051973
         },
         {
          "X": -2,
          "Y": 0.9085271792145914
         },
         {
          "X": -2,
          "Y": 0.9906327991807763
         },
         {
          "X": -2,
          "Y": 0.09445149530450751
         },
         {
          "X": -2,
          "Y": 0.18895370133298986
         },
         {
          "X": -2,
          "Y": 0.007544991602933998
         },
         {
          "X": -2,
          "Y": 0.82968062355267
         },
         {
          "X": -2,
          "Y": 0.0007414206504312629
         },
         {
          "X": -2,
          "Y": 0.18705318416025019
         },
         {
          "X": -2,
          "Y": 0.8440793597389373
         },
         {
          "X": -2,
          "Y": 0.6251405054103365
         },
         {
          "X": -2,
          "Y": 0.82968062355267
         },
         {
          "X": -2,
          "Y": 0.018517444422511676
         },
         {
          "X": -2,
          "Y": 0.5020476544603031
         },
         {
          "X": -2,
          "Y": 0.34593899376015125
         },
         {
          "X": -2,
          "Y": 0.07522971923231575
         },
         {
          "X": -2,
          "Y": 0.9926629192520121
         },
         {
          "X": -2,
          "Y": 0.3542110701543473
         },
         {
          "X": -2,
          "Y": 0.18895370133298986
         },
         {
          "X": -2,
          "Y": 0.949088895727117
         },
         {
          "X": -2,
          "Y": 0.3178075815672158
         },
         {
          "X": -2,
          "Y": 0.34593899376015125
         },
         {
          "X": -2,
          "Y": 0.03646616921926457
         },
         {
          "X": -2,
          "Y": 0.6251405054103365
         },
         {
          "X": -2,
          "Y": 0.06273887964963672
         },
         {
          "X": -2,
          "Y": 0.2612436241276548
         },
         {
          "X": -2,
          "Y": 0.9894930604165058
         },
         {
          "X": -2,
          "Y": 0.3178075815672158
         },
         {
          "X": -2,
          "Y": 0.6068953065394481
         },
         {
          "X": -2,
          "Y": 0.10509364732834069
         },
         {
          "X": -2,
          "Y": 0.6068953065394481
         },
         {
          "X": -2,
          "Y": 0.9820691977444277
         },
         {
          "X": -2,
          "Y": 0.013484868429587767
         },
         {
          "X": -2,
          "Y": 0.05919747254171873
         },
         {
          "X": -2,
          "Y": 0.6747898986665559
         },
         {
          "X": -2,
          "Y": 0.3386498712433268
         },
         {
          "X": -2,
          "Y": 0.8440793597389373
         },
         {
          "X": -2,
          "Y": 0.17883946568265044
         },
         {
          "X": -2,
          "Y": 0.5020476544603031
         },
         {
          "X": -2,
          "Y": 0.5014847581599657
         },
         {
          "X": -2,
          "Y": 0.9438626891240222
         },
         {
          "X": -1,
          "Y": 0.1264456783647545
         },
         {
          "X": -1,
          "Y": 0.10671865512353768
         },
         {
          "X": -1,
          "Y": 0.018098054362631837
         },
         {
          "X": -1,
          "Y": 0.2720254067033915
         },
         {
          "X": -1,
          "Y": 0.0008996525290981626
         },
         {
          "X": -1,
          "Y": 0.3211943542826113
         },
         {
          "X": -1,
          "Y": 0.5136889196484803
         },
         {
          "X": -1,
          "Y": 0.9232548438524258
         },
         {
          "X": -1,
          "Y": 0.9232548438524258
         },
         {
          "X": -1,
          "Y": 0.6598922322152674
         },
         {
          "X": -1,
          "Y": 0.7351665909467527
         },
         {
          "X": -1,
          "Y": 0.09932282318764947
         },
         {
          "X": -1,
          "Y": 0.672009698493917
         },
         {
          "X": -1,
          "Y": 0.672009698493917
         },
         {
          "X": -1,
          "Y": 0.7343906135282746
         },
         {
          "X": -1,
          "Y": 0.8727522655736168
         },
         {
          "X": -1,
          "Y": 0.9788664090434416
         },
         {
          "X": -1,
          "Y": 0.8138265913563241
         },
         {
          "X": -1,
          "Y": 0.5244337468120224
         },
         {
          "X": -1,
          "Y": 0.35189483919736714
         },
         {
          "X": -1,
          "Y": 0.8727522655736168
         },
         {
          "X": -1,
          "Y": 0.09932282318764947
         },
         {
          "X": -1,
          "Y": 0.0029418850633607233
         },
         {
          "X": -1,
          "Y": 0.3292727796910372
         },
         {
          "X": -1,
          "Y": 0.6338368871175446
         },
         {
          "X": -1,
          "Y": 0.4407372027764326
         },
         {
          "X": -1,
          "Y": 0.40696732476591574
         },
         {
          "X": -1,
          "Y": 0.7159791713293816
         },
         {
          "X": -1,
          "Y": 0.6690956215930218
         },
         {
          "X": -1,
          "Y": 0.26892607362286464
         },
         {
          "X": -1,
          "Y": 0.07780719904669049
         },
         {
          "X": -1,
          "Y": 0.8135410558848445
         },
         {
          "X": -1,
          "Y": 0.0029418850633607233
         },
         {
          "X": -1,
          "Y": 0.4208269600506311
         },
         {
          "X": -1,
          "Y": 0.9533682111387413
         },
         {
          "X": -1,
          "Y": 0.414744242179794
         },
         {
          "X": -1,
          "Y": 0.17258316428867365
         },
         {
          "X": -1,
          "Y": 0.684197917329898
         },
         {
          "X": -1,
          "Y": 0.5136889196484803
         },
         {
          "X": -1,
          "Y": 0.7637961265922041
         },
         {
          "X": -1,
          "Y": 0.011301932441409696
         },
         {
          "X": -1,
          "Y": 0.0008996525290981626
         },
         {
          "X": -1,
          "Y": 0.8135410558848445
         },
         {
          "X": -1,
          "Y": 0.7303316111976735
         },
         {
          "X": -1,
          "Y": 0.8524007103324995
         },
         {
          "X": -1,
          "Y": 0.056370245505343
         },
         {
          "X": -1,
          "Y": 0.0671054460970859
         },
         {
          "X": -1,
          "Y": 0.9840647034597109
         },
         {
          "X": -1,
          "Y": 0.0029418850633607233
         },
         {
          "X": -1,
          "Y": 0.5244337468120224
         },
         {
          "X": -1,
          "Y": 0.4208269600506311
         },
         {
          "X": -1,
          "Y": 0.49447124137133397
         },
         {
          "X": -1,
          "Y": 0.9788664090434416
         },
         {
          "X": -1,
          "Y": 0.9615852178008433
         },
         {
          "X": -1,
          "Y": 0.4399420762750953
         },
         {
          "X": -1,
          "Y": 0.9728553374417692
         },
         {
          "X": -1,
          "Y": 0.7159791713293816
         },
         {
          "X": -1,
          "Y": 0.3775745366763446
         },
         {
          "X": -1,
          "Y": 0.9426826535497933
         },
         {
          "X": -1,
          "Y": 0.7558053060932007
         },
         {
          "X": -1,
          "Y": 0.7343906135282746
         },
         {
          "X": -1,
          "Y": 0.9369032381416801
         },
         {
          "X": -1,
          "Y": 0.08322611887693133
         },
         {
          "X": -1,
          "Y": 0.21924132085811165
         },
         {
          "X": -1,
          "Y": 0.018098054362631837
         },
         {
          "X": -1,
          "Y": 0.77720309111233
         },
         {
          "X": -1,
          "Y": 0.0029418850633607233
         },
         {
          "X": -1,
          "Y": 0.31236960757660676
         },
         {
          "X": -1,
          "Y": 0.8524007103324995
         },
         {
          "X": -1,
          "Y": 0.6338368871175446
         },
         {
          "X": -1,
          "Y": 0.77720309111233
         },
         {
          "X": -1,
          "Y": 0.08328551214478097
         },
         {
          "X": -1,
          "Y": 0.45478515993570817
         },
         {
          "X": -1,
          "Y": 0.414744242179794
         },
         {
          "X": -1,
          "Y": 0.10671865512353768
         },
         {
          "X": -1,
          "Y": 0.9401794575015058
         },
         {
          "X": -1,
          "Y": 0.2720254067033915
         },
         {
          "X": -1,
          "Y": 0.21924132085811165
         },
         {
          "X": -1,
          "Y": 0.8344580805778994
         },
         {
          "X": -1,
          "Y": 0.33998340923116627
         },
         {
          "X": -1,
          "Y": 0.414744242179794
         },
         {
          "X": -1,
          "Y": 0.056370245505343
         },
         {
          "X": -1,
          "Y": 0.6338368871175446
         },
         {
          "X": -1,
          "Y": 0.07780719904669049
         },
         {
          "X": -1,
          "Y": 0.3250074986963058
         },
         {
          "X": -1,
          "Y": 0.9728553374417692
         },
         {
          "X": -1,
          "Y": 0.33998340923116627
         },
         {
          "X": -1,
          "Y": 0.5944504374033363
         },
         {
          "X": -1,
          "Y": 0.14520325335179884
         },
         {
          "X": -1,
          "Y": 0.5944504374033363
         },
         {
          "X": -1,
          "Y": 0.9247149875135792
         },
         {
          "X": -1,
          "Y": 0.0671054460970859
         },
         {
          "X": -1,
          "Y": 0.2037042530710366
         },
         {
          "X": -1,
          "Y": 0.6690956215930218
         },
         {
          "X": -1,
          "Y": 0.40696732476591574
         },
         {
          "X": -1,
          "Y": 0.8524007103324995
         },
         {
          "X": -1,
          "Y": 0.3918467748722079
         },
         {
          "X": -1,
          "Y": 0.45478515993570817
         },
         {
          "X": -1,
          "Y": 0.5493941156098235
         },
         {
          "X": -1,
          "Y": 0.8138265913563241
         },
         {
          "X": 0,
          "Y": 0.47219606628506905
         },
         {
          "X": 0,
          "Y": 0.14926058405362103
         },
         {
          "X": 0,
          "Y": 0.042775341014070545
         },
         {
          "X": 0,
          "Y": 0.20291702658448368
         },
         {
          "X": 0,
          "Y": 0.0020342556628376745
         },
         {
          "X": 0,
          "Y": 0.43792479817828694
         },
         {
          "X": 0,
          "Y": 0.3543251306451268
         },
         {
          "X": 0,
          "Y": 0.8352013142905306
         },
         {
          "X": 0,
          "Y": 0.8352013142905306
         },
         {
          "X": 0,
          "Y": 0.7129016851442908
         },
         {
          "X": 0,
          "Y": 0.8764702680449086
         },
         {
          "X": 0,
          "Y": 0.2730074550707901
         },
         {
          "X": 0,
          "Y": 0.5480893517552007
         },
         {
          "X": 0,
          "Y": 0.5480893517552007
         },
         {
          "X": 0,
          "Y": 0.4349325076028925
         },
         {
          "X": 0,
          "Y": 0.7970660070224707
         },
         {
          "X": 0,
          "Y": 0.9861018307435637
         },
         {
          "X": 0,
          "Y": 0.531945800091492
         },
         {
          "X": 0,
          "Y": 0.7068032925750471
         },
         {
          "X": 0,
          "Y": 0.38458097040989514
         },
         {
          "X": 0,
          "Y": 0.7970660070224707
         },
         {
          "X": 0,
          "Y": 0.2730074550707901
         },
         {
          "X": 0,
          "Y": 0.011597318383602596
         },
         {
          "X": 0,
          "Y": 0.4191331416822777
         },
         {
          "X": 0,
          "Y": 0.6424469119889796
         },
         {
          "X": 0,
          "Y": 0.4996533622338609
         },
         {
          "X": 0,
          "Y": 0.4790830773026753
         },
         {
          "X": 0,
          "Y": 0.4695224486274712
         },
         {
          "X": 0,
          "Y": 0.6633513821778667
         },
         {
          "X": 0,
          "Y": 0.35950745466959655
         },
         {
          "X": 0,
          "Y": 0.09612339403641555
         },
         {
          "X": 0,
          "Y": 0.7504289704313296
         },
         {
          "X": 0,
          "Y": 0.011597318383602596
         },
         {
          "X": 0,
          "Y": 0.5079580688263369
         },
         {
          "X": 0,
          "Y": 0.8168286890384081
         },
         {
          "X": 0,
          "Y": 0.48704399873917464
         },
         {
          "X": 0,
          "Y": 0.22956840720652577
         },
         {
          "X": 0,
          "Y": 0.7690845781434643
         },
         {
          "X": 0,
          "Y": 0.3543251306451268
         },
         {
          "X": 0,
          "Y": 0.49014468308611714
         },
         {
          "X": 0,
          "Y": 0.04366762710605298
         },
         {
          "X": 0,
          "Y": 0.0020342556628376745
         },
         {
          "X": 0,
          "Y": 0.7504289704313296
         },
         {
          "X": 0,
          "Y": 0.7952030824676803
         },
         {
          "X": 0,
          "Y": 0.8603514321960734
         },
         {
          "X": 0,
          "Y": 0.08616687101242321
         },
         {
          "X": 0,
          "Y": 0.27459287976499946
         },
         {
          "X": 0,
          "Y": 0.8073557716298506
         },
         {
          "X": 0,
          "Y": 0.011597318383602596
         },
         {
          "X": 0,
          "Y": 0.7068032925750471
         },
         {
          "X": 0,
          "Y": 0.5079580688263369
         },
         {
          "X": 0,
          "Y": 0.5010200286150048
         },
         {
          "X": 0,
          "Y": 0.9861018307435637
         },
         {
          "X": 0,
          "Y": 0.9045836193108833
         },
         {
          "X": 0,
          "Y": 0.27091095176174956
         },
         {
          "X": 0,
          "Y": 0.9316905819176133
         },
         {
          "X": 0,
          "Y": 0.4695224486274712
         },
         {
          "X": 0,
          "Y": 0.47301821724750587
         },
         {
          "X": 0,
          "Y": 0.9001129436094327
         },
         {
          "X": 0,
          "Y": 0.776826353053545
         },
         {
          "X": 0,
          "Y": 0.4349325076028925
         },
         {
          "X": 0,
          "Y": 0.6758339444912156
         },
         {
          "X": 0,
          "Y": 0.07322697375799789
         },
         {
          "X": 0,
          "Y": 0.25287012540434844
         },
         {
          "X": 0,
          "Y": 0.042775341014070545
         },
         {
          "X": 0,
          "Y": 0.7141277111922304
         },
         {
          "X": 0,
          "Y": 0.011597318383602596
         },
         {
          "X": 0,
          "Y": 0.4728128443454426
         },
         {
          "X": 0,
          "Y": 0.8603514321960734
         },
         {
          "X": 0,
          "Y": 0.6424469119889796
         },
         {
          "X": 0,
          "Y": 0.7141277111922304
         },
         {
          "X": 0,
          "Y": 0.30434500301480916
         },
         {
          "X": 0,
          "Y": 0.40832351011677115
         },
         {
          "X": 0,
          "Y": 0.48704399873917464
         },
         {
          "X": 0,
          "Y": 0.14926058405362103
         },
         {
          "X": 0,
          "Y": 0.6461121842590001
         },
         {
          "X": 0,
          "Y": 0.20291702658448368
         },
         {
          "X": 0,
          "Y": 0.25287012540434844
         },
         {
          "X": 0,
          "Y": 0.5768107401421115
         },
         {
          "X": 0,
          "Y": 0.36288350535845637
         },
         {
          "X": 0,
          "Y": 0.48704399873917464
         },
         {
          "X": 0,
          "Y": 0.08616687101242321
         },
         {
          "X": 0,
          "Y": 0.6424469119889796
         },
         {
          "X": 0,
          "Y": 0.09612339403641555
         },
         {
          "X": 0,
          "Y": 0.39599237841417634
         },
         {
          "X": 0,
          "Y": 0.9316905819176133
         },
         {
          "X": 0,
          "Y": 0.36288350535845637
         },
         {
          "X": 0,
          "Y": 0.5818830189799306
         },
         {
          "X": 0,
          "Y": 0.19724686508283418
         },
         {
          "X": 0,
          "Y": 0.5818830189799306
         },
         {
          "X": 0,
          "Y": 0.733659066362306
         },
         {
          "X": 0,
          "Y": 0.27459287976499946
         },
         {
          "X": 0,
          "Y": 0.5098116163211536
         },
         {
          "X": 0,
          "Y": 0.6633513821778667
         },
         {
          "X": 0,
          "Y": 0.4790830773026753
         },
         {
          "X": 0,
          "Y": 0.8603514321960734
         },
         {
          "X": 0,
          "Y": 0.6559094953191241
         },
         {
          "X": 0,
          "Y": 0.40832351011677115
         },
         {
          "X": 0,
          "Y": 0.5964047197029291
         },
         {
          "X": 0,
          "Y": 0.531945800091492
         },
         {
          "X": 1,
          "Y": 0.8468487813818671
         },
         {
          "X": 1,
          "Y": 0.20487182170890123
         },
         {
          "X": 1,
          "Y": 0.09775112952648644
         },
         {
          "X": 1,
          "Y": 0.14780109199720565
         },
         {
          "X": 1,
          "Y": 0.004593193165936503
         },
         {
          "X": 1,
          "Y": 0.5619578098850179
         },
         {
          "X": 1,
          "Y": 0.22184761530275127
         },
         {
          "X": 1,
          "Y": 0.6810239100488044
         },
         {
          "X": 1,
          "Y": 0.6810239100488044
         },
         {
          "X": 1,
          "Y": 0.7606458467678603
         },
         {
          "X": 1,
          "Y": 0.9477398382473903
         },
         {
          "X": 1,
          "Y": 0.5611762741074638
         },
         {
          "X": 1,
          "Y": 0.4179046319780499
         },
         {
          "X": 1,
          "Y": 0.4179046319780499
         },
         {
          "X": 1,
          "Y": 0.1764592687998265
         },
         {
          "X": 1,
          "Y": 0.6922368264909821
         },
         {
          "X": 1,
          "Y": 0.9908831619705576
         },
         {
          "X": 1,
          "Y": 0.22808540749107742
         },
         {
          "X": 1,
          "Y": 0.8405068891808211
         },
         {
          "X": 1,
          "Y": 0.4183434338621383
         },
         {
          "X": 1,
          "Y": 0.6922368264909821
         },
         {
          "X": 1,
          "Y": 0.5611762741074638
         },
         {
          "X": 1,
          "Y": 0.04457964355703197
         },
         {
          "X": 1,
          "Y": 0.5146982939838871
         },
         {
          "X": 1,
          "Y": 0.6509659662630579
         },
         {
          "X": 1,
          "Y": 0.5585791490220293
         },
         {
          "X": 1,
          "Y": 0.5520812812566233
         },
         {
          "X": 1,
          "Y": 0.23708524168628461
         },
         {
          "X": 1,
          "Y": 0.657558461430485
         },
         {
          "X": 1,
          "Y": 0.4613455167735827
         },
         {
          "X": 1,
          "Y": 0.11819867176558058
         },
         {
          "X": 1,
          "Y": 0.6745018334600181
         },
         {
          "X": 1,
          "Y": 0.04457964355703197
         },
         {
          "X": 1,
          "Y": 0.5946083923493004
         },
         {
          "X": 1,
          "Y": 0.49307453603122076
         },
         {
          "X": 1,
          "Y": 0.559890010113387
         },
         {
          "X": 1,
          "Y": 0.29857972628229834
         },
         {
          "X": 1,
          "Y": 0.8366030728597765
         },
         {
          "X": 1,
          "Y": 0.22184761530275127
         },
         {
          "X": 1,
          "Y": 0.2222748769417451
         },
         {
          "X": 1,
          "Y": 0.15425879662565625
         },
         {
          "X": 1,
          "Y": 0.004593193165936503
         },
         {
          "X": 1,
          "Y": 0.6745018334600181
         },
         {
          "X": 1,
          "Y": 0.8477228709602238
         },
         {
          "X": 1,
          "Y": 0.8679402252560293
         },
         {
          "X": 1,
          "Y": 0.12955128818791203
         },
         {
          "X": 1,
          "Y": 0.6657755912420653
         },
         {
          "X": 1,
          "Y": 0.22143619457017244
         },
         {
          "X": 1,
          "Y": 0.04457964355703197
         },
         {
          "X": 1,
          "Y": 0.8405068891808211
         },
         {
          "X": 1,
          "Y": 0.5946083923493004
         },
         {
          "X": 1,
          "Y": 0.5075684659113295
         },
         {
          "X": 1,
          "Y": 0.9908831619705576
         },
         {
          "X": 1,
          "Y": 0.7821616411273874
         },
         {
          "X": 1,
          "Y": 0.14948903479082218
         },
         {
          "X": 1,
          "Y": 0.8384650368565255
         },
         {
          "X": 1,
          "Y": 0.23708524168628461
         },
         {
          "X": 1,
          "Y": 0.5704755708814223
         },
         {
          "X": 1,
          "Y": 0.8315754115189276
         },
         {
          "X": 1,
          "Y": 0.7965250043936056
         },
         {
          "X": 1,
          "Y": 0.1764592687998265
         },
         {
          "X": 1,
          "Y": 0.22643924136146162
         },
         {
          "X": 1,
          "Y": 0.06434485159867381
         },
         {
          "X": 1,
          "Y": 0.2897429166251587
         },
         {
          "X": 1,
          "Y": 0.09775112952648644
         },
         {
          "X": 1,
          "Y": 0.6414336959688559
         },
         {
          "X": 1,
          "Y": 0.04457964355703197
         },
         {
          "X": 1,
          "Y": 0.6390751694111793
         },
         {
          "X": 1,
          "Y": 0.8679402252560293
         },
         {
          "X": 1,
          "Y": 0.6509659662630579
         },
         {
          "X": 1,
          "Y": 0.6414336959688559
         },
         {
          "X": 1,
          "Y": 0.6781182945079522
         },
         {
          "X": 1,
          "Y": 0.3634443420053357
         },
         {
          "X": 1,
          "Y": 0.559890010113387
         },
         {
          "X": 1,
          "Y": 0.20487182170890123
         },
         {
          "X": 1,
          "Y": 0.17498009819085014
         },
         {
          "X": 1,
          "Y": 0.14780109199720565
         },
         {
          "X": 1,
          "Y": 0.2897429166251587
         },
         {
          "X": 1,
          "Y": 0.2693016393225965
         },
         {
          "X": 1,
          "Y": 0.38642299460980695
         },
         {
          "X": 1,
          "Y": 0.559890010113387
         },
         {
          "X": 1,
          "Y": 0.12955128818791203
         },
         {
          "X": 1,
          "Y": 0.6509659662630579
         },
         {
          "X": 1,
          "Y": 0.11819867176558058
         },
         {
          "X": 1,
          "Y": 0.47164785217240063
         },
         {
          "X": 1,
          "Y": 0.8384650368565255
         },
         {
          "X": 1,
          "Y": 0.38642299460980695
         },
         {
          "X": 1,
          "Y": 0.5692083815017954
         },
         {
          "X": 1,
          "Y": 0.26222168253461675
         },
         {
          "X": 1,
          "Y": 0.5692083815017954
         },
         {
          "X": 1,
          "Y": 0.38185785410171735
         },
         {
          "X": 1,
          "Y": 0.6657755912420653
         },
         {
          "X": 1,
          "Y": 0.8087339275243753
         },
         {
          "X": 1,
          "Y": 0.657558461430485
         },
         {
          "X": 1,
          "Y": 0.5520812812566233
         },
         {
          "X": 1,
          "Y": 0.8679402252560293
         },
         {
          "X": 1,
          "Y": 0.8493858354435154
         },
         {
          "X": 1,
          "Y": 0.3634443420053357
         },
         {
          "X": 1,
          "Y": 0.6417093227129609
         },
         {
          "X": 1,
          "Y": 0.22808540749107742
         },
         {
          "X": 2,
          "Y": 0.9715715163145047
         },
         {
          "X": 2,
          "Y": 0.2745168089495349
         },
         {
          "X": 2,
          "Y": 0.20802773668620914
         },
         {
          "X": 2,
          "Y": 0.10567097334855238
         },
         {
          "X": 2,
          "Y": 0.010337733213660138
         },
         {
          "X": 2,
          "Y": 0.6787016580513123
         },
         {
          "X": 2,
          "Y": 0.12900532865270622
         },
         {
          "X": 2,
          "Y": 0.47352837225395317
         },
         {
          "X": 2,
          "Y": 0.47352837225395317
         },
         {
          "X": 2,
          "Y": 0.8026481704839331
         },
         {
          "X": 2,
          "Y": 0.9788816919149019
         },
         {
          "X": 2,
          "Y": 0.813253633654237
         },
         {
          "X": 2,
          "Y": 0.29823518664771387
         },
         {
          "X": 2,
          "Y": 0.29823518664771387
         },
         {
          "X": 2,
          "Y": 0.05629055611695509
         },
         {
          "X": 2,
          "Y": 0.562948816116749
         },
         {
          "X": 2,
          "Y": 0.9940295502815608
         },
         {
          "X": 2,
          "Y": 0.07134135712801606
         },
         {
          "X": 2,
          "Y": 0.9201289366282307
         },
         {
          "X": 2,
          "Y": 0.4528886850238109
         },
         {
          "X": 2,
          "Y": 0.562948816116749
         },
         {
          "X": 2,
          "Y": 0.813253633654237
         },
         {
          "X": 2,
          "Y": 0.1565095089425774
         },
         {
          "X": 2,
          "Y": 0.6092005906057085
         },
         {
          "X": 2,
          "Y": 0.6593896582083116
         },
         {
          "X": 2,
          "Y": 0.6159000149464628
         },
         {
          "X": 2,
          "Y": 0.6229018700620178
         },
         {
          "X": 2,
          "Y": 0.09837680891475646
         },
         {
          "X": 2,
          "Y": 0.6517181949146462
         },
         {
          "X": 2,
          "Y": 0.5665155039867871
         },
         {
          "X": 2,
          "Y": 0.1445329966779709
         },
         {
          "X": 2,
          "Y": 0.5881526346635224
         },
         {
          "X": 2,
          "Y": 0.1565095089425774
         },
         {
          "X": 2,
          "Y": 0.6757402842943571
         },
         {
          "X": 2,
          "Y": 0.17502636555239848
         },
         {
          "X": 2,
          "Y": 0.6302447582086385
         },
         {
          "X": 2,
          "Y": 0.37815406014302316
         },
         {
          "X": 2,
          "Y": 0.8872731520116369
         },
         {
          "X": 2,
          "Y": 0.12900532865270622
         },
         {
          "X": 2,
          "Y": 0.07831312595565322
         },
         {
          "X": 2,
          "Y": 0.42148874178788176
         },
         {
          "X": 2,
          "Y": 0.010337733213660138
         },
         {
          "X": 2,
          "Y": 0.5881526346635224
         },
         {
          "X": 2,
          "Y": 0.8886598599995463
         },
         {
          "X": 2,
          "Y": 0.8751764590007102
         },
         {
          "X": 2,
          "Y": 0.19023225185974704
         },
         {
          "X": 2,
          "Y": 0.9129122478733818
         },
         {
          "X": 2,
          "Y": 0.018936382477365583
         },
         {
          "X": 2,
          "Y": 0.1565095089425774
         },
         {
          "X": 2,
          "Y": 0.9201289366282307
         },
         {
          "X": 2,
          "Y": 0.6757402842943571
         },
         {
          "X": 2,
          "Y": 0.5141143072326128
         },
         {
          "X": 2,
          "Y": 0.9940295502815608
         },
         {
          "X": 2,
          "Y": 0.5762484855960145
         },
         {
          "X": 2,
          "Y": 0.07675877619770573
         },
         {
          "X": 2,
          "Y": 0.6639059422728764
         },
         {
          "X": 2,
          "Y": 0.09837680891475646
         },
         {
          "X": 2,
          "Y": 0.6627594294798147
         },
         {
          "X": 2,
          "Y": 0.7301113582254951
         },
         {
          "X": 2,
          "Y": 0.8148992334628993
         },
         {
          "X": 2,
          "Y": 0.05629055611695509
         },
         {
          "X": 2,
          "Y": 0.03947749624984921
         },
         {
          "X": 2,
          "Y": 0.056474442342793356
         },
         {
          "X": 2,
          "Y": 0.32962029528132747
         },
         {
          "X": 2,
          "Y": 0.20802773668620914
         },
         {
          "X": 2,
          "Y": 0.5616023874029673
         },
         {
          "X": 2,
          "Y": 0.1565095089425774
         },
         {
          "X": 2,
          "Y": 0.7775699144170523
         },
         {
          "X": 2,
          "Y": 0.8751764590007102
         },
         {
          "X": 2,
          "Y": 0.6593896582083116
         },
         {
          "X": 2,
          "Y": 0.5616023874029673
         },
         {
          "X": 2,
          "Y": 0.9102725400801156
         },
         {
          "X": 2,
          "Y": 0.32082323121415507
         },
         {
          "X": 2,
          "Y": 0.6302447582086385
         },
         {
          "X": 2,
          "Y": 0.2745168089495349
         },
         {
          "X": 2,
          "Y": 0.024045602647599258
         },
         {
          "X": 2,
          "Y": 0.10567097334855238
         },
         {
          "X": 2,
          "Y": 0.32962029528132747
         },
         {
          "X": 2,
          "Y": 0.09062462392776892
         },
         {
          "X": 2,
          "Y": 0.4105055950985395
         },
         {
          "X": 2,
          "Y": 0.6302447582086385
         },
         {
          "X": 2,
          "Y": 0.19023225185974704
         },
         {
          "X": 2,
          "Y": 0.6593896582083116
         },
         {
          "X": 2,
          "Y": 0.1445329966779709
         },
         {
          "X": 2,
          "Y": 0.5486285733045058
         },
         {
          "X": 2,
          "Y": 0.6639059422728764
         },
         {
          "X": 2,
          "Y": 0.4105055950985395
         },
         {
          "X": 2,
          "Y": 0.5564424085207157
         },
         {
          "X": 2,
          "Y": 0.3395466614750272
         },
         {
          "X": 2,
          "Y": 0.5564424085207157
         },
         {
          "X": 2,
          "Y": 0.12168097066056191
         },
         {
          "X": 2,
          "Y": 0.9129122478733818
         },
         {
          "X": 2,
          "Y": 0.9450262769069613
         },
         {
          "X": 2,
          "Y": 0.6517181949146462
         },
         {
          "X": 2,
          "Y": 0.6229018700620178
         },
         {
          "X": 2,
          "Y": 0.8751764590007102
         },
         {
          "X": 2,
          "Y": 0.9434525656205042
         },
         {
          "X": 2,
          "Y": 0.32082323121415507
         },
         {
          "X": 2,
          "Y": 0.6846176411831029
         },
         {
          "X": 2,
          "Y": 0.07134135712801606
         },
         {
          "X": 3,
          "Y": 0.995288143187583
         },
         {
          "X": 3,
          "Y": 0.3572013259017157
         },
         {
          "X": 3,
          "Y": 0.38906497232929965
         },
         {
          "X": 3,
          "Y": 0.07450003863045417
         },
         {
          "X": 3,
          "Y": 0.023100033361348356
         },
         {
          "X": 3,
          "Y": 0.7766954073474482
         },
         {
          "X": 3,
          "Y": 0.07144958021640156
         },
         {
          "X": 3,
          "Y": 0.2747903205298851
         },
         {
          "X": 3,
          "Y": 0.2747903205298851
         },
         {
          "X": 3,
          "Y": 0.8388414702244291
         },
         {
          "X": 3,
          "Y": 0.9916299920341711
         },
         {
          "X": 3,
          "Y": 0.9368284453151804
         },
         {
          "X": 3,
          "Y": 0.20100083788803821
         },
         {
          "X": 3,
          "Y": 0.20100083788803821
         },
         {
          "X": 3,
          "Y": 0.016333637211677077
         },
         {
          "X": 3,
          "Y": 0.42450157705218206
         },
         {
          "X": 3,
          "Y": 0.9960943422591263
         },
         {
          "X": 3,
          "Y": 0.019581845433416102
         },
         {
          "X": 3,
          "Y": 0.9618082632621586
         },
         {
          "X": 3,
          "Y": 0.4878937771255904
         },
         {
          "X": 3,
          "Y": 0.42450157705218206
         },
         {
          "X": 3,
          "Y": 0.9368284453151804
         },
         {
          "X": 3,
          "Y": 0.42458247192388804
         },
         {
          "X": 3,
          "Y": 0.6961638012392221
         },
         {
          "X": 3,
          "Y": 0.6677138248715979
         },
         {
          "X": 3,
          "Y": 0.6701726182594193
         },
         {
          "X": 3,
          "Y": 0.6888361043439704
         },
         {
          "X": 3,
          "Y": 0.036896058191066304
         },
         {
          "X": 3,
          "Y": 0.6458319719560859
         },
         {
          "X": 3,
          "Y": 0.6660167348974743
         },
         {
          "X": 3,
          "Y": 0.17556637350579074
         },
         {
          "X": 3,
          "Y": 0.4960125376590489
         },
         {
          "X": 3,
          "Y": 0.42458247192388804
         },
         {
          "X": 3,
          "Y": 0.7475293472292825
         },
         {
          "X": 3,
          "Y": 0.044229493759908346
         },
         {
          "X": 3,
          "Y": 0.6954699977006509
         },
         {
          "X": 3,
          "Y": 0.46488014239472336
         },
         {
          "X": 3,
          "Y": 0.9236639618416093
         },
         {
          "X": 3,
          "Y": 0.07144958021640156
         },
         {
          "X": 3,
          "Y": 0.024637913928808257
         },
         {
          "X": 3,
          "Y": 0.7442643213478847
         },
         {
          "X": 3,
          "Y": 0.023100033361348356
         },
         {
          "X": 3,
          "Y": 0.4960125376590489
         },
         {
          "X": 3,
          "Y": 0.9196349726285782
         },
         {
          "X": 3,
          "Y": 0.8820700575093887
         },
         {
          "X": 3,
          "Y": 0.2705031009653107
         },
         {
          "X": 3,
          "Y": 0.9821949379684451
         },
         {
          "X": 3,
          "Y": 0.0013082079207540176
         },
         {
          "X": 3,
          "Y": 0.42458247192388804
         },
         {
          "X": 3,
          "Y": 0.9618082632621586
         },
         {
          "X": 3,
          "Y": 0.7475293472292825
         },
         {
          "X": 3,
          "Y": 0.5206553101115015
         },
         {
          "X": 3,
          "Y": 0.9960943422591263
         },
         {
          "X": 3,
          "Y": 0.33994829526788
         },
         {
          "X": 3,
          "Y": 0.03783936769389689
         },
         {
          "X": 3,
          "Y": 0.4291420527539136
         },
         {
          "X": 3,
          "Y": 0.036896058191066304
         },
         {
          "X": 3,
          "Y": 0.7441096453516951
         },
         {
          "X": 3,
          "Y": 0.5971349228591866
         },
         {
          "X": 3,
          "Y": 0.8319642635548351
         },
         {
          "X": 3,
          "Y": 0.016333637211677077
         },
         {
          "X": 3,
          "Y": 0.005737568487847508
         },
         {
          "X": 3,
          "Y": 0.0495157647878763
         },
         {
          "X": 3,
          "Y": 0.3721106152705163
         },
         {
          "X": 3,
          "Y": 0.38906497232929965
         },
         {
          "X": 3,
          "Y": 0.4784492097606882
         },
         {
          "X": 3,
          "Y": 0.42458247192388804
         },
         {
          "X": 3,
          "Y": 0.8734451022887013
         },
         {
          "X": 3,
          "Y": 0.8820700575093887
         },
         {
          "X": 3,
          "Y": 0.6677138248715979
         },
         {
          "X": 3,
          "Y": 0.4784492097606882
         },
         {
          "X": 3,
          "Y": 0.979940652335171
         },
         {
          "X": 3,
          "Y": 0.28099395837510344
         },
         {
          "X": 3,
          "Y": 0.6954699977006509
         },
         {
          "X": 3,
          "Y": 0.3572013259017157
         },
         {
          "X": 3,
          "Y": 0.002853953040943681
         },
         {
          "X": 3,
          "Y": 0.07450003863045417
         },
         {
          "X": 3,
          "Y": 0.3721106152705163
         },
         {
          "X": 3,
          "Y": 0.026239605226981166
         },
         {
          "X": 3,
          "Y": 0.43502495228467003
         },
         {
          "X": 3,
          "Y": 0.6954699977006509
         },
         {
          "X": 3,
          "Y": 0.2705031009653107
         },
         {
          "X": 3,
          "Y": 0.6677138248715979
         },
         {
          "X": 3,
          "Y": 0.17556637350579074
         },
         {
          "X": 3,
          "Y": 0.6233501851303137
         },
         {
          "X": 3,
          "Y": 0.4291420527539136
         },
         {
          "X": 3,
          "Y": 0.43502495228467003
         },
         {
          "X": 3,
          "Y": 0.5436014605694659
         },
         {
          "X": 3,
          "Y": 0.4264922978245376
         },
         {
          "X": 3,
          "Y": 0.5436014605694659
         },
         {
          "X": 3,
          "Y": 0.03013281060560127
         },
         {
          "X": 3,
          "Y": 0.9821949379684451
         },
         {
          "X": 3,
          "Y": 0.985893468455176
         },
         {
          "X": 3,
          "Y": 0.6458319719560859
         },
         {
          "X": 3,
          "Y": 0.6888361043439704
         },
         {
          "X": 3,
          "Y": 0.8820700575093887
         },
         {
          "X": 3,
          "Y": 0.9801429697561389
         },
         {
          "X": 3,
          "Y": 0.28099395837510344
         },
         {
          "X": 3,
          "Y": 0.72459271378806
         },
         {
          "X": 3,
          "Y": 0.019581845433416102
         },
         {
          "X": 4,
          "Y": 0.9992346236121913
         },
         {
          "X": 4,
          "Y": 0.4493645228306278
         },
         {
          "X": 4,
          "Y": 0.6069158470849326
         },
         {
          "X": 4,
          "Y": 0.0519894218765785
         },
         {
          "X": 4,
          "Y": 0.05080896456578171
         },
         {
          "X": 4,
          "Y": 0.8513478177875949
         },
         {
          "X": 4,
          "Y": 0.03843908424615468
         },
         {
          "X": 4,
          "Y": 0.13765327854829443
         },
         {
          "X": 4,
          "Y": 0.13765327854829443
         },
         {
          "X": 4,
          "Y": 0.8694764976892224
         },
         {
          "X": 4,
          "Y": 0.996708516448143
         },
         {
          "X": 4,
          "Y": 0.9805830405975233
         },
         {
          "X": 4,
          "Y": 0.12961290342113296
         },
         {
          "X": 4,
          "Y": 0.12961290342113296
         },
         {
          "X": 4,
          "Y": 0.004601188745117823
         },
         {
          "X": 4,
          "Y": 0.296967601158381
         },
         {
          "X": 4,
          "Y": 0.9974468904538567
         },
         {
          "X": 4,
          "Y": 0.005165946787801327
         },
         {
          "X": 4,
          "Y": 0.9821596601592
         },
         {
          "X": 4,
          "Y": 0.5230180185304719
         },
         {
          "X": 4,
          "Y": 0.296967601158381
         },
         {
          "X": 4,
          "Y": 0.9805830405975233
         },
         {
          "X": 4,
          "Y": 0.7458220780352799
         },
         {
          "X": 4,
          "Y": 0.7710481854326466
         },
         {
          "X": 4,
          "Y": 0.675934537730924
         },
         {
          "X": 4,
          "Y": 0.7202596725345328
         },
         {
          "X": 4,
          "Y": 0.7479075801596389
         },
         {
          "X": 4,
          "Y": 0.013272212360441666
         },
         {
          "X": 4,
          "Y": 0.6399012347291129
         },
         {
          "X": 4,
          "Y": 0.7526506383832153
         },
         {
          "X": 4,
          "Y": 0.21161478565069763
         },
         {
          "X": 4,
          "Y": 0.40414248608236775
         },
         {
          "X": 4,
          "Y": 0.7458220780352799
         },
         {
          "X": 4,
          "Y": 0.8079420332599632
         },
         {
          "X": 4,
          "Y": 0.009992901138453341
         },
         {
          "X": 4,
          "Y": 0.7536861595623622
         },
         {
          "X": 4,
          "Y": 0.5537832184615988
         },
         {
          "X": 4,
          "Y": 0.948982473088973
         },
         {
          "X": 4,
          "Y": 0.03843908424615468
         },
         {
          "X": 4,
          "Y": 0.007453765352319639
         },
         {
          "X": 4,
          "Y": 0.920792856820487
         },
         {
          "X": 4,
          "Y": 0.05080896456578171
         },
         {
          "X": 4,
          "Y": 0.40414248608236775
         },
         {
          "X": 4,
          "Y": 0.9425498251596665
         },
         {
          "X": 4,
          "Y": 0.8886313915016948
         },
         {
          "X": 4,
          "Y": 0.36920209934435916
         },
         {
          "X": 4,
          "Y": 0.9965670295372662
         },
         {
          "X": 4,
          "Y": 8.888984211728809e-05
         },
         {
          "X": 4,
          "Y": 0.7458220780352799
         },
         {
          "X": 4,
          "Y": 0.9821596601592
         },
         {
          "X": 4,
          "Y": 0.8079420332599632
         },
         {
          "X": 4,
          "Y": 0.5271892387108457
         },
         {
          "X": 4,
          "Y": 0.9974468904538567
         },
         {
          "X": 4,
          "Y": 0.16322289500012632
         },
         {
          "X": 4,
          "Y": 0.018263113967043932
         },
         {
          "X": 4,
          "Y": 0.22244850227552593
         },
         {
          "X": 4,
          "Y": 0.013272212360441666
         },
         {
          "X": 4,
          "Y": 0.811419950282894
         },
         {
          "X": 4,
          "Y": 0.4481607332503822
         },
         {
          "X": 4,
          "Y": 0.8477499545844368
         },
         {
          "X": 4,
          "Y": 0.004601188745117823
         },
         {
          "X": 4,
          "Y": 0.0008095802602618637
         },
         {
          "X": 4,
          "Y": 0.0433751053274362
         },
         {
          "X": 4,
          "Y": 0.41667382278302245
         },
         {
          "X": 4,
          "Y": 0.6069158470849326
         },
         {
          "X": 4,
          "Y": 0.3964734350849107
         },
         {
          "X": 4,
          "Y": 0.7458220780352799
         },
         {
          "X": 4,
          "Y": 0.9316284612898341
         },
         {
          "X": 4,
          "Y": 0.8886313915016948
         },
         {
          "X": 4,
          "Y": 0.675934537730924
         },
         {
          "X": 4,
          "Y": 0.3964734350849107
         },
         {
          "X": 4,
          "Y": 0.9957671010218424
         },
         {
          "X": 4,
          "Y": 0.24433054641138072
         },
         {
          "X": 4,
          "Y": 0.7536861595623622
         },
         {
          "X": 4,
          "Y": 0.4493645228306278
         },
         {
          "X": 4,
          "Y": 0.00033237288703952007
         },
         {
          "X": 4,
          "Y": 0.0519894218765785
         },
         {
          "X": 4,
          "Y": 0.41667382278302245
         },
         {
          "X": 4,
          "Y": 0.007233598900337129
         },
         {
          "X": 4,
          "Y": 0.4598663558177512
         },
         {
          "X": 4,
          "Y": 0.7536861595623622
         },
         {
          "X": 4,
          "Y": 0.36920209934435916
         },
         {
          "X": 4,
          "Y": 0.675934537730924
         },
         {
          "X": 4,
          "Y": 0.21161478565069763
         },
         {
          "X": 4,
          "Y": 0.6926322003594482
         },
         {
          "X": 4,
          "Y": 0.22244850227552593
         },
         {
          "X": 4,
          "Y": 0.4598663558177512
         },
         {
          "X": 4,
          "Y": 0.5307022935939362
         },
         {
          "X": 4,
          "Y": 0.5182321574616847
         },
         {
          "X": 4,
          "Y": 0.5307022935939362
         },
         {
          "X": 4,
          "Y": 0.006919406904991255
         },
         {
          "X": 4,
          "Y": 0.9965670295372662
         },
         {
          "X": 4,
          "Y": 0.9964929377957817
         },
         {
          "X": 4,
          "Y": 0.6399012347291129
         },
         {
          "X": 4,
          "Y": 0.7479075801596389
         },
         {
          "X": 4,
          "Y": 0.8886313915016948
         },
         {
          "X": 4,
          "Y": 0.9931986827122878
         },
         {
          "X": 4,
          "Y": 0.24433054641138072
         },
         {
          "X": 4,
          "Y": 0.7612677684514549
         },
         {
          "X": 4,
          "Y": 0.005165946787801327
         },
         {
          "X": 5,
          "Y": 0.9998760866495924
         },
         {
          "X": 5,
          "Y": 0.5451404525311602
         },
         {
          "X": 5,
          "Y": 0.7891778987335617
         },
         {
          "X": 5,
          "Y": 0.036015829285365245
         },
         {
          "X": 5,
          "Y": 0.10807811049463184
         },
         {
          "X": 5,
          "Y": 0.9041240605371809
         },
         {
          "X": 5,
          "Y": 0.020345630347169748
         },
         {
          "X": 5,
          "Y": 0.06300958181371087
         },
         {
          "X": 5,
          "Y": 0.06300958181371087
         },
         {
          "X": 5,
          "Y": 0.8950168606804846
         },
         {
          "X": 5,
          "Y": 0.9987096424556289
         },
         {
          "X": 5,
          "Y": 0.9942188506832141
         },
         {
          "X": 5,
          "Y": 0.0810086629145395
         },
         {
          "X": 5,
          "Y": 0.0810086629145395
         },
         {
          "X": 5,
          "Y": 0.0012851454618832258
         },
         {
          "X": 5,
          "Y": 0.1947808970659021
         },
         {
          "X": 5,
          "Y": 0.9983318290819182
         },
         {
          "X": 5,
          "Y": 0.0013482498015731019
         },
         {
          "X": 5,
          "Y": 0.9917592372513253
         },
         {
          "X": 5,
          "Y": 0.5579160626713439
         },
         {
          "X": 5,
          "Y": 0.1947808970659021
         },
         {
          "X": 5,
          "Y": 0.9942188506832141
         },
         {
          "X": 5,
          "Y": 0.9210641931811175
         },
         {
          "X": 5,
          "Y": 0.8319320445020014
         },
         {
          "X": 5,
          "Y": 0.6840481072565301
         },
         {
          "X": 5,
          "Y": 0.7654031497801113
         },
         {
          "X": 5,
          "Y": 0.799036559601811
         },
         {
          "X": 5,
          "Y": 0.004700444469821336
         },
         {
          "X": 5,
          "Y": 0.6339274772219892
         },
         {
          "X": 5,
          "Y": 0.8227913651624027
         },
         {
          "X": 5,
          "Y": 0.2527953150651531
         },
         {
          "X": 5,
          "Y": 0.318533826388153
         },
         {
          "X": 5,
          "Y": 0.9210641931811175
         },
         {
          "X": 5,
          "Y": 0.8566705513979512
         },
         {
          "X": 5,
          "Y": 0.0021968130870420903
         },
         {
          "X": 5,
          "Y": 0.8039111436681525
         },
         {
          "X": 5,
          "Y": 0.639373956491323
         },
         {
          "X": 5,
          "Y": 0.9662107411616809
         },
         {
          "X": 5,
          "Y": 0.020345630347169748
         },
         {
          "X": 5,
          "Y": 0.002227631499433146
         },
         {
          "X": 5,
          "Y": 0.9789191784948578
         },
         {
          "X": 5,
          "Y": 0.10807811049463184
         },
         {
          "X": 5,
          "Y": 0.318533826388153
         },
         {
          "X": 5,
          "Y": 0.9592205889992224
         },
         {
          "X": 5,
          "Y": 0.8948711778767638
         },
         {
          "X": 5,
          "Y": 0.4802075673951087
         },
         {
          "X": 5,
          "Y": 0.9993458202376849
         },
         {
          "X": 5,
          "Y": 6.03300337073591e-06
         },
         {
          "X": 5,
          "Y": 0.9210641931811175
         },
         {
          "X": 5,
          "Y": 0.9917592372513253
         },
         {
          "X": 5,
          "Y": 0.8566705513979512
         },
         {
          "X": 5,
          "Y": 0.5337138668742696
         },
         {
          "X": 5,
          "Y": 0.9983318290819182
         },
         {
          "X": 5,
          "Y": 0.06879442302582904
         },
         {
          "X": 5,
          "Y": 0.008722846911000975
         },
         {
          "X": 5,
          "Y": 0.09818498675546063
         },
         {
          "X": 5,
          "Y": 0.004700444469821336
         },
         {
          "X": 5,
          "Y": 0.8642546743174279
         },
         {
          "X": 5,
          "Y": 0.3079435319463872
         },
         {
          "X": 5,
          "Y": 0.8622981475646427
         },
         {
          "X": 5,
          "Y": 0.0012851454618832258
         },
         {
          "X": 5,
          "Y": 0.00011374885712425336
         },
         {
          "X": 5,
          "Y": 0.03796555697215165
         },
         {
          "X": 5,
          "Y": 0.46264156804027345
         },
         {
          "X": 5,
          "Y": 0.7891778987335617
         },
         {
          "X": 5,
          "Y": 0.3199274063447101
         },
         {
          "X": 5,
          "Y": 0.9210641931811175
         },
         {
          "X": 5,
          "Y": 0.9641597630524048
         },
         {
          "X": 5,
          "Y": 0.8948711778767638
         },
         {
          "X": 5,
          "Y": 0.6840481072565301
         },
         {
          "X": 5,
          "Y": 0.3199274063447101
         },
         {
          "X": 5,
          "Y": 0.9991180173942752
         },
         {
          "X": 5,
          "Y": 0.21104673333656848
         },
         {
          "X": 5,
          "Y": 0.8039111436681525
         },
         {
          "X": 5,
          "Y": 0.5451404525311602
         },
         {
          "X": 5,
          "Y": 3.862203006734019e-05
         },
         {
          "X": 5,
          "Y": 0.036015829285365245
         },
         {
          "X": 5,
          "Y": 0.46264156804027345
         },
         {
          "X": 5,
          "Y": 0.001966322335614131
         },
         {
          "X": 5,
          "Y": 0.4849087881895337
         },
         {
          "X": 5,
          "Y": 0.8039111436681525
         },
         {
          "X": 5,
          "Y": 0.4802075673951087
         },
         {
          "X": 5,
          "Y": 0.6840481072565301
         },
         {
          "X": 5,
          "Y": 0.2527953150651531
         },
         {
          "X": 5,
          "Y": 0.7541955758566405
         },
         {
          "X": 5,
          "Y": 0.09818498675546063
         },
         {
          "X": 5,
          "Y": 0.4849087881895337
         },
         {
          "X": 5,
          "Y": 0.5177619729910565
         },
         {
          "X": 5,
          "Y": 0.6087590705172905
         },
         {
          "X": 5,
          "Y": 0.5177619729910565
         },
         {
          "X": 5,
          "Y": 0.0015601389807071704
         },
         {
          "X": 5,
          "Y": 0.9993458202376849
         },
         {
          "X": 5,
          "Y": 0.9991350869634447
         },
         {
          "X": 5,
          "Y": 0.6339274772219892
         },
         {
          "X": 5,
          "Y": 0.799036559601811
         },
         {
          "X": 5,
          "Y": 0.8948711778767638
         },
         {
          "X": 5,
          "Y": 0.9976906761180505
         },
         {
          "X": 5,
          "Y": 0.21104673333656848
         },
         {
          "X": 5,
          "Y": 0.7944444141579413
         },
         {
          "X": 5,
          "Y": 0.0013482498015731019
         },
         {
          "X": 6,
          "Y": 0.9999799493922025
         },
         {
          "X": 6,
          "Y": 0.6376891022645881
         },
         {
          "X": 6,
          "Y": 0.9007501761934251
         },
         {
          "X": 6,
          "Y": 0.024821573740806263
         },
         {
          "X": 6,
          "Y": 0.21525905849666493
         },
         {
          "X": 6,
          "Y": 0.9394947176280589
         },
         {
          "X": 6,
          "Y": 0.010674304759768424
         },
         {
          "X": 6,
          "Y": 0.027549008648301284
         },
         {
          "X": 6,
          "Y": 0.027549008648301284
         },
         {
          "X": 6,
          "Y": 0.9160421580305798
         },
         {
          "X": 6,
          "Y": 0.9994947589303971
         },
         {
          "X": 6,
          "Y": 0.9982953838263704
         },
         {
          "X": 6,
          "Y": 0.04959229928831075
         },
         {
          "X": 6,
          "Y": 0.04959229928831075
         },
         {
          "X": 6,
          "Y": 0.00035809073070050453
         },
         {
          "X": 6,
          "Y": 0.12167124554552479
         },
         {
          "X": 6,
          "Y": 0.9989103723627009
         },
         {
          "X": 6,
          "Y": 0.00035088184403847615
         },
         {
          "X": 6,
          "Y": 0.9962133632432673
         },
         {
          "X": 6,
          "Y": 0.5922513800394288
         },
         {
          "X": 6,
          "Y": 0.12167124554552479
         },
         {
          "X": 6,
          "Y": 0.9982953838263704
         },
         {
          "X": 6,
          "Y": 0.9789037288125834
         },
         {
          "X": 6,
          "Y": 0.879162749114445
         },
         {
          "X": 6,
          "Y": 0.6920510863918092
         },
         {
          "X": 6,
          "Y": 0.805231528895619
         },
         {
          "X": 6,
          "Y": 0.8419865318992886
         },
         {
          "X": 6,
          "Y": 0.001655406817745366
         },
         {
          "X": 6,
          "Y": 0.6279122440812799
         },
         {
          "X": 6,
          "Y": 0.8763109664060293
         },
         {
          "X": 6,
          "Y": 0.29895085298813145
         },
         {
          "X": 6,
          "Y": 0.24364440634477336
         },
         {
          "X": 6,
          "Y": 0.9789037288125834
         },
         {
          "X": 6,
          "Y": 0.8946478977636899
         },
         {
          "X": 6,
          "Y": 0.00047999271988293646
         },
         {
          "X": 6,
          "Y": 0.8459876711655607
         },
         {
          "X": 6,
          "Y": 0.7169388361899929
         },
         {
          "X": 6,
          "Y": 0.9777575022513056
         },
         {
          "X": 6,
          "Y": 0.010674304759768424
         },
         {
          "X": 6,
          "Y": 0.0006633009523985778
         },
         {
          "X": 6,
          "Y": 0.9946377885591517
         },
         {
          "X": 6,
          "Y": 0.21525905849666493
         },
         {
          "X": 6,
          "Y": 0.24364440634477336
         },
         {
          "X": 6,
          "Y": 0.9712016704872655
         },
         {
          "X": 6,
          "Y": 0.9008003870280451
         },
         {
          "X": 6,
          "Y": 0.5932022078947375
         },
         {
          "X": 6,
          "Y": 0.9998756215797486
         },
         {
          "X": 6,
          "Y": 4.0943169322017857e-07
         },
         {
          "X": 6,
          "Y": 0.9789037288125834
         },
         {
          "X": 6,
          "Y": 0.9962133632432673
         },
         {
          "X": 6,
          "Y": 0.8946478977636899
         },
         {
          "X": 6,
          "Y": 0.5402269811486273
         },
         {
          "X": 6,
          "Y": 0.9989103723627009
         },
         {
          "X": 6,
          "Y": 0.027218204687770375
         },
         {
          "X": 6,
          "Y": 0.004145172612427876
         },
         {
          "X": 6,
          "Y": 0.039785356203855655
         },
         {
          "X": 6,
          "Y": 0.001655406817745366
         },
         {
          "X": 6,
          "Y": 0.9040372760695827
         },
         {
          "X": 6,
          "Y": 0.19601374678978384
         },
         {
          "X": 6,
          "Y": 0.8756600872449306
         },
         {
          "X": 6,
          "Y": 0.00035809073070050453
         },
         {
          "X": 6,
          "Y": 1.5972551770585516e-05
         },
         {
          "X": 6,
          "Y": 0.03320724396472055
         },
         {
          "X": 6,
          "Y": 0.5092532721210564
         },
         {
          "X": 6,
          "Y": 0.9007501761934251
         },
         {
          "X": 6,
          "Y": 0.25198945226615127
         },
         {
          "X": 6,
          "Y": 0.9789037288125834
         },
         {
          "X": 6,
          "Y": 0.9815196525757489
         },
         {
          "X": 6,
          "Y": 0.9008003870280451
         },
         {
          "X": 6,
          "Y": 0.6920510863918092
         },
         {
          "X": 6,
          "Y": 0.25198945226615127
         },
         {
          "X": 6,
          "Y": 0.9998167150853648
         },
         {
          "X": 6,
          "Y": 0.18120972044549352
         },
         {
          "X": 6,
          "Y": 0.8459876711655607
         },
         {
          "X": 6,
          "Y": 0.6376891022645881
         },
         {
          "X": 6,
          "Y": 4.486749600443191e-06
         },
         {
          "X": 6,
          "Y": 0.024821573740806263
         },
         {
          "X": 6,
          "Y": 0.5092532721210564
         },
         {
          "X": 6,
          "Y": 0.0005324518943984281
         },
         {
          "X": 6,
          "Y": 0.5100272320353868
         },
         {
          "X": 6,
          "Y": 0.8459876711655607
         },
         {
          "X": 6,
          "Y": 0.5932022078947375
         },
         {
          "X": 6,
          "Y": 0.6920510863918092
         },
         {
          "X": 6,
          "Y": 0.29895085298813145
         },
         {
          "X": 6,
          "Y": 0.806866567062226
         },
         {
          "X": 6,
          "Y": 0.039785356203855655
         },
         {
          "X": 6,
          "Y": 0.5100272320353868
         },
         {
          "X": 6,
          "Y": 0.5047977841710024
         },
         {
          "X": 6,
          "Y": 0.6923730503405924
         },
         {
          "X": 6,
          "Y": 0.5047977841710024
         },
         {
          "X": 6,
          "Y": 0.0003503049029810426
         },
         {
          "X": 6,
          "Y": 0.9998756215797486
         },
         {
          "X": 6,
          "Y": 0.9997871200502396
         },
         {
          "X": 6,
          "Y": 0.6279122440812799
         },
         {
          "X": 6,
          "Y": 0.8419865318992886
         },
         {
          "X": 6,
          "Y": 0.9008003870280451
         },
         {
          "X": 6,
          "Y": 0.9992182258375845
         },
         {
          "X": 6,
          "Y": 0.18120972044549352
         },
         {
          "X": 6,
          "Y": 0.8240759685536926
         },
         {
          "X": 6,
          "Y": 0.00035088184403847615
         },
         {
          "X": 7,
          "Y": 0.9999967558630982
         },
         {
          "X": 7,
          "Y": 0.7210430924530303
         },
         {
          "X": 7,
          "Y": 0.9565282278471396
         },
         {
          "X": 7,
          "Y": 0.017045137754120546
         },
         {
          "X": 7,
          "Y": 0.38307929294299436
         },
         {
          "X": 7,
          "Y": 0.9623596461827125
         },
         {
          "X": 7,
          "Y": 0.005574100254128263
         },
         {
          "X": 7,
          "Y": 0.01179376973026384
         },
         {
          "X": 7,
          "Y": 0.01179376973026384
         },
         {
          "X": 7,
          "Y": 0.93317106542048
         },
         {
          "X": 7,
          "Y": 0.9998022668230517
         },
         {
          "X": 7,
          "Y": 0.9994988298683015
         },
         {
          "X": 7,
          "Y": 0.029962434794913374
         },
         {
          "X": 7,
          "Y": 0.029962434794913374
         },
         {
          "X": 7,
          "Y": 9.971102124398734e-05
         },
         {
          "X": 7,
          "Y": 0.07349803981324673
         },
         {
          "X": 7,
          "Y": 0.9992884123563368
         },
         {
          "X": 7,
          "Y": 9.124954141172588e-05
         },
         {
          "X": 7,
          "Y": 0.9982642509815172
         },
         {
          "X": 7,
          "Y": 0.6257090087034859
         },
         {
          "X": 7,
          "Y": 0.07349803981324673
         },
         {
          "X": 7,
          "Y": 0.9994988298683015
         },
         {
          "X": 7,
          "Y": 0.9946098600586215
         },
         {
          "X": 7,
          "Y": 0.9144849391653023
         },
         {
          "X": 7,
          "Y": 0.6999402729731318
         },
         {
          "X": 7,
          "Y": 0.839714111972836
         },
         {
          "X": 7,
          "Y": 0.8771683049011608
         },
         {
          "X": 7,
          "Y": 0.0005818494856126035
         },
         {
          "X": 7,
          "Y": 0.6218571293358229
         },
         {
          "X": 7,
          "Y": 0.9153301995731692
         },
         {
          "X": 7,
          "Y": 0.34959075246051446
         },
         {
          "X": 7,
          "Y": 0.18166823552356265
         },
         {
          "X": 7,
          "Y": 0.9946098600586215
         },
         {
          "X": 7,
          "Y": 0.9234616015715045
         },
         {
          "X": 7,
          "Y": 0.0001047351860716356
         },
         {
          "X": 7,
          "Y": 0.8803789299009679
         },
         {
          "X": 7,
          "Y": 0.7834705806582453
         },
         {
          "X": 7,
          "Y": 0.9854179540356776
         },
         {
          "X": 7,
          "Y": 0.005574100254128263
         },
         {
          "X": 7,
          "Y": 0.00019728769638784383
         },
         {
          "X": 7,
          "Y": 0.9986521811662205
         },
         {
          "X": 7,
          "Y": 0.38307929294299436
         },
         {
          "X": 7,
          "Y": 0.18166823552356265
         },
         {
          "X": 7,
          "Y": 0.9797370429574107
         },
         {
          "X": 7,
          "Y": 0.906430158058774
         },
         {
          "X": 7,
          "Y": 0.6971260043773916
         },
         {
          "X": 7,
          "Y": 0.9999763622277877
         },
         {
          "X": 7,
          "Y": 2.7786066472114462e-08
         },
         {
          "X": 7,
          "Y": 0.9946098600586215
         },
         {
          "X": 7,
          "Y": 0.9982642509815172
         },
         {
          "X": 7,
          "Y": 0.9234616015715045
         },
         {
          "X": 7,
          "Y": 0.5467263837696594
         },
         {
          "X": 7,
          "Y": 0.9992884123563368
         },
         {
          "X": 7,
          "Y": 0.01048582099931948
         },
         {
          "X": 7,
          "Y": 0.0019650597773079545
         },
         {
          "X": 7,
          "Y": 0.015523427318719954
         },
         {
          "X": 7,
          "Y": 0.0005818494856126035
         },
         {
          "X": 7,
          "Y": 0.9330638577963452
         },
         {
          "X": 7,
          "Y": 0.11784021241147995
         },
         {
          "X": 7,
          "Y": 0.887894013418824
         },
         {
          "X": 7,
          "Y": 9.971102124398734e-05
         },
         {
          "X": 7,
          "Y": 2.242668398634105e-06
         },
         {
          "X": 7,
          "Y": 0.029027307382558792
         },
         {
          "X": 7,
          "Y": 0.5557046414769575
         },
         {
          "X": 7,
          "Y": 0.9565282278471396
         },
         {
          "X": 7,
          "Y": 0.1943553994223587
         },
         {
          "X": 7,
          "Y": 0.9946098600586215
         },
         {
          "X": 7,
          "Y": 0.9905533405024224
         },
         {
          "X": 7,
          "Y": 0.906430158058774
         },
         {
          "X": 7,
          "Y": 0.6999402729731318
         },
         {
          "X": 7,
          "Y": 0.1943553994223587
         },
         {
          "X": 7,
          "Y": 0.9999619326281054
         },
         {
          "X": 7,
          "Y": 0.154763490632664
         },
         {
          "X": 7,
          "Y": 0.8803789299009679
         },
         {
          "X": 7,
          "Y": 0.7210430924530303
         },
         {
          "X": 7,
          "Y": 5.212132710725773e-07
         },
         {
          "X": 7,
          "Y": 0.017045137754120546
         },
         {
          "X": 7,
          "Y": 0.5557046414769575
         },
         {
          "X": 7,
          "Y": 0.0001440294447163415
         },
         {
          "X": 7,
          "Y": 0.535095145024578
         },
         {
          "X": 7,
          "Y": 0.8803789299009679
         },
         {
          "X": 7,
          "Y": 0.6971260043773916
         },
         {
          "X": 7,
          "Y": 0.6999402729731318
         },
         {
          "X": 7,
          "Y": 0.34959075246051446
         },
         {
          "X": 7,
          "Y": 0.8504886138543589
         },
         {
          "X": 7,
          "Y": 0.015523427318719954
         },
         {
          "X": 7,
          "Y": 0.535095145024578
         },
         {
          "X": 7,
          "Y": 0.491827140628747
         },
         {
          "X": 7,
          "Y": 0.7650152395274887
         },
         {
          "X": 7,
          "Y": 0.491827140628747
         },
         {
          "X": 7,
          "Y": 7.858166930644536e-05
         },
         {
          "X": 7,
          "Y": 0.9999763622277877
         },
         {
          "X": 7,
          "Y": 0.9999476298924634
         },
         {
          "X": 7,
          "Y": 0.6218571293358229
         },
         {
          "X": 7,
          "Y": 0.8771683049011608
         },
         {
          "X": 7,
          "Y": 0.906430158058774
         },
         {
          "X": 7,
          "Y": 0.9997356141779002
         },
         {
          "X": 7,
          "Y": 0.154763490632664
         },
         {
          "X": 7,
          "Y": 0.8502412394865374
         },
         {
          "X": 7,
          "Y": 9.124954141172588e-05
         },
         {
          "X": 8,
          "Y": 0.9999994751143666
         },
         {
          "X": 8,
          "Y": 0.7914907826465585
         },
         {
          "X": 8,
          "Y": 0.9815995655727314
         },
         {
          "X": 8,
          "Y": 0.011675838112055099
         },
         {
          "X": 8,
          "Y": 0.584315476388347
         },
         {
          "X": 8,
          "Y": 0.9767973228173001
         },
         {
          "X": 8,
          "Y": 0.0029036316556869607
         },
         {
          "X": 8,
          "Y": 0.005002577398625225
         },
         {
          "X": 8,
          "Y": 0.005002577398625225
         },
         {
          "X": 8,
          "Y": 0.9470075288353582
         },
         {
          "X": 8,
          "Y": 0.9999226288367732
         },
         {
          "X": 8,
          "Y": 0.999852777463393
         },
         {
          "X": 8,
          "Y": 0.017955762482040047
         },
         {
          "X": 8,
          "Y": 0.017955762482040047
         },
         {
          "X": 8,
          "Y": 2.7759539726922887e-05
         },
         {
          "X": 8,
          "Y": 0.04345439002224372
         },
         {
          "X": 8,
          "Y": 0.9995353545739829
         },
         {
          "X": 8,
          "Y": 2.372559045500834e-05
         },
         {
          "X": 8,
          "Y": 0.9992052395653253
         },
         {
          "X": 8,
          "Y": 0.6580065795591926
         },
         {
          "X": 8,
          "Y": 0.04345439002224372
         },
         {
          "X": 8,
          "Y": 0.999852777463393
         },
         {
          "X": 8,
          "Y": 0.9986390649634155
         },
         {
          "X": 8,
          "Y": 0.9401845135894091
         },
         {
          "X": 8,
          "Y": 0.7077127111146055
         },
         {
          "X": 8,
          "Y": 0.8690843104606252
         },
         {
          "X": 8,
          "Y": 0.9053969583870914
         },
         {
          "X": 8,
          "Y": 0.0002043684307229709
         },
         {
          "X": 8,
          "Y": 0.6157637750014274
         },
         {
          "X": 8,
          "Y": 0.9428431867436592
         },
         {
          "X": 8,
          "Y": 0.4038669559683345
         },
         {
          "X": 8,
          "Y": 0.13269130255296183
         },
         {
          "X": 8,
          "Y": 0.9986390649634155
         },
         {
          "X": 8,
          "Y": 0.9448803064727201
         },
         {
          "X": 8,
          "Y": 2.284668073779962e-05
         },
         {
          "X": 8,
          "Y": 0.907926370611362
         },
         {
          "X": 8,
          "Y": 0.8379001782656157
         },
         {
          "X": 8,
          "Y": 0.990465825826449
         },
         {
          "X": 8,
          "Y": 0.0029036316556869607
         },
         {
          "X": 8,
          "Y": 5.86606838201621e-05
         },
         {
          "X": 8,
          "Y": 0.999662239515103
         },
         {
          "X": 8,
          "Y": 0.584315476388347
         },
         {
          "X": 8,
          "Y": 0.13269130255296183
         },
         {
          "X": 8,
          "Y": 0.9857797056096208
         },
         {
          "X": 8,
          "Y": 0.9117717218847178
         },
         {
          "X": 8,
          "Y": 0.7841606500417012
         },
         {
          "X": 8,
          "Y": 0.9999955080738182
         },
         {
          "X": 8,
          "Y": 1.885699685976484e-09
         },
         {
          "X": 8,
          "Y": 0.9986390649634155
         },
         {
          "X": 8,
          "Y": 0.9992052395653253
         },
         {
          "X": 8,
          "Y": 0.9448803064727201
         },
         {
          "X": 8,
          "Y": 0.5532098956023518
         },
         {
          "X": 8,
          "Y": 0.9995353545739829
         },
         {
          "X": 8,
          "Y": 0.003997396872526014
         },
         {
          "X": 8,
          "Y": 0.0009304845390591921
         },
         {
          "X": 8,
          "Y": 0.005965010321720546
         },
         {
          "X": 8,
          "Y": 0.0002043684307229709
         },
         {
          "X": 8,
          "Y": 0.9537596270528976
         },
         {
          "X": 8,
          "Y": 0.06819896747805324
         },
         {
          "X": 8,
          "Y": 0.8990629825591725
         },
         {
          "X": 8,
          "Y": 2.7759539726922887e-05
         },
         {
          "X": 8,
          "Y": 3.14884074806658e-07
         },
         {
          "X": 8,
          "Y": 0.02535971591687896
         },
         {
          "X": 8,
          "Y": 0.6012023506935582
         },
         {
          "X": 8,
          "Y": 0.9815995655727314
         },
         {
          "X": 8,
          "Y": 0.1473072577839133
         },
         {
          "X": 8,
          "Y": 0.9986390649634155
         },
         {
          "X": 8,
          "Y": 0.9951927483149189
         },
         {
          "X": 8,
          "Y": 0.9117717218847178
         },
         {
          "X": 8,
          "Y": 0.7077127111146055
         },
         {
          "X": 8,
          "Y": 0.1473072577839133
         },
         {
          "X": 8,
          "Y": 0.9999920945045415
         },
         {
          "X": 8,
          "Y": 0.13155675870855923
         },
         {
          "X": 8,
          "Y": 0.907926370611362
         },
         {
          "X": 8,
          "Y": 0.7914907826465585
         },
         {
          "X": 8,
          "Y": 6.054768952777911e-08
         },
         {
          "X": 8,
          "Y": 0.011675838112055099
         },
         {
          "X": 8,
          "Y": 0.6012023506935582
         },
         {
          "X": 8,
          "Y": 3.8949249090570384e-05
         },
         {
          "X": 8,
          "Y": 0.559986999360921
         },
         {
          "X": 8,
          "Y": 0.907926370611362
         },
         {
          "X": 8,
          "Y": 0.7841606500417012
         },
         {
          "X": 8,
          "Y": 0.7077127111146055
         },
         {
          "X": 8,
          "Y": 0.4038669559683345
         },
         {
          "X": 8,
          "Y": 0.8856542564204964
         },
         {
          "X": 8,
          "Y": 0.005965010321720546
         },
         {
          "X": 8,
          "Y": 0.559986999360921
         },
         {
          "X": 8,
          "Y": 0.47886749055822125
         },
         {
          "X": 8,
          "Y": 0.8248434014432142
         },
         {
          "X": 8,
          "Y": 0.47886749055822125
         },
         {
          "X": 8,
          "Y": 1.7624009826444538e-05
         },
         {
          "X": 8,
          "Y": 0.9999955080738182
         },
         {
          "X": 8,
          "Y": 0.9999871181094584
         },
         {
          "X": 8,
          "Y": 0.6157637750014274
         },
         {
          "X": 8,
          "Y": 0.9053969583870914
         },
         {
          "X": 8,
          "Y": 0.9117717218847178
         },
         {
          "X": 8,
          "Y": 0.9999106187937006
         },
         {
          "X": 8,
          "Y": 0.13155675870855923
         },
         {
          "X": 8,
          "Y": 0.8731141356258378
         },
         {
          "X": 8,
          "Y": 2.372559045500834e-05
         },
         {
          "X": 9,
          "Y": 0.999999915076241
         },
         {
          "X": 9,
          "Y": 0.8479005003557852
         },
         {
          "X": 9,
          "Y": 0.992327569874495
         },
         {
          "X": 9,
          "Y": 0.007984155240798856
         },
         {
          "X": 9,
          "Y": 0.7608831300449542
         },
         {
          "X": 9,
          "Y": 0.9857789868724709
         },
         {
          "X": 9,
          "Y": 0.0015106014094762787
         },
         {
          "X": 9,
          "Y": 0.0021135852792598634
         },
         {
          "X": 9,
          "Y": 0.0021135852792598634
         },
         {
          "X": 9,
          "Y": 0.9581078540392088
         },
         {
          "X": 9,
          "Y": 0.9999697275978265
         },
         {
          "X": 9,
          "Y": 0.9999567630740064
         },
         {
          "X": 9,
          "Y": 0.010707345976366958
         },
         {
          "X": 9,
          "Y": 0.010707345976366958
         },
         {
          "X": 9,
          "Y": 7.727852197636784e-06
         },
         {
          "X": 9,
          "Y": 0.02535553376898338
         },
         {
          "X": 9,
          "Y": 0.9996966264650464
         },
         {
          "X": 9,
          "Y": 6.168529790410579e-06
         },
         {
          "X": 9,
          "Y": 0.9996362829389
         },
         {
          "X": 9,
          "Y": 0.6889028442977302
         },
         {
          "X": 9,
          "Y": 0.02535553376898338
         },
         {
          "X": 9,
          "Y": 0.9999567630740064
         },
         {
          "X": 9,
          "Y": 0.999657420318132
         },
         {
          "X": 9,
          "Y": 0.9585110757194626
         },
         {
          "X": 9,
          "Y": 0.7153656915902067
         },
         {
          "X": 9,
          "Y": 0.8937537485862456
         },
         {
          "X": 9,
          "Y": 0.9276731409587924
         },
         {
          "X": 9,
          "Y": 7.176464819657581e-05
         },
         {
          "X": 9,
          "Y": 0.6096338695678809
         },
         {
          "X": 9,
          "Y": 0.961789191483787
         },
         {
          "X": 9,
          "Y": 0.46060230580998157
         },
         {
          "X": 9,
          "Y": 0.09537936220674435
         },
         {
          "X": 9,
          "Y": 0.999657420318132
         },
         {
          "X": 9,
          "Y": 0.9605611290843115
         },
         {
          "X": 9,
          "Y": 4.983400703097508e-06
         },
         {
          "X": 9,
          "Y": 0.9296369586885778
         },
         {
          "X": 9,
          "Y": 0.8807305172498124
         },
         {
          "X": 9,
          "Y": 0.9937773087132873
         },
         {
          "X": 9,
          "Y": 0.0015106014094762787
         },
         {
          "X": 9,
          "Y": 1.744021886108839e-05
         },
         {
          "X": 9,
          "Y": 0.9999154220597625
         },
         {
          "X": 9,
          "Y": 0.7608831300449542
         },
         {
          "X": 9,
          "Y": 0.09537936220674435
         },
         {
          "X": 9,
          "Y": 0.9900386935292207
         },
         {
          "X": 9,
          "Y": 0.9168363320944135
         },
         {
          "X": 9,
          "Y": 0.8515120379774314
         },
         {
          "X": 9,
          "Y": 0.9999991464048416
         },
         {
          "X": 9,
          "Y": 1.2797288970039989e-10
         },
         {
          "X": 9,
          "Y": 0.999657420318132
         },
         {
          "X": 9,
          "Y": 0.9996362829389
         },
         {
          "X": 9,
          "Y": 0.9605611290843115
         },
         {
          "X": 9,
          "Y": 0.5596753590277151
         },
         {
          "X": 9,
          "Y": 0.9996966264650464
         },
         {
          "X": 9,
          "Y": 0.0015177265476171117
         },
         {
          "X": 9,
          "Y": 0.00044035770530789493
         },
         {
          "X": 9,
          "Y": 0.002278484960787074
         },
         {
          "X": 9,
          "Y": 7.176464819657581e-05
         },
         {
          "X": 9,
          "Y": 0.9682741113164255
         },
         {
          "X": 9,
          "Y": 0.038555572085082715
         },
         {
          "X": 9,
          "Y": 0.9092329556933174
         },
         {
          "X": 9,
          "Y": 7.727852197636784e-06
         },
         {
          "X": 9,
          "Y": 4.4211536721708054e-08
         },
         {
          "X": 9,
          "Y": 0.022144954784961937
         },
         {
          "X": 9,
          "Y": 0.645017161845082
         },
         {
          "X": 9,
          "Y": 0.992327569874495
         },
         {
          "X": 9,
          "Y": 0.11009186394790658
         },
         {
          "X": 9,
          "Y": 0.999657420318132
         },
         {
          "X": 9,
          "Y": 0.9975592818297738
         },
         {
          "X": 9,
          "Y": 0.9168363320944135
         },
         {
          "X": 9,
          "Y": 0.7153656915902067
         },
         {
          "X": 9,
          "Y": 0.11009186394790658
         },
         {
          "X": 9,
          "Y": 0.9999983582957856
         },
         {
          "X": 9,
          "Y": 0.11137135199998782
         },
         {
          "X": 9,
          "Y": 0.9296369586885778
         },
         {
          "X": 9,
          "Y": 0.8479005003557852
         },
         {
          "X": 9,
          "Y": 7.0336298363649035e-09
         },
         {
          "X": 9,
          "Y": 0.007984155240798856
         },
         {
          "X": 9,
          "Y": 0.645017161845082
         },
         {
          "X": 9,
          "Y": 1.0532066533215186e-05
         },
         {
          "X": 9,
          "Y": 0.5845807782554526
         },
         {
          "X": 9,
          "Y": 0.9296369586885778
         },
         {
          "X": 9,
          "Y": 0.8515120379774314
         },
         {
          "X": 9,
          "Y": 0.7153656915902067
         },
         {
          "X": 9,
          "Y": 0.46060230580998157
         },
         {
          "X": 9,
          "Y": 0.9133910879218364
         },
         {
          "X": 9,
          "Y": 0.002278484960787074
         },
         {
          "X": 9,
          "Y": 0.5845807782554526
         },
         {
          "X": 9,
          "Y": 0.46593622307071864
         },
         {
          "X": 9,
          "Y": 0.8719879457498277
         },
         {
          "X": 9,
          "Y": 0.46593622307071864
         },
         {
          "X": 9,
          "Y": 3.95246165230879e-06
         },
         {
          "X": 9,
          "Y": 0.9999991464048416
         },
         {
          "X": 9,
          "Y": 0.9999968314336046
         },
         {
          "X": 9,
          "Y": 0.6096338695678809
         },
         {
          "X": 9,
          "Y": 0.9276731409587924
         },
         {
          "X": 9,
          "Y": 0.9168363320944135
         },
         {
          "X": 9,
          "Y": 0.9999697862979643
         },
         {
          "X": 9,
          "Y": 0.11137135199998782
         },
         {
          "X": 9,
          "Y": 0.8929335251348123
         },
         {
          "X": 9,
          "Y": 6.168529790410579e-06
         },
         {
          "X": 10,
          "Y": 0.9999999862597837
         },
         {
          "X": 10,
          "Y": 0.8911480413458164
         },
         {
          "X": 10,
          "Y": 0.9968210824485084
         },
         {
          "X": 10,
          "Y": 0.0054532733530207106
         },
         {
          "X": 10,
          "Y": 0.878097947100189
         },
         {
          "X": 10,
          "Y": 0.9913147981926623
         },
         {
          "X": 10,
          "Y": 0.0007853572487138119
         },
         {
          "X": 10,
          "Y": 0.0008914933879821351
         },
         {
          "X": 10,
          "Y": 0.0008914933879821351
         },
         {
          "X": 10,
          "Y": 0.966964108623632
         },
         {
          "X": 10,
          "Y": 0.9999881558965977
         },
         {
          "X": 10,
          "Y": 0.9999873029326979
         },
         {
          "X": 10,
          "Y": 0.0063660162006452916
         },
         {
          "X": 10,
          "Y": 0.0063660162006452916
         },
         {
          "X": 10,
          "Y": 2.1512905799904685e-06
         },
         {
          "X": 10,
          "Y": 0.014679211998741276
         },
         {
          "X": 10,
          "Y": 0.9998019342433069
         },
         {
          "X": 10,
          "Y": 1.6037647397867876e-06
         },
         {
          "X": 10,
          "Y": 0.9998335861339549
         },
         {
          "X": 10,
          "Y": 0.7182032515370298
         },
         {
          "X": 10,
          "Y": 0.014679211998741276
         },
         {
          "X": 10,
          "Y": 0.9999873029326979
         },
         {
          "X": 10,
          "Y": 0.9999138303067976
         },
         {
          "X": 10,
          "Y": 0.9713934999558184
         },
         {
          "X": 10,
          "Y": 0.7228967512514909
         },
         {
          "X": 10,
          "Y": 0.9142332950211013
         },
         {
          "X": 10,
          "Y": 0.9450224595297774
         },
         {
          "X": 10,
          "Y": 2.5198224316655872e-05
         },
         {
          "X": 10,
          "Y": 0.6034691463703117
         },
         {
          "X": 10,
          "Y": 0.9746241101327086
         },
         {
          "X": 10,
          "Y": 0.5183772377366075
         },
         {
          "X": 10,
          "Y": 0.06773984698524181
         },
         {
          "X": 10,
          "Y": 0.9999138303067976
         },
         {
          "X": 10,
          "Y": 0.9719135675761894
         },
         {
          "X": 10,
          "Y": 1.0869822182135116e-06
         },
         {
          "X": 10,
          "Y": 0.9465297657620386
         },
         {
          "X": 10,
          "Y": 0.9134135785706143
         },
         {
          "X": 10,
          "Y": 0.9959433326003124
         },
         {
          "X": 10,
          "Y": 0.0007853572487138119
         },
         {
          "X": 10,
          "Y": 5.184945072572197e-06
         },
         {
          "X": 10,
          "Y": 0.999978825023973
         },
         {
          "X": 10,
          "Y": 0.878097947100189
         },
         {
          "X": 10,
          "Y": 0.06773984698524181
         },
         {
          "X": 10,
          "Y": 0.9930311291597498
         },
         {
          "X": 10,
          "Y": 0.9216352033416456
         },
         {
          "X": 10,
          "Y": 0.9005132100475242
         },
         {
          "X": 10,
          "Y": 0.9999998377928493
         },
         {
          "X": 10,
          "Y": 8.684872036215705e-12
         },
         {
          "X": 10,
          "Y": 0.9999138303067976
         },
         {
          "X": 10,
          "Y": 0.9998335861339549
         },
         {
          "X": 10,
          "Y": 0.9719135675761894
         },
         {
          "X": 10,
          "Y": 0.5661206407679745
         },
         {
          "X": 10,
          "Y": 0.9998019342433069
         },
         {
          "X": 10,
          "Y": 0.0005753599142812823
         },
         {
          "X": 10,
          "Y": 0.00020834823531179638
         },
         {
          "X": 10,
          "Y": 0.0008683340939030569
         },
         {
          "X": 10,
          "Y": 2.5198224316655872e-05
         },
         {
          "X": 10,
          "Y": 0.978336100255821
         },
         {
          "X": 10,
          "Y": 0.021499694209300455
         },
         {
          "X": 10,
          "Y": 0.9184711669668738
         },
         {
          "X": 10,
          "Y": 2.1512905799904685e-06
         },
         {
          "X": 10,
          "Y": 6.207552813546284e-09
         },
         {
          "X": 10,
          "Y": 0.019329635254781208
         },
         {
          "X": 10,
          "Y": 0.6865281214713116
         },
         {
          "X": 10,
          "Y": 0.9968210824485084
         },
         {
          "X": 10,
          "Y": 0.08138115802179173
         },
         {
          "X": 10,
          "Y": 0.9999138303067976
         },
         {
          "X": 10,
          "Y": 0.9987622574938009
         },
         {
          "X": 10,
          "Y": 0.9216352033416456
         },
         {
          "X": 10,
          "Y": 0.7228967512514909
         },
         {
          "X": 10,
          "Y": 0.08138115802179173
         },
         {
          "X": 10,
          "Y": 0.9999996590752135
         },
         {
          "X": 10,
          "Y": 0.0939480436092802
         },
         {
          "X": 10,
          "Y": 0.9465297657620386
         },
         {
          "X": 10,
          "Y": 0.8911480413458164
         },
         {
          "X": 10,
          "Y": 8.170740571761249e-10
         },
         {
          "X": 10,
          "Y": 0.0054532733530207106
         },
         {
          "X": 10,
          "Y": 0.6865281214713116
         },
         {
          "X": 10,
          "Y": 2.8478630065475214e-06
         },
         {
          "X": 10,
          "Y": 0.608760324840037
         },
         {
          "X": 10,
          "Y": 0.9465297657620386
         },
         {
          "X": 10,
          "Y": 0.9005132100475242
         },
         {
          "X": 10,
          "Y": 0.7228967512514909
         },
         {
          "X": 10,
          "Y": 0.5183772377366075
         },
         {
          "X": 10,
          "Y": 0.9348943928643831
         },
         {
          "X": 10,
          "Y": 0.0008683340939030569
         },
         {
          "X": 10,
          "Y": 0.608760324840037
         },
         {
          "X": 10,
          "Y": 0.45305057508692037
         },
         {
          "X": 10,
          "Y": 0.9078606844444266
         },
         {
          "X": 10,
          "Y": 0.45305057508692037
         },
         {
          "X": 10,
          "Y": 8.863923469860975e-07
         },
         {
          "X": 10,
          "Y": 0.9999998377928493
         },
         {
          "X": 10,
          "Y": 0.9999992206315186
         },
         {
          "X": 10,
          "Y": 0.6034691463703117
         },
         {
          "X": 10,
          "Y": 0.9450224595297774
         },
         {
          "X": 10,
          "Y": 0.9216352033416456
         },
         {
          "X": 10,
          "Y": 0.9999897872039055
         },
         {
          "X": 10,
          "Y": 0.0939480436092802
         },
         {
          "X": 10,
          "Y": 0.9099763471835371
         },
         {
          "X": 10,
          "Y": 1.6037647397867876e-06
         }
        ]
       },
       "description": "Logistic Regression",
       "encoding": {
        "x": {
         "axis": {
          "grid": true,
          "title": "Toss Value"
         },
         "field": "X",
         "type": "quantitative"
        },
        "y": {
         "axis": {
          "grid": false
         },
         "field": "Y",
         "type": "quantitative"
        }
       },
       "height": 200,
       "mark": {
        "opacity": 0.2,
        "type": "point"
       },
       "width": 600
      },
      "image/png": "[encoded data removed]"
     },
     "metadata": {},
     "output_type": "display_data"
    }
   ],
   "source": [
    "nsamples = 100\n",
    "xValues = [-10..10]\n",
    "yValues <- sequence (takeFromModel nsamples <$> (sigmoid <$> xValues))\n",
    "xPoints = xValues >>= replicate nsamples\n",
    "yPoints = mconcat yValues\n",
    "vlShow $ pointPlot xPoints yPoints"
   ]
  },
  {
   "cell_type": "markdown",
   "metadata": {},
   "source": [
    "here is the distribution as a density plot"
   ]
  },
  {
   "cell_type": "code",
   "execution_count": 16,
   "metadata": {},
   "outputs": [
    {
     "data": {
      "application/vnd.vegalite.v2+json": {
       "$schema": "https://vega.github.io/schema/vega-lite/v3.json",
       "config": {
        "axis": {
         "domainWidth": 1
        },
        "selection": {
         "single": {
          "on": "dblclick"
         }
        },
        "view": {
         "stroke": "transparent"
        }
       },
       "data": {
        "values": [
         {
          "X": -10,
          "Y": 1.0997476874619009e-08
         },
         {
          "X": -10,
          "Y": 0.003745878495144002
         },
         {
          "X": -10,
          "Y": 6.368226316023605e-06
         },
         {
          "X": -10,
          "Y": 0.9219936279746949
         },
         {
          "X": -10,
          "Y": 5.768296902301941e-07
         },
         {
          "X": -10,
          "Y": 0.005290234618412058
         },
         {
          "X": -10,
          "Y": 0.9973968433041063
         },
         {
          "X": -10,
          "Y": 0.9999652611424226
         },
         {
          "X": -10,
          "Y": 0.9999652611424226
         },
         {
          "X": -10,
          "Y": 0.17400147925996473
         },
         {
          "X": -10,
          "Y": 0.0005959088505429753
         },
         {
          "X": -10,
          "Y": 1.790594543574563e-06
         },
         {
          "X": -10,
          "Y": 0.9956633313967521
         },
         {
          "X": -10,
          "Y": 0.9956633313967521
         },
         {
          "X": -10,
          "Y": 0.9999963687567498
         },
         {
          "X": -10,
          "Y": 0.9990352230404143
         },
         {
          "X": -10,
          "Y": 0.49932290358095616
         },
         {
          "X": -10,
          "Y": 0.9999987583524308
         },
         {
          "X": -10,
          "Y": 0.0009663197781041685
         },
         {
          "X": -10,
          "Y": 0.13286459529387146
         },
         {
          "X": -10,
          "Y": 0.9990352230404143
         },
         {
          "X": -10,
          "Y": 1.790594543574563e-06
         },
         {
          "X": -10,
          "Y": 1.1864222870670743e-08
         },
         {
          "X": -10,
          "Y": 0.015101216801203483
         },
         {
          "X": -10,
          "Y": 0.5530803448767949
         },
         {
          "X": -10,
          "Y": 0.08554951348013706
         },
         {
          "X": -10,
          "Y": 0.0468993342759829
         },
         {
          "X": -10,
          "Y": 0.9999678346553255
         },
         {
          "X": -10,
          "Y": 0.7184101762460826
         },
         {
          "X": -10,
          "Y": 0.008136240811561668
         },
         {
          "X": -10,
          "Y": 0.010398278018482164
         },
         {
          "X": -10,
          "Y": 0.9920274010989777
         },
         {
          "X": -10,
          "Y": 1.1864222870670743e-08
         },
         {
          "X": -10,
          "Y": 0.029877683774436923
         },
         {
          "X": -10,
          "Y": 0.9999999453392193
         },
         {
          "X": -10,
          "Y": 0.048459746556230254
         },
         {
          "X": -10,
          "Y": 0.008346384773700288
         },
         {
          "X": -10,
          "Y": 0.04322994436823856
         },
         {
          "X": -10,
          "Y": 0.9973968433041063
         },
         {
          "X": -10,
          "Y": 0.9999943896586143
         },
         {
          "X": -10,
          "Y": 4.4150291546421753e-08
         },
         {
          "X": -10,
          "Y": 5.768296902301941e-07
         },
         {
          "X": -10,
          "Y": 0.9920274010989777
         },
         {
          "X": -10,
          "Y": 0.09568195254765983
         },
         {
          "X": -10,
          "Y": 0.7634429760348269
         },
         {
          "X": -10,
          "Y": 0.0009812864501612423
         },
         {
          "X": -10,
          "Y": 2.3242614090181065e-08
         },
         {
          "X": -10,
          "Y": 0.9999999999995055
         },
         {
          "X": -10,
          "Y": 1.1864222870670743e-08
         },
         {
          "X": -10,
          "Y": 0.0009663197781041685
         },
         {
          "X": -10,
          "Y": 0.029877683774436923
         },
         {
          "X": -10,
          "Y": 0.4358848141538802
         },
         {
          "X": -10,
          "Y": 0.49932290358095616
         },
         {
          "X": -10,
          "Y": 0.999993594762956
         },
         {
          "X": -10,
          "Y": 0.9984929302948347
         },
         {
          "X": -10,
          "Y": 0.9999953282471261
         },
         {
          "X": -10,
          "Y": 0.9999678346553255
         },
         {
          "X": -10,
          "Y": 0.017528035875920934
         },
         {
          "X": -10,
          "Y": 0.9997294931682695
         },
         {
          "X": -10,
          "Y": 0.5181868726661863
         },
         {
          "X": -10,
          "Y": 0.9999963687567498
         },
         {
          "X": -10,
          "Y": 0.9999999985718444
         },
         {
          "X": -10,
          "Y": 0.24054521311096128
         },
         {
          "X": -10,
          "Y": 0.049705159252630395
         },
         {
          "X": -10,
          "Y": 6.368226316023605e-06
         },
         {
          "X": -10,
          "Y": 0.9860022329836442
         },
         {
          "X": -10,
          "Y": 1.1864222870670743e-08
         },
         {
          "X": -10,
          "Y": 0.0009958280978263608
         },
         {
          "X": -10,
          "Y": 0.7634429760348269
         },
         {
          "X": -10,
          "Y": 0.5530803448767949
         },
         {
          "X": -10,
          "Y": 0.9860022329836442
         },
         {
          "X": -10,
          "Y": 6.525341268812402e-08
         },
         {
          "X": -10,
          "Y": 0.8212081416075854
         },
         {
          "X": -10,
          "Y": 0.048459746556230254
         },
         {
          "X": -10,
          "Y": 0.003745878495144002
         },
         {
          "X": -10,
          "Y": 0.9999999997548812
         },
         {
          "X": -10,
          "Y": 0.9219936279746949
         },
         {
          "X": -10,
          "Y": 0.049705159252630395
         },
         {
          "X": -10,
          "Y": 0.9999984670702138
         },
         {
          "X": -10,
          "Y": 0.17252373554485456
         },
         {
          "X": -10,
          "Y": 0.048459746556230254
         },
         {
          "X": -10,
          "Y": 0.0009812864501612423
         },
         {
          "X": -10,
          "Y": 0.5530803448767949
         },
         {
          "X": -10,
          "Y": 0.010398278018482164
         },
         {
          "X": -10,
          "Y": 0.029062692313610198
         },
         {
          "X": -10,
          "Y": 0.9999953282471261
         },
         {
          "X": -10,
          "Y": 0.17252373554485456
         },
         {
          "X": -10,
          "Y": 0.7004347441698515
         },
         {
          "X": -10,
          "Y": 0.006090163610845287
         },
         {
          "X": -10,
          "Y": 0.7004347441698515
         },
         {
          "X": -10,
          "Y": 0.9999998831809717
         },
         {
          "X": -10,
          "Y": 2.3242614090181065e-08
         },
         {
          "X": -10,
          "Y": 8.430168085911697e-07
         },
         {
          "X": -10,
          "Y": 0.7184101762460826
         },
         {
          "X": -10,
          "Y": 0.0468993342759829
         },
         {
          "X": -10,
          "Y": 0.7634429760348269
         },
         {
          "X": -10,
          "Y": 3.710867430313614e-05
         },
         {
          "X": -10,
          "Y": 0.8212081416075854
         },
         {
          "X": -10,
          "Y": 0.17765269023598954
         },
         {
          "X": -10,
          "Y": 0.9999987583524308
         },
         {
          "X": -9,
          "Y": 6.797178901176685e-08
         },
         {
          "X": -9,
          "Y": 0.005491469431213112
         },
         {
          "X": -9,
          "Y": 1.5439398767544737e-05
         },
         {
          "X": -9,
          "Y": 0.889530748024696
         },
         {
          "X": -9,
          "Y": 1.305784453786037e-06
         },
         {
          "X": -9,
          "Y": 0.008681096731331417
         },
         {
          "X": -9,
          "Y": 0.9950013359908428
         },
         {
          "X": -9,
          "Y": 0.9999175429102494
         },
         {
          "X": -9,
          "Y": 0.9999175429102494
         },
         {
          "X": -9,
          "Y": 0.21234892765551083
         },
         {
          "X": -9,
          "Y": 0.0015217035004536764
         },
         {
          "X": -9,
          "Y": 6.097615532457837e-06
         },
         {
          "X": -9,
          "Y": 0.9926957499208882
         },
         {
          "X": -9,
          "Y": 0.9926957499208882
         },
         {
          "X": -9,
          "Y": 0.999986955921372
         },
         {
          "X": -9,
          "Y": 0.9983164895891276
         },
         {
          "X": -9,
          "Y": 0.6043832798118617
         },
         {
          "X": -9,
          "Y": 0.9999952242696675
         },
         {
          "X": -9,
          "Y": 0.0021100040125049055
         },
         {
          "X": -9,
          "Y": 0.14991179159542298
         },
         {
          "X": -9,
          "Y": 0.9983164895891276
         },
         {
          "X": -9,
          "Y": 6.097615532457837e-06
         },
         {
          "X": -9,
          "Y": 4.717997619082167e-08
         },
         {
          "X": -9,
          "Y": 0.022039769201828267
         },
         {
          "X": -9,
          "Y": 0.5622779137422026
         },
         {
          "X": -9,
          "Y": 0.10598321056787674
         },
         {
          "X": -9,
          "Y": 0.06186629264892872
         },
         {
          "X": -9,
          "Y": 0.9999083941433774
         },
         {
          "X": -9,
          "Y": 0.7131550002132567
         },
         {
          "X": -9,
          "Y": 0.012362085148508858
         },
         {
          "X": -9,
          "Y": 0.013070999266621117
         },
         {
          "X": -9,
          "Y": 0.988472853118683
         },
         {
          "X": -9,
          "Y": 4.717997619082167e-08
         },
         {
          "X": -9,
          "Y": 0.041922909779724994
         },
         {
          "X": -9,
          "Y": 0.9999997494001502
         },
         {
          "X": -9,
          "Y": 0.06387642015107661
         },
         {
          "X": -9,
          "Y": 0.011880962706433613
         },
         {
          "X": -9,
          "Y": 0.06494820832040384
         },
         {
          "X": -9,
          "Y": 0.9950013359908428
         },
         {
          "X": -9,
          "Y": 0.9999811289257842
         },
         {
          "X": -9,
          "Y": 1.763580273720258e-07
         },
         {
          "X": -9,
          "Y": 1.305784453786037e-06
         },
         {
          "X": -9,
          "Y": 0.988472853118683
         },
         {
          "X": -9,
          "Y": 0.1317151248647589
         },
         {
          "X": -9,
          "Y": 0.7749202638649697
         },
         {
          "X": -9,
          "Y": 0.0015480125915363486
         },
         {
          "X": -9,
          "Y": 1.2231146725615244e-07
         },
         {
          "X": -9,
          "Y": 0.9999999999927138
         },
         {
          "X": -9,
          "Y": 4.717997619082167e-08
         },
         {
          "X": -9,
          "Y": 0.0021100040125049055
         },
         {
          "X": -9,
          "Y": 0.041922909779724994
         },
         {
          "X": -9,
          "Y": 0.44233660979961636
         },
         {
          "X": -9,
          "Y": 0.6043832798118617
         },
         {
          "X": -9,
          "Y": 0.9999830880273839
         },
         {
          "X": -9,
          "Y": 0.9968193099183271
         },
         {
          "X": -9,
          "Y": 0.9999877242154387
         },
         {
          "X": -9,
          "Y": 0.9999083941433774
         },
         {
          "X": -9,
          "Y": 0.02571958619652279
         },
         {
          "X": -9,
          "Y": 0.999506402488846
         },
         {
          "X": -9,
          "Y": 0.5474141824508324
         },
         {
          "X": -9,
          "Y": 0.999986955921372
         },
         {
          "X": -9,
          "Y": 0.9999999898283666
         },
         {
          "X": -9,
          "Y": 0.21610038349087596
         },
         {
          "X": -9,
          "Y": 0.05930454474063667
         },
         {
          "X": -9,
          "Y": 1.5439398767544737e-05
         },
         {
          "X": -9,
          "Y": 0.9805608644012968
         },
         {
          "X": -9,
          "Y": 4.717997619082167e-08
         },
         {
          "X": -9,
          "Y": 0.001964146847499613
         },
         {
          "X": -9,
          "Y": 0.7749202638649697
         },
         {
          "X": -9,
          "Y": 0.5622779137422026
         },
         {
          "X": -9,
          "Y": 0.9805608644012968
         },
         {
          "X": -9,
          "Y": 3.1422448453939193e-07
         },
         {
          "X": -9,
          "Y": 0.7916679456284247
         },
         {
          "X": -9,
          "Y": 0.06387642015107661
         },
         {
          "X": -9,
          "Y": 0.005491469431213112
         },
         {
          "X": -9,
          "Y": 0.9999999978899397
         },
         {
          "X": -9,
          "Y": 0.889530748024696
         },
         {
          "X": -9,
          "Y": 0.05930454474063667
         },
         {
          "X": -9,
          "Y": 0.9999943308453586
         },
         {
          "X": -9,
          "Y": 0.18734602362364272
         },
         {
          "X": -9,
          "Y": 0.06387642015107661
         },
         {
          "X": -9,
          "Y": 0.0015480125915363486
         },
         {
          "X": -9,
          "Y": 0.5622779137422026
         },
         {
          "X": -9,
          "Y": 0.013070999266621117
         },
         {
          "X": -9,
          "Y": 0.03916026181285694
         },
         {
          "X": -9,
          "Y": 0.9999877242154387
         },
         {
          "X": -9,
          "Y": 0.18734602362364272
         },
         {
          "X": -9,
          "Y": 0.689435781822609
         },
         {
          "X": -9,
          "Y": 0.008785454834495604
         },
         {
          "X": -9,
          "Y": 0.689435781822609
         },
         {
          "X": -9,
          "Y": 0.9999994790975342
         },
         {
          "X": -9,
          "Y": 1.2231146725615244e-07
         },
         {
          "X": -9,
          "Y": 3.4273315808157795e-06
         },
         {
          "X": -9,
          "Y": 0.7131550002132567
         },
         {
          "X": -9,
          "Y": 0.06186629264892872
         },
         {
          "X": -9,
          "Y": 0.7749202638649697
         },
         {
          "X": -9,
          "Y": 0.00010977712309549775
         },
         {
          "X": -9,
          "Y": 0.7916679456284247
         },
         {
          "X": -9,
          "Y": 0.20750209405444556
         },
         {
          "X": -9,
          "Y": 0.9999952242696675
         },
         {
          "X": -8,
          "Y": 4.201111573520827e-07
         },
         {
          "X": -8,
          "Y": 0.008043943174778726
         },
         {
          "X": -8,
          "Y": 3.743145145345981e-05
         },
         {
          "X": -8,
          "Y": 0.8458174039353197
         },
         {
          "X": -8,
          "Y": 2.9559356911005796e-06
         },
         {
          "X": -8,
          "Y": 0.014214329058302777
         },
         {
          "X": -8,
          "Y": 0.9904225746967237
         },
         {
          "X": -8,
          "Y": 0.9998042904553486
         },
         {
          "X": -8,
          "Y": 0.9998042904553486
         },
         {
          "X": -8,
          "Y": 0.25652298411959057
         },
         {
          "X": -8,
          "Y": 0.0038802139678634066
         },
         {
          "X": -8,
          "Y": 2.076434898498e-05
         },
         {
          "X": -8,
          "Y": 0.9877224937368947
         },
         {
          "X": -8,
          "Y": 0.9877224937368947
         },
         {
          "X": -8,
          "Y": 0.9999531444675971
         },
         {
          "X": -8,
          "Y": 0.9970638922471705
         },
         {
          "X": -8,
          "Y": 0.7006161830991631
         },
         {
          "X": -8,
          "Y": 0.9999816313651673
         },
         {
          "X": -8,
          "Y": 0.00460105750336267
         },
         {
          "X": -8,
          "Y": 0.16872065214663767
         },
         {
          "X": -8,
          "Y": 0.9970638922471705
         },
         {
          "X": -8,
          "Y": 2.076434898498e-05
         },
         {
          "X": -8,
          "Y": 1.8761868717678314e-07
         },
         {
          "X": -8,
          "Y": 0.03206259200221279
         },
         {
          "X": -8,
          "Y": 0.5714328694357971
         },
         {
          "X": -8,
          "Y": 0.13060049768436052
         },
         {
          "X": -8,
          "Y": 0.08120270643203097
         },
         {
          "X": -8,
          "Y": 0.9997391381515605
         },
         {
          "X": -8,
          "Y": 0.7078416337806224
         },
         {
          "X": -8,
          "Y": 0.018741299546034047
         },
         {
          "X": -8,
          "Y": 0.01641930508013624
         },
         {
          "X": -8,
          "Y": 0.983360108124009
         },
         {
          "X": -8,
          "Y": 1.8761868717678314e-07
         },
         {
          "X": -8,
          "Y": 0.05853119987936947
         },
         {
          "X": -8,
          "Y": 0.9999988510914063
         },
         {
          "X": -8,
          "Y": 0.08376589770067888
         },
         {
          "X": -8,
          "Y": 0.016886895454898288
         },
         {
          "X": -8,
          "Y": 0.09647726825588282
         },
         {
          "X": -8,
          "Y": 0.9904225746967237
         },
         {
          "X": -8,
          "Y": 0.9999365268072042
         },
         {
          "X": -8,
          "Y": 7.044606143237585e-07
         },
         {
          "X": -8,
          "Y": 2.9559356911005796e-06
         },
         {
          "X": -8,
          "Y": 0.983360108124009
         },
         {
          "X": -8,
          "Y": 0.178637578170769
         },
         {
          "X": -8,
          "Y": 0.7859967900200445
         },
         {
          "X": -8,
          "Y": 0.002441242451037787
         },
         {
          "X": -8,
          "Y": 6.436491457942131e-07
         },
         {
          "X": -8,
          "Y": 0.999999999892637
         },
         {
          "X": -8,
          "Y": 1.8761868717678314e-07
         },
         {
          "X": -8,
          "Y": 0.00460105750336267
         },
         {
          "X": -8,
          "Y": 0.05853119987936947
         },
         {
          "X": -8,
          "Y": 0.44880792537870035
         },
         {
          "X": -8,
          "Y": 0.7006161830991631
         },
         {
          "X": -8,
          "Y": 0.99995534749354
         },
         {
          "X": -8,
          "Y": 0.993299584527857
         },
         {
          "X": -8,
          "Y": 0.9999677437943404
         },
         {
          "X": -8,
          "Y": 0.9997391381515605
         },
         {
          "X": -8,
          "Y": 0.037592892634037776
         },
         {
          "X": -8,
          "Y": 0.9990994916042462
         },
         {
          "X": -8,
          "Y": 0.576318146212633
         },
         {
          "X": -8,
          "Y": 0.9999531444675971
         },
         {
          "X": -8,
          "Y": 0.9999999275554242
         },
         {
          "X": -8,
          "Y": 0.19350674792177933
         },
         {
          "X": -8,
          "Y": 0.0706200562114376
         },
         {
          "X": -8,
          "Y": 3.743145145345981e-05
         },
         {
          "X": -8,
          "Y": 0.9730620550083939
         },
         {
          "X": -8,
          "Y": 1.8761868717678314e-07
         },
         {
          "X": -8,
          "Y": 0.0038703870628724424
         },
         {
          "X": -8,
          "Y": 0.7859967900200445
         },
         {
          "X": -8,
          "Y": 0.5714328694357971
         },
         {
          "X": -8,
          "Y": 0.9730620550083939
         },
         {
          "X": -8,
          "Y": 1.5131305601155102e-06
         },
         {
          "X": -8,
          "Y": 0.7586813077087384
         },
         {
          "X": -8,
          "Y": 0.08376589770067888
         },
         {
          "X": -8,
          "Y": 0.008043943174778726
         },
         {
          "X": -8,
          "Y": 0.999999981835939
         },
         {
          "X": -8,
          "Y": 0.8458174039353197
         },
         {
          "X": -8,
          "Y": 0.0706200562114376
         },
         {
          "X": -8,
          "Y": 0.9999790342937113
         },
         {
          "X": -8,
          "Y": 0.20312915420824382
         },
         {
          "X": -8,
          "Y": 0.08376589770067888
         },
         {
          "X": -8,
          "Y": 0.002441242451037787
         },
         {
          "X": -8,
          "Y": 0.5714328694357971
         },
         {
          "X": -8,
          "Y": 0.01641930508013624
         },
         {
          "X": -8,
          "Y": 0.05257616585831214
         },
         {
          "X": -8,
          "Y": 0.9999677437943404
         },
         {
          "X": -8,
          "Y": 0.20312915420824382
         },
         {
          "X": -8,
          "Y": 0.6782185032598578
         },
         {
          "X": -8,
          "Y": 0.012658394748492783
         },
         {
          "X": -8,
          "Y": 0.6782185032598578
         },
         {
          "X": -8,
          "Y": 0.9999976772705329
         },
         {
          "X": -8,
          "Y": 6.436491457942131e-07
         },
         {
          "X": -8,
          "Y": 1.393389619874338e-05
         },
         {
          "X": -8,
          "Y": 0.7078416337806224
         },
         {
          "X": -8,
          "Y": 0.08120270643203097
         },
         {
          "X": -8,
          "Y": 0.7859967900200445
         },
         {
          "X": -8,
          "Y": 0.000324703112059989
         },
         {
          "X": -8,
          "Y": 0.7586813077087384
         },
         {
          "X": -8,
          "Y": 0.24089764201783906
         },
         {
          "X": -8,
          "Y": 0.9999816313651673
         },
         {
          "X": -7,
          "Y": 2.5965634437210634e-06
         },
         {
          "X": -7,
          "Y": 0.011768785049595398
         },
         {
          "X": -7,
          "Y": 9.074638778390895e-05
         },
         {
          "X": -7,
          "Y": 0.7889112170246492
         },
         {
          "X": -7,
          "Y": 6.691408803240361e-06
         },
         {
          "X": -7,
          "Y": 0.02319187092640221
         },
         {
          "X": -7,
          "Y": 0.9817267073610241
         },
         {
          "X": -7,
          "Y": 0.9995355612410572
         },
         {
          "X": -7,
          "Y": 0.9995355612410572
         },
         {
          "X": -7,
          "Y": 0.30631270444489506
         },
         {
          "X": -7,
          "Y": 0.00985812304716623
         },
         {
          "X": -7,
          "Y": 7.070681587287037e-05
         },
         {
          "X": -7,
          "Y": 0.97943324335367
         },
         {
          "X": -7,
          "Y": 0.97943324335367
         },
         {
          "X": -7,
          "Y": 0.9998317053599569
         },
         {
          "X": -7,
          "Y": 0.9948840896494316
         },
         {
          "X": -7,
          "Y": 0.7818883520251974
         },
         {
          "X": -7,
          "Y": 0.9999293524406284
         },
         {
          "X": -7,
          "Y": 0.010003546573855313
         },
         {
          "X": -7,
          "Y": 0.18936370808892283
         },
         {
          "X": -7,
          "Y": 0.9948840896494316
         },
         {
          "X": -7,
          "Y": 7.070681587287037e-05
         },
         {
          "X": -7,
          "Y": 7.460952697455228e-07
         },
         {
          "X": -7,
          "Y": 0.046427018828374474
         },
         {
          "X": -7,
          "Y": 0.5805391907663556
         },
         {
          "X": -7,
          "Y": 0.1599129956928033
         },
         {
          "X": -7,
          "Y": 0.10590051837737459
         },
         {
          "X": -7,
          "Y": 0.9992573877863312
         },
         {
          "X": -7,
          "Y": 0.7024709071118012
         },
         {
          "X": -7,
          "Y": 0.0283179978969974
         },
         {
          "X": -7,
          "Y": 0.020607413492560598
         },
         {
          "X": -7,
          "Y": 0.9760346388753368
         },
         {
          "X": -7,
          "Y": 7.460952697455228e-07
         },
         {
          "X": -7,
          "Y": 0.08116169676948659
         },
         {
          "X": -7,
          "Y": 0.9999947326915508
         },
         {
          "X": -7,
          "Y": 0.10912650445233274
         },
         {
          "X": -7,
          "Y": 0.023950906509401394
         },
         {
          "X": -7,
          "Y": 0.14100400818361022
         },
         {
          "X": -7,
          "Y": 0.9817267073610241
         },
         {
          "X": -7,
          "Y": 0.999786529294417
         },
         {
          "X": -7,
          "Y": 2.81395737827822e-06
         },
         {
          "X": -7,
          "Y": 6.691408803240361e-06
         },
         {
          "X": -7,
          "Y": 0.9760346388753368
         },
         {
          "X": -7,
          "Y": 0.23769971277191604
         },
         {
          "X": -7,
          "Y": 0.7966712481741405
         },
         {
          "X": -7,
          "Y": 0.0038478949703337744
         },
         {
          "X": -7,
          "Y": 3.3871174271760363e-06
         },
         {
          "X": -7,
          "Y": 0.9999999984179901
         },
         {
          "X": -7,
          "Y": 7.460952697455228e-07
         },
         {
          "X": -7,
          "Y": 0.010003546573855313
         },
         {
          "X": -7,
          "Y": 0.08116169676948659
         },
         {
          "X": -7,
          "Y": 0.4552966197319861
         },
         {
          "X": -7,
          "Y": 0.7818883520251974
         },
         {
          "X": -7,
          "Y": 0.9998821098132088
         },
         {
          "X": -7,
          "Y": 0.9859398974916656
         },
         {
          "X": -7,
          "Y": 0.9999152454197576
         },
         {
          "X": -7,
          "Y": 0.9992573877863312
         },
         {
          "X": -7,
          "Y": 0.05464004428453276
         },
         {
          "X": -7,
          "Y": 0.9983576835594605
         },
         {
          "X": -7,
          "Y": 0.6047091380231714
         },
         {
          "X": -7,
          "Y": 0.9998317053599569
         },
         {
          "X": -7,
          "Y": 0.9999994840342374
         },
         {
          "X": -7,
          "Y": 0.17275473407393976
         },
         {
          "X": -7,
          "Y": 0.08390203837012596
         },
         {
          "X": -7,
          "Y": 9.074638778390895e-05
         },
         {
          "X": -7,
          "Y": 0.9627803179474218
         },
         {
          "X": -7,
          "Y": 7.460952697455228e-07
         },
         {
          "X": -7,
          "Y": 0.007612556797572405
         },
         {
          "X": -7,
          "Y": 0.7966712481741405
         },
         {
          "X": -7,
          "Y": 0.5805391907663556
         },
         {
          "X": -7,
          "Y": 0.9627803179474218
         },
         {
          "X": -7,
          "Y": 7.286362875467317e-06
         },
         {
          "X": -7,
          "Y": 0.7223037605817397
         },
         {
          "X": -7,
          "Y": 0.10912650445233274
         },
         {
          "X": -7,
          "Y": 0.011768785049595398
         },
         {
          "X": -7,
          "Y": 0.9999998436380844
         },
         {
          "X": -7,
          "Y": 0.7889112170246492
         },
         {
          "X": -7,
          "Y": 0.08390203837012596
         },
         {
          "X": -7,
          "Y": 0.9999224676823043
         },
         {
          "X": -7,
          "Y": 0.2198821774891774
         },
         {
          "X": -7,
          "Y": 0.10912650445233274
         },
         {
          "X": -7,
          "Y": 0.0038478949703337744
         },
         {
          "X": -7,
          "Y": 0.5805391907663556
         },
         {
          "X": -7,
          "Y": 0.020607413492560598
         },
         {
          "X": -7,
          "Y": 0.07025217164862947
         },
         {
          "X": -7,
          "Y": 0.9999152454197576
         },
         {
          "X": -7,
          "Y": 0.2198821774891774
         },
         {
          "X": -7,
          "Y": 0.6667918821921415
         },
         {
          "X": -7,
          "Y": 0.01820730247965707
         },
         {
          "X": -7,
          "Y": 0.6667918821921415
         },
         {
          "X": -7,
          "Y": 0.9999896429007238
         },
         {
          "X": -7,
          "Y": 3.3871174271760363e-06
         },
         {
          "X": -7,
          "Y": 5.6646754351516134e-05
         },
         {
          "X": -7,
          "Y": 0.7024709071118012
         },
         {
          "X": -7,
          "Y": 0.10590051837737459
         },
         {
          "X": -7,
          "Y": 0.7966712481741405
         },
         {
          "X": -7,
          "Y": 0.0009600156841697104
         },
         {
          "X": -7,
          "Y": 0.7223037605817397
         },
         {
          "X": -7,
          "Y": 0.27778396988957904
         },
         {
          "X": -7,
          "Y": 0.9999293524406284
         },
         {
          "X": -6,
          "Y": 1.6048290028456112e-05
         },
         {
          "X": -6,
          "Y": 0.017188570671828354
         },
         {
          "X": -6,
          "Y": 0.00021998296232120107
         },
         {
          "X": -6,
          "Y": 0.7180043595564928
         },
         {
          "X": -6,
          "Y": 1.5147400040902662e-05
         },
         {
          "X": -6,
          "Y": 0.03762308244697664
         },
         {
          "X": -6,
          "Y": 0.96541112298044
         },
         {
          "X": -6,
          "Y": 0.9988982459592365
         },
         {
          "X": -6,
          "Y": 0.9988982459592365
         },
         {
          "X": -6,
          "Y": 0.3610730150976401
         },
         {
          "X": -6,
          "Y": 0.024816239055036216
         },
         {
          "X": -6,
          "Y": 0.00024074211674071248
         },
         {
          "X": -6,
          "Y": 0.9657415557347732
         },
         {
          "X": -6,
          "Y": 0.9657415557347732
         },
         {
          "X": -6,
          "Y": 0.9993957133276279
         },
         {
          "X": -6,
          "Y": 0.9911004194384371
         },
         {
          "X": -6,
          "Y": 0.8459490796195754
         },
         {
          "X": -6,
          "Y": 0.9997283230267021
         },
         {
          "X": -6,
          "Y": 0.02161182432607101
         },
         {
          "X": -6,
          "Y": 0.2118886677860056
         },
         {
          "X": -6,
          "Y": 0.9911004194384371
         },
         {
          "X": -6,
          "Y": 0.00024074211674071248
         },
         {
          "X": -6,
          "Y": 2.9669604586273766e-06
         },
         {
          "X": -6,
          "Y": 0.06678286854501578
         },
         {
          "X": -6,
          "Y": 0.589590987546925
         },
         {
          "X": -6,
          "Y": 0.1943339232255968
         },
         {
          "X": -6,
          "Y": 0.1369901772621588
         },
         {
          "X": -6,
          "Y": 0.9978878376526529
         },
         {
          "X": -6,
          "Y": 0.6970437070705299
         },
         {
          "X": -6,
          "Y": 0.04257600413927483
         },
         {
          "X": -6,
          "Y": 0.025835731699249662
         },
         {
          "X": -6,
          "Y": 0.9655970633100734
         },
         {
          "X": -6,
          "Y": 2.9669604586273766e-06
         },
         {
          "X": -6,
          "Y": 0.11150573103116967
         },
         {
          "X": -6,
          "Y": 0.9999758517528119
         },
         {
          "X": -6,
          "Y": 0.14098373266289688
         },
         {
          "X": -6,
          "Y": 0.033868088334393545
         },
         {
          "X": -6,
          "Y": 0.20149799828371753
         },
         {
          "X": -6,
          "Y": 0.96541112298044
         },
         {
          "X": -6,
          "Y": 0.9992823175927992
         },
         {
          "X": -6,
          "Y": 1.1240239620108582e-05
         },
         {
          "X": -6,
          "Y": 1.5147400040902662e-05
         },
         {
          "X": -6,
          "Y": 0.9655970633100734
         },
         {
          "X": -6,
          "Y": 0.30894431028215685
         },
         {
          "X": -6,
          "Y": 0.8069440431898158
         },
         {
          "X": -6,
          "Y": 0.006060141762300354
         },
         {
          "X": -6,
          "Y": 1.782404340250853e-05
         },
         {
          "X": -6,
          "Y": 0.9999999766888489
         },
         {
          "X": -6,
          "Y": 2.9669604586273766e-06
         },
         {
          "X": -6,
          "Y": 0.02161182432607101
         },
         {
          "X": -6,
          "Y": 0.11150573103116967
         },
         {
          "X": -6,
          "Y": 0.46180052823210155
         },
         {
          "X": -6,
          "Y": 0.8459490796195754
         },
         {
          "X": -6,
          "Y": 0.9996887873067083
         },
         {
          "X": -6,
          "Y": 0.9707345569924399
         },
         {
          "X": -6,
          "Y": 0.9997773226891052
         },
         {
          "X": -6,
          "Y": 0.9978878376526529
         },
         {
          "X": -6,
          "Y": 0.0787847024931247
         },
         {
          "X": -6,
          "Y": 0.9970066302214623
         },
         {
          "X": -6,
          "Y": 0.6324110932804236
         },
         {
          "X": -6,
          "Y": 0.9993957133276279
         },
         {
          "X": -6,
          "Y": 0.9999963251914636
         },
         {
          "X": -6,
          "Y": 0.15380378879209397
         },
         {
          "X": -6,
          "Y": 0.09941483916121181
         },
         {
          "X": -6,
          "Y": 0.00021998296232120107
         },
         {
          "X": -6,
          "Y": 0.9487807906976061
         },
         {
          "X": -6,
          "Y": 2.9669604586273766e-06
         },
         {
          "X": -6,
          "Y": 0.014918737786378346
         },
         {
          "X": -6,
          "Y": 0.8069440431898158
         },
         {
          "X": -6,
          "Y": 0.589590987546925
         },
         {
          "X": -6,
          "Y": 0.9487807906976061
         },
         {
          "X": -6,
          "Y": 3.5086142545834866e-05
         },
         {
          "X": -6,
          "Y": 0.6827356638323522
         },
         {
          "X": -6,
          "Y": 0.14098373266289688
         },
         {
          "X": -6,
          "Y": 0.017188570671828354
         },
         {
          "X": -6,
          "Y": 0.9999986539891664
         },
         {
          "X": -6,
          "Y": 0.7180043595564928
         },
         {
          "X": -6,
          "Y": 0.09941483916121181
         },
         {
          "X": -6,
          "Y": 0.9997133250419529
         },
         {
          "X": -6,
          "Y": 0.23760491674089315
         },
         {
          "X": -6,
          "Y": 0.14098373266289688
         },
         {
          "X": -6,
          "Y": 0.006060141762300354
         },
         {
          "X": -6,
          "Y": 0.589590987546925
         },
         {
          "X": -6,
          "Y": 0.025835731699249662
         },
         {
          "X": -6,
          "Y": 0.09328568965219755
         },
         {
          "X": -6,
          "Y": 0.9997773226891052
         },
         {
          "X": -6,
          "Y": 0.23760491674089315
         },
         {
          "X": -6,
          "Y": 0.6551658037479555
         },
         {
          "X": -6,
          "Y": 0.026124258386930763
         },
         {
          "X": -6,
          "Y": 0.6551658037479555
         },
         {
          "X": -6,
          "Y": 0.9999538187611239
         },
         {
          "X": -6,
          "Y": 1.782404340250853e-05
         },
         {
          "X": -6,
          "Y": 0.00023026113021396656
         },
         {
          "X": -6,
          "Y": 0.6970437070705299
         },
         {
          "X": -6,
          "Y": 0.1369901772621588
         },
         {
          "X": -6,
          "Y": 0.8069440431898158
         },
         {
          "X": -6,
          "Y": 0.0028348528205220298
         },
         {
          "X": -6,
          "Y": 0.6827356638323522
         },
         {
          "X": -6,
          "Y": 0.3179526407462218
         },
         {
          "X": -6,
          "Y": 0.9997283230267021
         },
         {
          "X": -5,
          "Y": 9.918096425582835e-05
         },
         {
          "X": -5,
          "Y": 0.02504104232546354
         },
         {
          "X": -5,
          "Y": 0.0005331738151432123
         },
         {
          "X": -5,
          "Y": 0.6343195738327992
         },
         {
          "X": -5,
          "Y": 3.4288934205147845e-05
         },
         {
          "X": -5,
          "Y": 0.06047817870422683
         },
         {
          "X": -5,
          "Y": 0.9354852430323305
         },
         {
          "X": -5,
          "Y": 0.9973886743816702
         },
         {
          "X": -5,
          "Y": 0.9973886743816702
         },
         {
          "X": -5,
          "Y": 0.4196999639634804
         },
         {
          "X": -5,
          "Y": 0.06107098979110346
         },
         {
          "X": -5,
          "Y": 0.0008193421745653086
         },
         {
          "X": -5,
          "Y": 0.9434612093218567
         },
         {
          "X": -5,
          "Y": 0.9434612093218567
         },
         {
          "X": -5,
          "Y": 0.9978326681888575
         },
         {
          "X": -5,
          "Y": 0.9845618127202768
         },
         {
          "X": -5,
          "Y": 0.893751497660227
         },
         {
          "X": -5,
          "Y": 0.9989558566677585
         },
         {
          "X": -5,
          "Y": 0.04606376708805815
         },
         {
          "X": -5,
          "Y": 0.23631191722654663
         },
         {
          "X": -5,
          "Y": 0.9845618127202768
         },
         {
          "X": -5,
          "Y": 0.0008193421745653086
         },
         {
          "X": -5,
          "Y": 1.1798488111332746e-05
         },
         {
          "X": -5,
          "Y": 0.09517293364111581
         },
         {
          "X": -5,
          "Y": 0.5985825152042611
         },
         {
          "X": -5,
          "Y": 0.23409927521176124
         },
         {
          "X": -5,
          "Y": 0.17541627800391227
         },
         {
          "X": -5,
          "Y": 0.9940076641392114
         },
         {
          "X": -5,
          "Y": 0.6915609773398977
         },
         {
          "X": -5,
          "Y": 0.06354340032871515
         },
         {
          "X": -5,
          "Y": 0.03234671932066379
         },
         {
          "X": -5,
          "Y": 0.9508425849724134
         },
         {
          "X": -5,
          "Y": 1.1798488111332746e-05
         },
         {
          "X": -5,
          "Y": 0.15132612864003342
         },
         {
          "X": -5,
          "Y": 0.9998892986078636
         },
         {
          "X": -5,
          "Y": 0.1802592473687582
         },
         {
          "X": -5,
          "Y": 0.047690966522334274
         },
         {
          "X": -5,
          "Y": 0.2795006056365272
         },
         {
          "X": -5,
          "Y": 0.9354852430323305
         },
         {
          "X": -5,
          "Y": 0.9975900429833671
         },
         {
          "X": -5,
          "Y": 4.489755241401007e-05
         },
         {
          "X": -5,
          "Y": 3.4288934205147845e-05
         },
         {
          "X": -5,
          "Y": 0.9508425849724134
         },
         {
          "X": -5,
          "Y": 0.3906010666311022
         },
         {
          "X": -5,
          "Y": 0.8168171644140805
         },
         {
          "X": -5,
          "Y": 0.00953209166679879
         },
         {
          "X": -5,
          "Y": 9.378977312147238e-05
         },
         {
          "X": -5,
          "Y": 0.9999996565068076
         },
         {
          "X": -5,
          "Y": 1.1798488111332746e-05
         },
         {
          "X": -5,
          "Y": 0.04606376708805815
         },
         {
          "X": -5,
          "Y": 0.15132612864003342
         },
         {
          "X": -5,
          "Y": 0.4683174656286659
         },
         {
          "X": -5,
          "Y": 0.893751497660227
         },
         {
          "X": -5,
          "Y": 0.9991787048207178
         },
         {
          "X": -5,
          "Y": 0.9400846448223829
         },
         {
          "X": -5,
          "Y": 0.9994150869830345
         },
         {
          "X": -5,
          "Y": 0.9940076641392114
         },
         {
          "X": -5,
          "Y": 0.11233079431680656
         },
         {
          "X": -5,
          "Y": 0.9945501985625905
         },
         {
          "X": -5,
          "Y": 0.6592655872136599
         },
         {
          "X": -5,
          "Y": 0.9978326681888575
         },
         {
          "X": -5,
          "Y": 0.9999738278048592
         },
         {
          "X": -5,
          "Y": 0.13658848406054183
         },
         {
          "X": -5,
          "Y": 0.1174281767891664
         },
         {
          "X": -5,
          "Y": 0.0005331738151432123
         },
         {
          "X": -5,
          "Y": 0.9298989872454708
         },
         {
          "X": -5,
          "Y": 1.1798488111332746e-05
         },
         {
          "X": -5,
          "Y": 0.02903191703096615
         },
         {
          "X": -5,
          "Y": 0.8168171644140805
         },
         {
          "X": -5,
          "Y": 0.5985825152042611
         },
         {
          "X": -5,
          "Y": 0.9298989872454708
         },
         {
          "X": -5,
          "Y": 0.0001689329591120272
         },
         {
          "X": -5,
          "Y": 0.6403369766382115
         },
         {
          "X": -5,
          "Y": 0.1802592473687582
         },
         {
          "X": -5,
          "Y": 0.02504104232546354
         },
         {
          "X": -5,
          "Y": 0.9999884132350275
         },
         {
          "X": -5,
          "Y": 0.6343195738327992
         },
         {
          "X": -5,
          "Y": 0.1174281767891664
         },
         {
          "X": -5,
          "Y": 0.9989406199575304
         },
         {
          "X": -5,
          "Y": 0.25628684158587156
         },
         {
          "X": -5,
          "Y": 0.1802592473687582
         },
         {
          "X": -5,
          "Y": 0.00953209166679879
         },
         {
          "X": -5,
          "Y": 0.5985825152042611
         },
         {
          "X": -5,
          "Y": 0.03234671932066379
         },
         {
          "X": -5,
          "Y": 0.12287313641913512
         },
         {
          "X": -5,
          "Y": 0.9994150869830345
         },
         {
          "X": -5,
          "Y": 0.25628684158587156
         },
         {
          "X": -5,
          "Y": 0.6433510467648308
         },
         {
          "X": -5,
          "Y": 0.03735271925612554
         },
         {
          "X": -5,
          "Y": 0.6433510467648308
         },
         {
          "X": -5,
          "Y": 0.9997941081253306
         },
         {
          "X": -5,
          "Y": 9.378977312147238e-05
         },
         {
          "X": -5,
          "Y": 0.0009354814739072684
         },
         {
          "X": -5,
          "Y": 0.6915609773398977
         },
         {
          "X": -5,
          "Y": 0.17541627800391227
         },
         {
          "X": -5,
          "Y": 0.8168171644140805
         },
         {
          "X": -5,
          "Y": 0.008340535859379045
         },
         {
          "X": -5,
          "Y": 0.6403369766382115
         },
         {
          "X": -5,
          "Y": 0.36102624433053404
         },
         {
          "X": -5,
          "Y": 0.9989558566677585
         },
         {
          "X": -4,
          "Y": 0.0006126901531712292
         },
         {
          "X": -4,
          "Y": 0.03634818379633878
         },
         {
          "X": -4,
          "Y": 0.0012916799888159373
         },
         {
          "X": -4,
          "Y": 0.5416537721261245
         },
         {
          "X": -4,
          "Y": 7.76174502829027e-05
         },
         {
          "X": -4,
          "Y": 0.09583460755868799
         },
         {
          "X": -4,
          "Y": 0.8828107682876495
         },
         {
          "X": -4,
          "Y": 0.9938235479328696
         },
         {
          "X": -4,
          "Y": 0.9938235479328696
         },
         {
          "X": -4,
          "Y": 0.4806845195587524
         },
         {
          "X": -4,
          "Y": 0.14254900980915386
         },
         {
          "X": -4,
          "Y": 0.002784677375170691
         },
         {
          "X": -4,
          "Y": 0.9080699456054973
         },
         {
          "X": -4,
          "Y": 0.9080699456054973
         },
         {
          "X": -4,
          "Y": 0.9922579773096912
         },
         {
          "X": -4,
          "Y": 0.9733484125669941
         },
         {
          "X": -4,
          "Y": 0.9279834634837408
         },
         {
          "X": -4,
          "Y": 0.9959958132615598
         },
         {
          "X": -4,
          "Y": 0.095481142308841
         },
         {
          "X": -4,
          "Y": 0.2626122499817588
         },
         {
          "X": -4,
          "Y": 0.9733484125669941
         },
         {
          "X": -4,
          "Y": 0.002784677375170691
         },
         {
          "X": -4,
          "Y": 4.691692535730329e-05
         },
         {
          "X": -4,
          "Y": 0.13390022455445794
         },
         {
          "X": -4,
          "Y": 0.6075081885745418
         },
         {
          "X": -4,
          "Y": 0.27918192844648754
         },
         {
          "X": -4,
          "Y": 0.22185018655432942
         },
         {
          "X": -4,
          "Y": 0.9831199484211003
         },
         {
          "X": -4,
          "Y": 0.6860237184363809
         },
         {
          "X": -4,
          "Y": 0.09382470725636192
         },
         {
          "X": -4,
          "Y": 0.04043047201465833
         },
         {
          "X": -4,
          "Y": 0.9302176154505358
         },
         {
          "X": -4,
          "Y": 4.691692535730329e-05
         },
         {
          "X": -4,
          "Y": 0.20213184999376702
         },
         {
          "X": -4,
          "Y": 0.9994926754956959
         },
         {
          "X": -4,
          "Y": 0.22757751283873667
         },
         {
          "X": -4,
          "Y": 0.06676562386392841
         },
         {
          "X": -4,
          "Y": 0.3735722066089783
         },
         {
          "X": -4,
          "Y": 0.8828107682876495
         },
         {
          "X": -4,
          "Y": 0.9919396199172252
         },
         {
          "X": -4,
          "Y": 0.00017931887073172924
         },
         {
          "X": -4,
          "Y": 7.76174502829027e-05
         },
         {
          "X": -4,
          "Y": 0.9302176154505358
         },
         {
          "X": -4,
          "Y": 0.47888422787459356
         },
         {
          "X": -4,
          "Y": 0.8262940538200395
         },
         {
          "X": -4,
          "Y": 0.014963230571359577
         },
         {
          "X": -4,
          "Y": 0.0004933602445556559
         },
         {
          "X": -4,
          "Y": 0.999994938600262
         },
         {
          "X": -4,
          "Y": 4.691692535730329e-05
         },
         {
          "X": -4,
          "Y": 0.095481142308841
         },
         {
          "X": -4,
          "Y": 0.20213184999376702
         },
         {
          "X": -4,
          "Y": 0.4748452289526312
         },
         {
          "X": -4,
          "Y": 0.9279834634837408
         },
         {
          "X": -4,
          "Y": 0.9978344002159686
         },
         {
          "X": -4,
          "Y": 0.8812612626979904
         },
         {
          "X": -4,
          "Y": 0.9984644968516483
         },
         {
          "X": -4,
          "Y": 0.9831199484211003
         },
         {
          "X": -4,
          "Y": 0.15771520185945676
         },
         {
          "X": -4,
          "Y": 0.9900979801481112
         },
         {
          "X": -4,
          "Y": 0.6851349845422593
         },
         {
          "X": -4,
          "Y": 0.9922579773096912
         },
         {
          "X": -4,
          "Y": 0.999813625808976
         },
         {
          "X": -4,
          "Y": 0.12102450286604222
         },
         {
          "X": -4,
          "Y": 0.13820453568723112
         },
         {
          "X": -4,
          "Y": 0.0012916799888159373
         },
         {
          "X": -4,
          "Y": 0.904755227318696
         },
         {
          "X": -4,
          "Y": 4.691692535730329e-05
         },
         {
          "X": -4,
          "Y": 0.05574074234656079
         },
         {
          "X": -4,
          "Y": 0.8262940538200395
         },
         {
          "X": -4,
          "Y": 0.6075081885745418
         },
         {
          "X": -4,
          "Y": 0.904755227318696
         },
         {
          "X": -4,
          "Y": 0.0008129642606187106
         },
         {
          "X": -4,
          "Y": 0.595628120685614
         },
         {
          "X": -4,
          "Y": 0.22757751283873667
         },
         {
          "X": -4,
          "Y": 0.03634818379633878
         },
         {
          "X": -4,
          "Y": 0.9999002662833165
         },
         {
          "X": -4,
          "Y": 0.5416537721261245
         },
         {
          "X": -4,
          "Y": 0.13820453568723112
         },
         {
          "X": -4,
          "Y": 0.9960933008311675
         },
         {
          "X": -4,
          "Y": 0.27590607107089377
         },
         {
          "X": -4,
          "Y": 0.22757751283873667
         },
         {
          "X": -4,
          "Y": 0.014963230571359577
         },
         {
          "X": -4,
          "Y": 0.6075081885745418
         },
         {
          "X": -4,
          "Y": 0.04043047201465833
         },
         {
          "X": -4,
          "Y": 0.16018694804683206
         },
         {
          "X": -4,
          "Y": 0.9984644968516483
         },
         {
          "X": -4,
          "Y": 0.27590607107089377
         },
         {
          "X": -4,
          "Y": 0.631359258239452
         },
         {
          "X": -4,
          "Y": 0.053143924015961914
         },
         {
          "X": -4,
          "Y": 0.631359258239452
         },
         {
          "X": -4,
          "Y": 0.9990825698342625
         },
         {
          "X": -4,
          "Y": 0.0004933602445556559
         },
         {
          "X": -4,
          "Y": 0.0037923859046247255
         },
         {
          "X": -4,
          "Y": 0.6860237184363809
         },
         {
          "X": -4,
          "Y": 0.22185018655432942
         },
         {
          "X": -4,
          "Y": 0.8262940538200395
         },
         {
          "X": -4,
          "Y": 0.024278684575607643
         },
         {
          "X": -4,
          "Y": 0.595628120685614
         },
         {
          "X": -4,
          "Y": 0.4064576558929036
         },
         {
          "X": -4,
          "Y": 0.9959958132615598
         },
         {
          "X": -3,
          "Y": 0.003774854681724805
         },
         {
          "X": -3,
          "Y": 0.052486141232696876
         },
         {
          "X": -3,
          "Y": 0.003125880845446738
         },
         {
          "X": -3,
          "Y": 0.4460140687341977
         },
         {
          "X": -3,
          "Y": 0.00017568754724890895
         },
         {
          "X": -3,
          "Y": 0.14859183780884574
         },
         {
          "X": -3,
          "Y": 0.7964852901240486
         },
         {
          "X": -3,
          "Y": 0.985462059185091
         },
         {
          "X": -3,
          "Y": 0.985462059185091
         },
         {
          "X": -3,
          "Y": 0.5422501097831323
         },
         {
          "X": -3,
          "Y": 0.2982064191871205
         },
         {
          "X": -3,
          "Y": 0.009419768968639337
         },
         {
          "X": -3,
          "Y": 0.8539543520287061
         },
         {
          "X": -3,
          "Y": 0.8539543520287061
         },
         {
          "X": -3,
          "Y": 0.9727361581535547
         },
         {
          "X": -3,
          "Y": 0.954367743190383
         },
         {
          "X": -3,
          "Y": 0.951781339777334
         },
         {
          "X": -3,
          "Y": 0.9847722547652495
         },
         {
          "X": -3,
          "Y": 0.18749366903946765
         },
         {
          "X": -3,
          "Y": 0.2907253737904688
         },
         {
          "X": -3,
          "Y": 0.954367743190383
         },
         {
          "X": -3,
          "Y": 0.009419768968639337
         },
         {
          "X": -3,
          "Y": 0.00018654659755692357
         },
         {
          "X": -3,
          "Y": 0.185161408244041
         },
         {
          "X": -3,
          "Y": 0.6163625948201333
         },
         {
          "X": -3,
          "Y": 0.329214701118571
         },
         {
          "X": -3,
          "Y": 0.27645459659854105
         },
         {
          "X": -3,
          "Y": 0.953377761139896
         },
         {
          "X": -3,
          "Y": 0.6804329876155422
         },
         {
          "X": -3,
          "Y": 0.13643403505838017
         },
         {
          "X": -3,
          "Y": 0.050429148506601934
         },
         {
          "X": -3,
          "Y": 0.9018324529934895
         },
         {
          "X": -3,
          "Y": 0.00018654659755692357
         },
         {
          "X": -3,
          "Y": 0.2646752525742144
         },
         {
          "X": -3,
          "Y": 0.9976783228784009
         },
         {
          "X": -3,
          "Y": 0.28302829990349027
         },
         {
          "X": -3,
          "Y": 0.0927265979473214
         },
         {
          "X": -3,
          "Y": 0.47828759032695634
         },
         {
          "X": -3,
          "Y": 0.7964852901240486
         },
         {
          "X": -3,
          "Y": 0.9733944499007611
         },
         {
          "X": -3,
          "Y": 0.0007159036375849177
         },
         {
          "X": -3,
          "Y": 0.00017568754724890895
         },
         {
          "X": -3,
          "Y": 0.9018324529934895
         },
         {
          "X": -3,
          "Y": 0.5685063419274674
         },
         {
          "X": -3,
          "Y": 0.8353794713685407
         },
         {
          "X": -3,
          "Y": 0.023415733874036008
         },
         {
          "X": -3,
          "Y": 0.0025908011675037585
         },
         {
          "X": -3,
          "Y": 0.9999254247014958
         },
         {
          "X": -3,
          "Y": 0.00018654659755692357
         },
         {
          "X": -3,
          "Y": 0.18749366903946765
         },
         {
          "X": -3,
          "Y": 0.2646752525742144
         },
         {
          "X": -3,
          "Y": 0.48138160047165107
         },
         {
          "X": -3,
          "Y": 0.951781339777334
         },
         {
          "X": -3,
          "Y": 0.9943022710950491
         },
         {
          "X": -3,
          "Y": 0.7783057013911153
         },
         {
          "X": -3,
          "Y": 0.9959752461181522
         },
         {
          "X": -3,
          "Y": 0.953377761139896
         },
         {
          "X": -3,
          "Y": 0.21695444013686024
         },
         {
          "X": -3,
          "Y": 0.9820740775469521
         },
         {
          "X": -3,
          "Y": 0.7099045588867026
         },
         {
          "X": -3,
          "Y": 0.9727361581535547
         },
         {
          "X": -3,
          "Y": 0.9986741154266977
         },
         {
          "X": -3,
          "Y": 0.10701419408786432
         },
         {
          "X": -3,
          "Y": 0.16198216086587688
         },
         {
          "X": -3,
          "Y": 0.003125880845446738
         },
         {
          "X": -3,
          "Y": 0.8718359165240551
         },
         {
          "X": -3,
          "Y": 0.00018654659755692357
         },
         {
          "X": -3,
          "Y": 0.1043797254809787
         },
         {
          "X": -3,
          "Y": 0.8353794713685407
         },
         {
          "X": -3,
          "Y": 0.6163625948201333
         },
         {
          "X": -3,
          "Y": 0.8718359165240551
         },
         {
          "X": -3,
          "Y": 0.0039026835160379265
         },
         {
          "X": -3,
          "Y": 0.5492735852031027
         },
         {
          "X": -3,
          "Y": 0.28302829990349027
         },
         {
          "X": -3,
          "Y": 0.052486141232696876
         },
         {
          "X": -3,
          "Y": 0.9991421118407618
         },
         {
          "X": -3,
          "Y": 0.4460140687341977
         },
         {
          "X": -3,
          "Y": 0.16198216086587688
         },
         {
          "X": -3,
          "Y": 0.9857027096067754
         },
         {
          "X": -3,
          "Y": 0.2964285673745746
         },
         {
          "X": -3,
          "Y": 0.28302829990349027
         },
         {
          "X": -3,
          "Y": 0.023415733874036008
         },
         {
          "X": -3,
          "Y": 0.6163625948201333
         },
         {
          "X": -3,
          "Y": 0.050429148506601934
         },
         {
          "X": -3,
          "Y": 0.20616868821188578
         },
         {
          "X": -3,
          "Y": 0.9959752461181522
         },
         {
          "X": -3,
          "Y": 0.2964285673745746
         },
         {
          "X": -3,
          "Y": 0.6192029198451907
         },
         {
          "X": -3,
          "Y": 0.07509026091784017
         },
         {
          "X": -3,
          "Y": 0.6192029198451907
         },
         {
          "X": -3,
          "Y": 0.9959220679191784
         },
         {
          "X": -3,
          "Y": 0.0025908011675037585
         },
         {
          "X": -3,
          "Y": 0.015241006002821654
         },
         {
          "X": -3,
          "Y": 0.6804329876155422
         },
         {
          "X": -3,
          "Y": 0.27645459659854105
         },
         {
          "X": -3,
          "Y": 0.8353794713685407
         },
         {
          "X": -3,
          "Y": 0.0685675588121615
         },
         {
          "X": -3,
          "Y": 0.5492735852031027
         },
         {
          "X": -3,
          "Y": 0.45354812114474546
         },
         {
          "X": -3,
          "Y": 0.9847722547652495
         },
         {
          "X": -2,
          "Y": 0.0228836185815292
         },
         {
          "X": -2,
          "Y": 0.07522971923231575
         },
         {
          "X": -2,
          "Y": 0.007544991602933998
         },
         {
          "X": -2,
          "Y": 0.3542110701543473
         },
         {
          "X": -2,
          "Y": 0.00039762050462635134
         },
         {
          "X": -2,
          "Y": 0.2232218894104898
         },
         {
          "X": -2,
          "Y": 0.6703171595067198
         },
         {
          "X": -2,
          "Y": 0.9661664072823701
         },
         {
          "X": -2,
          "Y": 0.9661664072823701
         },
         {
          "X": -2,
          "Y": 0.6025518434514734
         },
         {
          "X": -2,
          "Y": 0.5206311239644102
         },
         {
          "X": -2,
          "Y": 0.03136710655733782
         },
         {
          "X": -2,
          "Y": 0.7758465026893618
         },
         {
          "X": -2,
          "Y": 0.7758465026893618
         },
         {
          "X": -2,
          "Y": 0.9085271792145914
         },
         {
          "X": -2,
          "Y": 0.9229396562954025
         },
         {
          "X": -2,
          "Y": 0.9679864960503706
         },
         {
          "X": -2,
          "Y": 0.9438626891240222
         },
         {
          "X": -2,
          "Y": 0.3353060828962928
         },
         {
          "X": -2,
          "Y": 0.32053981352437977
         },
         {
          "X": -2,
          "Y": 0.9229396562954025
         },
         {
          "X": -2,
          "Y": 0.03136710655733782
         },
         {
          "X": -2,
          "Y": 0.0007414206504312629
         },
         {
          "X": -2,
          "Y": 0.25037391588393204
         },
         {
          "X": -2,
          "Y": 0.6251405054103365
         },
         {
          "X": -2,
          "Y": 0.38344417118035173
         },
         {
          "X": -2,
          "Y": 0.3386498712433268
         },
         {
          "X": -2,
          "Y": 0.8777473005882334
         },
         {
          "X": -2,
          "Y": 0.6747898986665559
         },
         {
          "X": -2,
          "Y": 0.19424592678497424
         },
         {
          "X": -2,
          "Y": 0.06273887964963672
         },
         {
          "X": -2,
          "Y": 0.8635942562783878
         },
         {
          "X": -2,
          "Y": 0.0007414206504312629
         },
         {
          "X": -2,
          "Y": 0.33836382604925314
         },
         {
          "X": -2,
          "Y": 0.9894438031510951
         },
         {
          "X": -2,
          "Y": 0.34593899376015125
         },
         {
          "X": -2,
          "Y": 0.12740406783949842
         },
         {
          "X": -2,
          "Y": 0.5849466596521411
         },
         {
          "X": -2,
          "Y": 0.6703171595067198
         },
         {
          "X": -2,
          "Y": 0.9158026600520471
         },
         {
          "X": -2,
          "Y": 0.002853555033737637
         },
         {
          "X": -2,
          "Y": 0.00039762050462635134
         },
         {
          "X": -2,
          "Y": 0.8635942562783878
         },
         {
          "X": -2,
          "Y": 0.6538560897929729
         },
         {
          "X": -2,
          "Y": 0.8440793597389373
         },
         {
          "X": -2,
          "Y": 0.03646616921926457
         },
         {
          "X": -2,
          "Y": 0.013484868429587767
         },
         {
          "X": -2,
          "Y": 0.9989022462437909
         },
         {
          "X": -2,
          "Y": 0.0007414206504312629
         },
         {
          "X": -2,
          "Y": 0.3353060828962928
         },
         {
          "X": -2,
          "Y": 0.33836382604925314
         },
         {
          "X": -2,
          "Y": 0.48792435068812173
         },
         {
          "X": -2,
          "Y": 0.9679864960503706
         },
         {
          "X": -2,
          "Y": 0.9850952330056216
         },
         {
          "X": -2,
          "Y": 0.6241525390054465
         },
         {
          "X": -2,
          "Y": 0.9894930604165058
         },
         {
          "X": -2,
          "Y": 0.8777473005882334
         },
         {
          "X": -2,
          "Y": 0.29076331915980264
         },
         {
          "X": -2,
          "Y": 0.9677598888169779
         },
         {
          "X": -2,
          "Y": 0.733483563051973
         },
         {
          "X": -2,
          "Y": 0.9085271792145914
         },
         {
          "X": -2,
          "Y": 0.9906327991807763
         },
         {
          "X": -2,
          "Y": 0.09445149530450751
         },
         {
          "X": -2,
          "Y": 0.18895370133298986
         },
         {
          "X": -2,
          "Y": 0.007544991602933998
         },
         {
          "X": -2,
          "Y": 0.82968062355267
         },
         {
          "X": -2,
          "Y": 0.0007414206504312629
         },
         {
          "X": -2,
          "Y": 0.18705318416025019
         },
         {
          "X": -2,
          "Y": 0.8440793597389373
         },
         {
          "X": -2,
          "Y": 0.6251405054103365
         },
         {
          "X": -2,
          "Y": 0.82968062355267
         },
         {
          "X": -2,
          "Y": 0.018517444422511676
         },
         {
          "X": -2,
          "Y": 0.5020476544603031
         },
         {
          "X": -2,
          "Y": 0.34593899376015125
         },
         {
          "X": -2,
          "Y": 0.07522971923231575
         },
         {
          "X": -2,
          "Y": 0.9926629192520121
         },
         {
          "X": -2,
          "Y": 0.3542110701543473
         },
         {
          "X": -2,
          "Y": 0.18895370133298986
         },
         {
          "X": -2,
          "Y": 0.949088895727117
         },
         {
          "X": -2,
          "Y": 0.3178075815672158
         },
         {
          "X": -2,
          "Y": 0.34593899376015125
         },
         {
          "X": -2,
          "Y": 0.03646616921926457
         },
         {
          "X": -2,
          "Y": 0.6251405054103365
         },
         {
          "X": -2,
          "Y": 0.06273887964963672
         },
         {
          "X": -2,
          "Y": 0.2612436241276548
         },
         {
          "X": -2,
          "Y": 0.9894930604165058
         },
         {
          "X": -2,
          "Y": 0.3178075815672158
         },
         {
          "X": -2,
          "Y": 0.6068953065394481
         },
         {
          "X": -2,
          "Y": 0.10509364732834069
         },
         {
          "X": -2,
          "Y": 0.6068953065394481
         },
         {
          "X": -2,
          "Y": 0.9820691977444277
         },
         {
          "X": -2,
          "Y": 0.013484868429587767
         },
         {
          "X": -2,
          "Y": 0.05919747254171873
         },
         {
          "X": -2,
          "Y": 0.6747898986665559
         },
         {
          "X": -2,
          "Y": 0.3386498712433268
         },
         {
          "X": -2,
          "Y": 0.8440793597389373
         },
         {
          "X": -2,
          "Y": 0.17883946568265044
         },
         {
          "X": -2,
          "Y": 0.5020476544603031
         },
         {
          "X": -2,
          "Y": 0.5014847581599657
         },
         {
          "X": -2,
          "Y": 0.9438626891240222
         },
         {
          "X": -1,
          "Y": 0.1264456783647545
         },
         {
          "X": -1,
          "Y": 0.10671865512353768
         },
         {
          "X": -1,
          "Y": 0.018098054362631837
         },
         {
          "X": -1,
          "Y": 0.2720254067033915
         },
         {
          "X": -1,
          "Y": 0.0008996525290981626
         },
         {
          "X": -1,
          "Y": 0.3211943542826113
         },
         {
          "X": -1,
          "Y": 0.5136889196484803
         },
         {
          "X": -1,
          "Y": 0.9232548438524258
         },
         {
          "X": -1,
          "Y": 0.9232548438524258
         },
         {
          "X": -1,
          "Y": 0.6598922322152674
         },
         {
          "X": -1,
          "Y": 0.7351665909467527
         },
         {
          "X": -1,
          "Y": 0.09932282318764947
         },
         {
          "X": -1,
          "Y": 0.672009698493917
         },
         {
          "X": -1,
          "Y": 0.672009698493917
         },
         {
          "X": -1,
          "Y": 0.7343906135282746
         },
         {
          "X": -1,
          "Y": 0.8727522655736168
         },
         {
          "X": -1,
          "Y": 0.9788664090434416
         },
         {
          "X": -1,
          "Y": 0.8138265913563241
         },
         {
          "X": -1,
          "Y": 0.5244337468120224
         },
         {
          "X": -1,
          "Y": 0.35189483919736714
         },
         {
          "X": -1,
          "Y": 0.8727522655736168
         },
         {
          "X": -1,
          "Y": 0.09932282318764947
         },
         {
          "X": -1,
          "Y": 0.0029418850633607233
         },
         {
          "X": -1,
          "Y": 0.3292727796910372
         },
         {
          "X": -1,
          "Y": 0.6338368871175446
         },
         {
          "X": -1,
          "Y": 0.4407372027764326
         },
         {
          "X": -1,
          "Y": 0.40696732476591574
         },
         {
          "X": -1,
          "Y": 0.7159791713293816
         },
         {
          "X": -1,
          "Y": 0.6690956215930218
         },
         {
          "X": -1,
          "Y": 0.26892607362286464
         },
         {
          "X": -1,
          "Y": 0.07780719904669049
         },
         {
          "X": -1,
          "Y": 0.8135410558848445
         },
         {
          "X": -1,
          "Y": 0.0029418850633607233
         },
         {
          "X": -1,
          "Y": 0.4208269600506311
         },
         {
          "X": -1,
          "Y": 0.9533682111387413
         },
         {
          "X": -1,
          "Y": 0.414744242179794
         },
         {
          "X": -1,
          "Y": 0.17258316428867365
         },
         {
          "X": -1,
          "Y": 0.684197917329898
         },
         {
          "X": -1,
          "Y": 0.5136889196484803
         },
         {
          "X": -1,
          "Y": 0.7637961265922041
         },
         {
          "X": -1,
          "Y": 0.011301932441409696
         },
         {
          "X": -1,
          "Y": 0.0008996525290981626
         },
         {
          "X": -1,
          "Y": 0.8135410558848445
         },
         {
          "X": -1,
          "Y": 0.7303316111976735
         },
         {
          "X": -1,
          "Y": 0.8524007103324995
         },
         {
          "X": -1,
          "Y": 0.056370245505343
         },
         {
          "X": -1,
          "Y": 0.0671054460970859
         },
         {
          "X": -1,
          "Y": 0.9840647034597109
         },
         {
          "X": -1,
          "Y": 0.0029418850633607233
         },
         {
          "X": -1,
          "Y": 0.5244337468120224
         },
         {
          "X": -1,
          "Y": 0.4208269600506311
         },
         {
          "X": -1,
          "Y": 0.49447124137133397
         },
         {
          "X": -1,
          "Y": 0.9788664090434416
         },
         {
          "X": -1,
          "Y": 0.9615852178008433
         },
         {
          "X": -1,
          "Y": 0.4399420762750953
         },
         {
          "X": -1,
          "Y": 0.9728553374417692
         },
         {
          "X": -1,
          "Y": 0.7159791713293816
         },
         {
          "X": -1,
          "Y": 0.3775745366763446
         },
         {
          "X": -1,
          "Y": 0.9426826535497933
         },
         {
          "X": -1,
          "Y": 0.7558053060932007
         },
         {
          "X": -1,
          "Y": 0.7343906135282746
         },
         {
          "X": -1,
          "Y": 0.9369032381416801
         },
         {
          "X": -1,
          "Y": 0.08322611887693133
         },
         {
          "X": -1,
          "Y": 0.21924132085811165
         },
         {
          "X": -1,
          "Y": 0.018098054362631837
         },
         {
          "X": -1,
          "Y": 0.77720309111233
         },
         {
          "X": -1,
          "Y": 0.0029418850633607233
         },
         {
          "X": -1,
          "Y": 0.31236960757660676
         },
         {
          "X": -1,
          "Y": 0.8524007103324995
         },
         {
          "X": -1,
          "Y": 0.6338368871175446
         },
         {
          "X": -1,
          "Y": 0.77720309111233
         },
         {
          "X": -1,
          "Y": 0.08328551214478097
         },
         {
          "X": -1,
          "Y": 0.45478515993570817
         },
         {
          "X": -1,
          "Y": 0.414744242179794
         },
         {
          "X": -1,
          "Y": 0.10671865512353768
         },
         {
          "X": -1,
          "Y": 0.9401794575015058
         },
         {
          "X": -1,
          "Y": 0.2720254067033915
         },
         {
          "X": -1,
          "Y": 0.21924132085811165
         },
         {
          "X": -1,
          "Y": 0.8344580805778994
         },
         {
          "X": -1,
          "Y": 0.33998340923116627
         },
         {
          "X": -1,
          "Y": 0.414744242179794
         },
         {
          "X": -1,
          "Y": 0.056370245505343
         },
         {
          "X": -1,
          "Y": 0.6338368871175446
         },
         {
          "X": -1,
          "Y": 0.07780719904669049
         },
         {
          "X": -1,
          "Y": 0.3250074986963058
         },
         {
          "X": -1,
          "Y": 0.9728553374417692
         },
         {
          "X": -1,
          "Y": 0.33998340923116627
         },
         {
          "X": -1,
          "Y": 0.5944504374033363
         },
         {
          "X": -1,
          "Y": 0.14520325335179884
         },
         {
          "X": -1,
          "Y": 0.5944504374033363
         },
         {
          "X": -1,
          "Y": 0.9247149875135792
         },
         {
          "X": -1,
          "Y": 0.0671054460970859
         },
         {
          "X": -1,
          "Y": 0.2037042530710366
         },
         {
          "X": -1,
          "Y": 0.6690956215930218
         },
         {
          "X": -1,
          "Y": 0.40696732476591574
         },
         {
          "X": -1,
          "Y": 0.8524007103324995
         },
         {
          "X": -1,
          "Y": 0.3918467748722079
         },
         {
          "X": -1,
          "Y": 0.45478515993570817
         },
         {
          "X": -1,
          "Y": 0.5493941156098235
         },
         {
          "X": -1,
          "Y": 0.8138265913563241
         },
         {
          "X": 0,
          "Y": 0.47219606628506905
         },
         {
          "X": 0,
          "Y": 0.14926058405362103
         },
         {
          "X": 0,
          "Y": 0.042775341014070545
         },
         {
          "X": 0,
          "Y": 0.20291702658448368
         },
         {
          "X": 0,
          "Y": 0.0020342556628376745
         },
         {
          "X": 0,
          "Y": 0.43792479817828694
         },
         {
          "X": 0,
          "Y": 0.3543251306451268
         },
         {
          "X": 0,
          "Y": 0.8352013142905306
         },
         {
          "X": 0,
          "Y": 0.8352013142905306
         },
         {
          "X": 0,
          "Y": 0.7129016851442908
         },
         {
          "X": 0,
          "Y": 0.8764702680449086
         },
         {
          "X": 0,
          "Y": 0.2730074550707901
         },
         {
          "X": 0,
          "Y": 0.5480893517552007
         },
         {
          "X": 0,
          "Y": 0.5480893517552007
         },
         {
          "X": 0,
          "Y": 0.4349325076028925
         },
         {
          "X": 0,
          "Y": 0.7970660070224707
         },
         {
          "X": 0,
          "Y": 0.9861018307435637
         },
         {
          "X": 0,
          "Y": 0.531945800091492
         },
         {
          "X": 0,
          "Y": 0.7068032925750471
         },
         {
          "X": 0,
          "Y": 0.38458097040989514
         },
         {
          "X": 0,
          "Y": 0.7970660070224707
         },
         {
          "X": 0,
          "Y": 0.2730074550707901
         },
         {
          "X": 0,
          "Y": 0.011597318383602596
         },
         {
          "X": 0,
          "Y": 0.4191331416822777
         },
         {
          "X": 0,
          "Y": 0.6424469119889796
         },
         {
          "X": 0,
          "Y": 0.4996533622338609
         },
         {
          "X": 0,
          "Y": 0.4790830773026753
         },
         {
          "X": 0,
          "Y": 0.4695224486274712
         },
         {
          "X": 0,
          "Y": 0.6633513821778667
         },
         {
          "X": 0,
          "Y": 0.35950745466959655
         },
         {
          "X": 0,
          "Y": 0.09612339403641555
         },
         {
          "X": 0,
          "Y": 0.7504289704313296
         },
         {
          "X": 0,
          "Y": 0.011597318383602596
         },
         {
          "X": 0,
          "Y": 0.5079580688263369
         },
         {
          "X": 0,
          "Y": 0.8168286890384081
         },
         {
          "X": 0,
          "Y": 0.48704399873917464
         },
         {
          "X": 0,
          "Y": 0.22956840720652577
         },
         {
          "X": 0,
          "Y": 0.7690845781434643
         },
         {
          "X": 0,
          "Y": 0.3543251306451268
         },
         {
          "X": 0,
          "Y": 0.49014468308611714
         },
         {
          "X": 0,
          "Y": 0.04366762710605298
         },
         {
          "X": 0,
          "Y": 0.0020342556628376745
         },
         {
          "X": 0,
          "Y": 0.7504289704313296
         },
         {
          "X": 0,
          "Y": 0.7952030824676803
         },
         {
          "X": 0,
          "Y": 0.8603514321960734
         },
         {
          "X": 0,
          "Y": 0.08616687101242321
         },
         {
          "X": 0,
          "Y": 0.27459287976499946
         },
         {
          "X": 0,
          "Y": 0.8073557716298506
         },
         {
          "X": 0,
          "Y": 0.011597318383602596
         },
         {
          "X": 0,
          "Y": 0.7068032925750471
         },
         {
          "X": 0,
          "Y": 0.5079580688263369
         },
         {
          "X": 0,
          "Y": 0.5010200286150048
         },
         {
          "X": 0,
          "Y": 0.9861018307435637
         },
         {
          "X": 0,
          "Y": 0.9045836193108833
         },
         {
          "X": 0,
          "Y": 0.27091095176174956
         },
         {
          "X": 0,
          "Y": 0.9316905819176133
         },
         {
          "X": 0,
          "Y": 0.4695224486274712
         },
         {
          "X": 0,
          "Y": 0.47301821724750587
         },
         {
          "X": 0,
          "Y": 0.9001129436094327
         },
         {
          "X": 0,
          "Y": 0.776826353053545
         },
         {
          "X": 0,
          "Y": 0.4349325076028925
         },
         {
          "X": 0,
          "Y": 0.6758339444912156
         },
         {
          "X": 0,
          "Y": 0.07322697375799789
         },
         {
          "X": 0,
          "Y": 0.25287012540434844
         },
         {
          "X": 0,
          "Y": 0.042775341014070545
         },
         {
          "X": 0,
          "Y": 0.7141277111922304
         },
         {
          "X": 0,
          "Y": 0.011597318383602596
         },
         {
          "X": 0,
          "Y": 0.4728128443454426
         },
         {
          "X": 0,
          "Y": 0.8603514321960734
         },
         {
          "X": 0,
          "Y": 0.6424469119889796
         },
         {
          "X": 0,
          "Y": 0.7141277111922304
         },
         {
          "X": 0,
          "Y": 0.30434500301480916
         },
         {
          "X": 0,
          "Y": 0.40832351011677115
         },
         {
          "X": 0,
          "Y": 0.48704399873917464
         },
         {
          "X": 0,
          "Y": 0.14926058405362103
         },
         {
          "X": 0,
          "Y": 0.6461121842590001
         },
         {
          "X": 0,
          "Y": 0.20291702658448368
         },
         {
          "X": 0,
          "Y": 0.25287012540434844
         },
         {
          "X": 0,
          "Y": 0.5768107401421115
         },
         {
          "X": 0,
          "Y": 0.36288350535845637
         },
         {
          "X": 0,
          "Y": 0.48704399873917464
         },
         {
          "X": 0,
          "Y": 0.08616687101242321
         },
         {
          "X": 0,
          "Y": 0.6424469119889796
         },
         {
          "X": 0,
          "Y": 0.09612339403641555
         },
         {
          "X": 0,
          "Y": 0.39599237841417634
         },
         {
          "X": 0,
          "Y": 0.9316905819176133
         },
         {
          "X": 0,
          "Y": 0.36288350535845637
         },
         {
          "X": 0,
          "Y": 0.5818830189799306
         },
         {
          "X": 0,
          "Y": 0.19724686508283418
         },
         {
          "X": 0,
          "Y": 0.5818830189799306
         },
         {
          "X": 0,
          "Y": 0.733659066362306
         },
         {
          "X": 0,
          "Y": 0.27459287976499946
         },
         {
          "X": 0,
          "Y": 0.5098116163211536
         },
         {
          "X": 0,
          "Y": 0.6633513821778667
         },
         {
          "X": 0,
          "Y": 0.4790830773026753
         },
         {
          "X": 0,
          "Y": 0.8603514321960734
         },
         {
          "X": 0,
          "Y": 0.6559094953191241
         },
         {
          "X": 0,
          "Y": 0.40832351011677115
         },
         {
          "X": 0,
          "Y": 0.5964047197029291
         },
         {
          "X": 0,
          "Y": 0.531945800091492
         },
         {
          "X": 1,
          "Y": 0.8468487813818671
         },
         {
          "X": 1,
          "Y": 0.20487182170890123
         },
         {
          "X": 1,
          "Y": 0.09775112952648644
         },
         {
          "X": 1,
          "Y": 0.14780109199720565
         },
         {
          "X": 1,
          "Y": 0.004593193165936503
         },
         {
          "X": 1,
          "Y": 0.5619578098850179
         },
         {
          "X": 1,
          "Y": 0.22184761530275127
         },
         {
          "X": 1,
          "Y": 0.6810239100488044
         },
         {
          "X": 1,
          "Y": 0.6810239100488044
         },
         {
          "X": 1,
          "Y": 0.7606458467678603
         },
         {
          "X": 1,
          "Y": 0.9477398382473903
         },
         {
          "X": 1,
          "Y": 0.5611762741074638
         },
         {
          "X": 1,
          "Y": 0.4179046319780499
         },
         {
          "X": 1,
          "Y": 0.4179046319780499
         },
         {
          "X": 1,
          "Y": 0.1764592687998265
         },
         {
          "X": 1,
          "Y": 0.6922368264909821
         },
         {
          "X": 1,
          "Y": 0.9908831619705576
         },
         {
          "X": 1,
          "Y": 0.22808540749107742
         },
         {
          "X": 1,
          "Y": 0.8405068891808211
         },
         {
          "X": 1,
          "Y": 0.4183434338621383
         },
         {
          "X": 1,
          "Y": 0.6922368264909821
         },
         {
          "X": 1,
          "Y": 0.5611762741074638
         },
         {
          "X": 1,
          "Y": 0.04457964355703197
         },
         {
          "X": 1,
          "Y": 0.5146982939838871
         },
         {
          "X": 1,
          "Y": 0.6509659662630579
         },
         {
          "X": 1,
          "Y": 0.5585791490220293
         },
         {
          "X": 1,
          "Y": 0.5520812812566233
         },
         {
          "X": 1,
          "Y": 0.23708524168628461
         },
         {
          "X": 1,
          "Y": 0.657558461430485
         },
         {
          "X": 1,
          "Y": 0.4613455167735827
         },
         {
          "X": 1,
          "Y": 0.11819867176558058
         },
         {
          "X": 1,
          "Y": 0.6745018334600181
         },
         {
          "X": 1,
          "Y": 0.04457964355703197
         },
         {
          "X": 1,
          "Y": 0.5946083923493004
         },
         {
          "X": 1,
          "Y": 0.49307453603122076
         },
         {
          "X": 1,
          "Y": 0.559890010113387
         },
         {
          "X": 1,
          "Y": 0.29857972628229834
         },
         {
          "X": 1,
          "Y": 0.8366030728597765
         },
         {
          "X": 1,
          "Y": 0.22184761530275127
         },
         {
          "X": 1,
          "Y": 0.2222748769417451
         },
         {
          "X": 1,
          "Y": 0.15425879662565625
         },
         {
          "X": 1,
          "Y": 0.004593193165936503
         },
         {
          "X": 1,
          "Y": 0.6745018334600181
         },
         {
          "X": 1,
          "Y": 0.8477228709602238
         },
         {
          "X": 1,
          "Y": 0.8679402252560293
         },
         {
          "X": 1,
          "Y": 0.12955128818791203
         },
         {
          "X": 1,
          "Y": 0.6657755912420653
         },
         {
          "X": 1,
          "Y": 0.22143619457017244
         },
         {
          "X": 1,
          "Y": 0.04457964355703197
         },
         {
          "X": 1,
          "Y": 0.8405068891808211
         },
         {
          "X": 1,
          "Y": 0.5946083923493004
         },
         {
          "X": 1,
          "Y": 0.5075684659113295
         },
         {
          "X": 1,
          "Y": 0.9908831619705576
         },
         {
          "X": 1,
          "Y": 0.7821616411273874
         },
         {
          "X": 1,
          "Y": 0.14948903479082218
         },
         {
          "X": 1,
          "Y": 0.8384650368565255
         },
         {
          "X": 1,
          "Y": 0.23708524168628461
         },
         {
          "X": 1,
          "Y": 0.5704755708814223
         },
         {
          "X": 1,
          "Y": 0.8315754115189276
         },
         {
          "X": 1,
          "Y": 0.7965250043936056
         },
         {
          "X": 1,
          "Y": 0.1764592687998265
         },
         {
          "X": 1,
          "Y": 0.22643924136146162
         },
         {
          "X": 1,
          "Y": 0.06434485159867381
         },
         {
          "X": 1,
          "Y": 0.2897429166251587
         },
         {
          "X": 1,
          "Y": 0.09775112952648644
         },
         {
          "X": 1,
          "Y": 0.6414336959688559
         },
         {
          "X": 1,
          "Y": 0.04457964355703197
         },
         {
          "X": 1,
          "Y": 0.6390751694111793
         },
         {
          "X": 1,
          "Y": 0.8679402252560293
         },
         {
          "X": 1,
          "Y": 0.6509659662630579
         },
         {
          "X": 1,
          "Y": 0.6414336959688559
         },
         {
          "X": 1,
          "Y": 0.6781182945079522
         },
         {
          "X": 1,
          "Y": 0.3634443420053357
         },
         {
          "X": 1,
          "Y": 0.559890010113387
         },
         {
          "X": 1,
          "Y": 0.20487182170890123
         },
         {
          "X": 1,
          "Y": 0.17498009819085014
         },
         {
          "X": 1,
          "Y": 0.14780109199720565
         },
         {
          "X": 1,
          "Y": 0.2897429166251587
         },
         {
          "X": 1,
          "Y": 0.2693016393225965
         },
         {
          "X": 1,
          "Y": 0.38642299460980695
         },
         {
          "X": 1,
          "Y": 0.559890010113387
         },
         {
          "X": 1,
          "Y": 0.12955128818791203
         },
         {
          "X": 1,
          "Y": 0.6509659662630579
         },
         {
          "X": 1,
          "Y": 0.11819867176558058
         },
         {
          "X": 1,
          "Y": 0.47164785217240063
         },
         {
          "X": 1,
          "Y": 0.8384650368565255
         },
         {
          "X": 1,
          "Y": 0.38642299460980695
         },
         {
          "X": 1,
          "Y": 0.5692083815017954
         },
         {
          "X": 1,
          "Y": 0.26222168253461675
         },
         {
          "X": 1,
          "Y": 0.5692083815017954
         },
         {
          "X": 1,
          "Y": 0.38185785410171735
         },
         {
          "X": 1,
          "Y": 0.6657755912420653
         },
         {
          "X": 1,
          "Y": 0.8087339275243753
         },
         {
          "X": 1,
          "Y": 0.657558461430485
         },
         {
          "X": 1,
          "Y": 0.5520812812566233
         },
         {
          "X": 1,
          "Y": 0.8679402252560293
         },
         {
          "X": 1,
          "Y": 0.8493858354435154
         },
         {
          "X": 1,
          "Y": 0.3634443420053357
         },
         {
          "X": 1,
          "Y": 0.6417093227129609
         },
         {
          "X": 1,
          "Y": 0.22808540749107742
         },
         {
          "X": 2,
          "Y": 0.9715715163145047
         },
         {
          "X": 2,
          "Y": 0.2745168089495349
         },
         {
          "X": 2,
          "Y": 0.20802773668620914
         },
         {
          "X": 2,
          "Y": 0.10567097334855238
         },
         {
          "X": 2,
          "Y": 0.010337733213660138
         },
         {
          "X": 2,
          "Y": 0.6787016580513123
         },
         {
          "X": 2,
          "Y": 0.12900532865270622
         },
         {
          "X": 2,
          "Y": 0.47352837225395317
         },
         {
          "X": 2,
          "Y": 0.47352837225395317
         },
         {
          "X": 2,
          "Y": 0.8026481704839331
         },
         {
          "X": 2,
          "Y": 0.9788816919149019
         },
         {
          "X": 2,
          "Y": 0.813253633654237
         },
         {
          "X": 2,
          "Y": 0.29823518664771387
         },
         {
          "X": 2,
          "Y": 0.29823518664771387
         },
         {
          "X": 2,
          "Y": 0.05629055611695509
         },
         {
          "X": 2,
          "Y": 0.562948816116749
         },
         {
          "X": 2,
          "Y": 0.9940295502815608
         },
         {
          "X": 2,
          "Y": 0.07134135712801606
         },
         {
          "X": 2,
          "Y": 0.9201289366282307
         },
         {
          "X": 2,
          "Y": 0.4528886850238109
         },
         {
          "X": 2,
          "Y": 0.562948816116749
         },
         {
          "X": 2,
          "Y": 0.813253633654237
         },
         {
          "X": 2,
          "Y": 0.1565095089425774
         },
         {
          "X": 2,
          "Y": 0.6092005906057085
         },
         {
          "X": 2,
          "Y": 0.6593896582083116
         },
         {
          "X": 2,
          "Y": 0.6159000149464628
         },
         {
          "X": 2,
          "Y": 0.6229018700620178
         },
         {
          "X": 2,
          "Y": 0.09837680891475646
         },
         {
          "X": 2,
          "Y": 0.6517181949146462
         },
         {
          "X": 2,
          "Y": 0.5665155039867871
         },
         {
          "X": 2,
          "Y": 0.1445329966779709
         },
         {
          "X": 2,
          "Y": 0.5881526346635224
         },
         {
          "X": 2,
          "Y": 0.1565095089425774
         },
         {
          "X": 2,
          "Y": 0.6757402842943571
         },
         {
          "X": 2,
          "Y": 0.17502636555239848
         },
         {
          "X": 2,
          "Y": 0.6302447582086385
         },
         {
          "X": 2,
          "Y": 0.37815406014302316
         },
         {
          "X": 2,
          "Y": 0.8872731520116369
         },
         {
          "X": 2,
          "Y": 0.12900532865270622
         },
         {
          "X": 2,
          "Y": 0.07831312595565322
         },
         {
          "X": 2,
          "Y": 0.42148874178788176
         },
         {
          "X": 2,
          "Y": 0.010337733213660138
         },
         {
          "X": 2,
          "Y": 0.5881526346635224
         },
         {
          "X": 2,
          "Y": 0.8886598599995463
         },
         {
          "X": 2,
          "Y": 0.8751764590007102
         },
         {
          "X": 2,
          "Y": 0.19023225185974704
         },
         {
          "X": 2,
          "Y": 0.9129122478733818
         },
         {
          "X": 2,
          "Y": 0.018936382477365583
         },
         {
          "X": 2,
          "Y": 0.1565095089425774
         },
         {
          "X": 2,
          "Y": 0.9201289366282307
         },
         {
          "X": 2,
          "Y": 0.6757402842943571
         },
         {
          "X": 2,
          "Y": 0.5141143072326128
         },
         {
          "X": 2,
          "Y": 0.9940295502815608
         },
         {
          "X": 2,
          "Y": 0.5762484855960145
         },
         {
          "X": 2,
          "Y": 0.07675877619770573
         },
         {
          "X": 2,
          "Y": 0.6639059422728764
         },
         {
          "X": 2,
          "Y": 0.09837680891475646
         },
         {
          "X": 2,
          "Y": 0.6627594294798147
         },
         {
          "X": 2,
          "Y": 0.7301113582254951
         },
         {
          "X": 2,
          "Y": 0.8148992334628993
         },
         {
          "X": 2,
          "Y": 0.05629055611695509
         },
         {
          "X": 2,
          "Y": 0.03947749624984921
         },
         {
          "X": 2,
          "Y": 0.056474442342793356
         },
         {
          "X": 2,
          "Y": 0.32962029528132747
         },
         {
          "X": 2,
          "Y": 0.20802773668620914
         },
         {
          "X": 2,
          "Y": 0.5616023874029673
         },
         {
          "X": 2,
          "Y": 0.1565095089425774
         },
         {
          "X": 2,
          "Y": 0.7775699144170523
         },
         {
          "X": 2,
          "Y": 0.8751764590007102
         },
         {
          "X": 2,
          "Y": 0.6593896582083116
         },
         {
          "X": 2,
          "Y": 0.5616023874029673
         },
         {
          "X": 2,
          "Y": 0.9102725400801156
         },
         {
          "X": 2,
          "Y": 0.32082323121415507
         },
         {
          "X": 2,
          "Y": 0.6302447582086385
         },
         {
          "X": 2,
          "Y": 0.2745168089495349
         },
         {
          "X": 2,
          "Y": 0.024045602647599258
         },
         {
          "X": 2,
          "Y": 0.10567097334855238
         },
         {
          "X": 2,
          "Y": 0.32962029528132747
         },
         {
          "X": 2,
          "Y": 0.09062462392776892
         },
         {
          "X": 2,
          "Y": 0.4105055950985395
         },
         {
          "X": 2,
          "Y": 0.6302447582086385
         },
         {
          "X": 2,
          "Y": 0.19023225185974704
         },
         {
          "X": 2,
          "Y": 0.6593896582083116
         },
         {
          "X": 2,
          "Y": 0.1445329966779709
         },
         {
          "X": 2,
          "Y": 0.5486285733045058
         },
         {
          "X": 2,
          "Y": 0.6639059422728764
         },
         {
          "X": 2,
          "Y": 0.4105055950985395
         },
         {
          "X": 2,
          "Y": 0.5564424085207157
         },
         {
          "X": 2,
          "Y": 0.3395466614750272
         },
         {
          "X": 2,
          "Y": 0.5564424085207157
         },
         {
          "X": 2,
          "Y": 0.12168097066056191
         },
         {
          "X": 2,
          "Y": 0.9129122478733818
         },
         {
          "X": 2,
          "Y": 0.9450262769069613
         },
         {
          "X": 2,
          "Y": 0.6517181949146462
         },
         {
          "X": 2,
          "Y": 0.6229018700620178
         },
         {
          "X": 2,
          "Y": 0.8751764590007102
         },
         {
          "X": 2,
          "Y": 0.9434525656205042
         },
         {
          "X": 2,
          "Y": 0.32082323121415507
         },
         {
          "X": 2,
          "Y": 0.6846176411831029
         },
         {
          "X": 2,
          "Y": 0.07134135712801606
         },
         {
          "X": 3,
          "Y": 0.995288143187583
         },
         {
          "X": 3,
          "Y": 0.3572013259017157
         },
         {
          "X": 3,
          "Y": 0.38906497232929965
         },
         {
          "X": 3,
          "Y": 0.07450003863045417
         },
         {
          "X": 3,
          "Y": 0.023100033361348356
         },
         {
          "X": 3,
          "Y": 0.7766954073474482
         },
         {
          "X": 3,
          "Y": 0.07144958021640156
         },
         {
          "X": 3,
          "Y": 0.2747903205298851
         },
         {
          "X": 3,
          "Y": 0.2747903205298851
         },
         {
          "X": 3,
          "Y": 0.8388414702244291
         },
         {
          "X": 3,
          "Y": 0.9916299920341711
         },
         {
          "X": 3,
          "Y": 0.9368284453151804
         },
         {
          "X": 3,
          "Y": 0.20100083788803821
         },
         {
          "X": 3,
          "Y": 0.20100083788803821
         },
         {
          "X": 3,
          "Y": 0.016333637211677077
         },
         {
          "X": 3,
          "Y": 0.42450157705218206
         },
         {
          "X": 3,
          "Y": 0.9960943422591263
         },
         {
          "X": 3,
          "Y": 0.019581845433416102
         },
         {
          "X": 3,
          "Y": 0.9618082632621586
         },
         {
          "X": 3,
          "Y": 0.4878937771255904
         },
         {
          "X": 3,
          "Y": 0.42450157705218206
         },
         {
          "X": 3,
          "Y": 0.9368284453151804
         },
         {
          "X": 3,
          "Y": 0.42458247192388804
         },
         {
          "X": 3,
          "Y": 0.6961638012392221
         },
         {
          "X": 3,
          "Y": 0.6677138248715979
         },
         {
          "X": 3,
          "Y": 0.6701726182594193
         },
         {
          "X": 3,
          "Y": 0.6888361043439704
         },
         {
          "X": 3,
          "Y": 0.036896058191066304
         },
         {
          "X": 3,
          "Y": 0.6458319719560859
         },
         {
          "X": 3,
          "Y": 0.6660167348974743
         },
         {
          "X": 3,
          "Y": 0.17556637350579074
         },
         {
          "X": 3,
          "Y": 0.4960125376590489
         },
         {
          "X": 3,
          "Y": 0.42458247192388804
         },
         {
          "X": 3,
          "Y": 0.7475293472292825
         },
         {
          "X": 3,
          "Y": 0.044229493759908346
         },
         {
          "X": 3,
          "Y": 0.6954699977006509
         },
         {
          "X": 3,
          "Y": 0.46488014239472336
         },
         {
          "X": 3,
          "Y": 0.9236639618416093
         },
         {
          "X": 3,
          "Y": 0.07144958021640156
         },
         {
          "X": 3,
          "Y": 0.024637913928808257
         },
         {
          "X": 3,
          "Y": 0.7442643213478847
         },
         {
          "X": 3,
          "Y": 0.023100033361348356
         },
         {
          "X": 3,
          "Y": 0.4960125376590489
         },
         {
          "X": 3,
          "Y": 0.9196349726285782
         },
         {
          "X": 3,
          "Y": 0.8820700575093887
         },
         {
          "X": 3,
          "Y": 0.2705031009653107
         },
         {
          "X": 3,
          "Y": 0.9821949379684451
         },
         {
          "X": 3,
          "Y": 0.0013082079207540176
         },
         {
          "X": 3,
          "Y": 0.42458247192388804
         },
         {
          "X": 3,
          "Y": 0.9618082632621586
         },
         {
          "X": 3,
          "Y": 0.7475293472292825
         },
         {
          "X": 3,
          "Y": 0.5206553101115015
         },
         {
          "X": 3,
          "Y": 0.9960943422591263
         },
         {
          "X": 3,
          "Y": 0.33994829526788
         },
         {
          "X": 3,
          "Y": 0.03783936769389689
         },
         {
          "X": 3,
          "Y": 0.4291420527539136
         },
         {
          "X": 3,
          "Y": 0.036896058191066304
         },
         {
          "X": 3,
          "Y": 0.7441096453516951
         },
         {
          "X": 3,
          "Y": 0.5971349228591866
         },
         {
          "X": 3,
          "Y": 0.8319642635548351
         },
         {
          "X": 3,
          "Y": 0.016333637211677077
         },
         {
          "X": 3,
          "Y": 0.005737568487847508
         },
         {
          "X": 3,
          "Y": 0.0495157647878763
         },
         {
          "X": 3,
          "Y": 0.3721106152705163
         },
         {
          "X": 3,
          "Y": 0.38906497232929965
         },
         {
          "X": 3,
          "Y": 0.4784492097606882
         },
         {
          "X": 3,
          "Y": 0.42458247192388804
         },
         {
          "X": 3,
          "Y": 0.8734451022887013
         },
         {
          "X": 3,
          "Y": 0.8820700575093887
         },
         {
          "X": 3,
          "Y": 0.6677138248715979
         },
         {
          "X": 3,
          "Y": 0.4784492097606882
         },
         {
          "X": 3,
          "Y": 0.979940652335171
         },
         {
          "X": 3,
          "Y": 0.28099395837510344
         },
         {
          "X": 3,
          "Y": 0.6954699977006509
         },
         {
          "X": 3,
          "Y": 0.3572013259017157
         },
         {
          "X": 3,
          "Y": 0.002853953040943681
         },
         {
          "X": 3,
          "Y": 0.07450003863045417
         },
         {
          "X": 3,
          "Y": 0.3721106152705163
         },
         {
          "X": 3,
          "Y": 0.026239605226981166
         },
         {
          "X": 3,
          "Y": 0.43502495228467003
         },
         {
          "X": 3,
          "Y": 0.6954699977006509
         },
         {
          "X": 3,
          "Y": 0.2705031009653107
         },
         {
          "X": 3,
          "Y": 0.6677138248715979
         },
         {
          "X": 3,
          "Y": 0.17556637350579074
         },
         {
          "X": 3,
          "Y": 0.6233501851303137
         },
         {
          "X": 3,
          "Y": 0.4291420527539136
         },
         {
          "X": 3,
          "Y": 0.43502495228467003
         },
         {
          "X": 3,
          "Y": 0.5436014605694659
         },
         {
          "X": 3,
          "Y": 0.4264922978245376
         },
         {
          "X": 3,
          "Y": 0.5436014605694659
         },
         {
          "X": 3,
          "Y": 0.03013281060560127
         },
         {
          "X": 3,
          "Y": 0.9821949379684451
         },
         {
          "X": 3,
          "Y": 0.985893468455176
         },
         {
          "X": 3,
          "Y": 0.6458319719560859
         },
         {
          "X": 3,
          "Y": 0.6888361043439704
         },
         {
          "X": 3,
          "Y": 0.8820700575093887
         },
         {
          "X": 3,
          "Y": 0.9801429697561389
         },
         {
          "X": 3,
          "Y": 0.28099395837510344
         },
         {
          "X": 3,
          "Y": 0.72459271378806
         },
         {
          "X": 3,
          "Y": 0.019581845433416102
         },
         {
          "X": 4,
          "Y": 0.9992346236121913
         },
         {
          "X": 4,
          "Y": 0.4493645228306278
         },
         {
          "X": 4,
          "Y": 0.6069158470849326
         },
         {
          "X": 4,
          "Y": 0.0519894218765785
         },
         {
          "X": 4,
          "Y": 0.05080896456578171
         },
         {
          "X": 4,
          "Y": 0.8513478177875949
         },
         {
          "X": 4,
          "Y": 0.03843908424615468
         },
         {
          "X": 4,
          "Y": 0.13765327854829443
         },
         {
          "X": 4,
          "Y": 0.13765327854829443
         },
         {
          "X": 4,
          "Y": 0.8694764976892224
         },
         {
          "X": 4,
          "Y": 0.996708516448143
         },
         {
          "X": 4,
          "Y": 0.9805830405975233
         },
         {
          "X": 4,
          "Y": 0.12961290342113296
         },
         {
          "X": 4,
          "Y": 0.12961290342113296
         },
         {
          "X": 4,
          "Y": 0.004601188745117823
         },
         {
          "X": 4,
          "Y": 0.296967601158381
         },
         {
          "X": 4,
          "Y": 0.9974468904538567
         },
         {
          "X": 4,
          "Y": 0.005165946787801327
         },
         {
          "X": 4,
          "Y": 0.9821596601592
         },
         {
          "X": 4,
          "Y": 0.5230180185304719
         },
         {
          "X": 4,
          "Y": 0.296967601158381
         },
         {
          "X": 4,
          "Y": 0.9805830405975233
         },
         {
          "X": 4,
          "Y": 0.7458220780352799
         },
         {
          "X": 4,
          "Y": 0.7710481854326466
         },
         {
          "X": 4,
          "Y": 0.675934537730924
         },
         {
          "X": 4,
          "Y": 0.7202596725345328
         },
         {
          "X": 4,
          "Y": 0.7479075801596389
         },
         {
          "X": 4,
          "Y": 0.013272212360441666
         },
         {
          "X": 4,
          "Y": 0.6399012347291129
         },
         {
          "X": 4,
          "Y": 0.7526506383832153
         },
         {
          "X": 4,
          "Y": 0.21161478565069763
         },
         {
          "X": 4,
          "Y": 0.40414248608236775
         },
         {
          "X": 4,
          "Y": 0.7458220780352799
         },
         {
          "X": 4,
          "Y": 0.8079420332599632
         },
         {
          "X": 4,
          "Y": 0.009992901138453341
         },
         {
          "X": 4,
          "Y": 0.7536861595623622
         },
         {
          "X": 4,
          "Y": 0.5537832184615988
         },
         {
          "X": 4,
          "Y": 0.948982473088973
         },
         {
          "X": 4,
          "Y": 0.03843908424615468
         },
         {
          "X": 4,
          "Y": 0.007453765352319639
         },
         {
          "X": 4,
          "Y": 0.920792856820487
         },
         {
          "X": 4,
          "Y": 0.05080896456578171
         },
         {
          "X": 4,
          "Y": 0.40414248608236775
         },
         {
          "X": 4,
          "Y": 0.9425498251596665
         },
         {
          "X": 4,
          "Y": 0.8886313915016948
         },
         {
          "X": 4,
          "Y": 0.36920209934435916
         },
         {
          "X": 4,
          "Y": 0.9965670295372662
         },
         {
          "X": 4,
          "Y": 8.888984211728809e-05
         },
         {
          "X": 4,
          "Y": 0.7458220780352799
         },
         {
          "X": 4,
          "Y": 0.9821596601592
         },
         {
          "X": 4,
          "Y": 0.8079420332599632
         },
         {
          "X": 4,
          "Y": 0.5271892387108457
         },
         {
          "X": 4,
          "Y": 0.9974468904538567
         },
         {
          "X": 4,
          "Y": 0.16322289500012632
         },
         {
          "X": 4,
          "Y": 0.018263113967043932
         },
         {
          "X": 4,
          "Y": 0.22244850227552593
         },
         {
          "X": 4,
          "Y": 0.013272212360441666
         },
         {
          "X": 4,
          "Y": 0.811419950282894
         },
         {
          "X": 4,
          "Y": 0.4481607332503822
         },
         {
          "X": 4,
          "Y": 0.8477499545844368
         },
         {
          "X": 4,
          "Y": 0.004601188745117823
         },
         {
          "X": 4,
          "Y": 0.0008095802602618637
         },
         {
          "X": 4,
          "Y": 0.0433751053274362
         },
         {
          "X": 4,
          "Y": 0.41667382278302245
         },
         {
          "X": 4,
          "Y": 0.6069158470849326
         },
         {
          "X": 4,
          "Y": 0.3964734350849107
         },
         {
          "X": 4,
          "Y": 0.7458220780352799
         },
         {
          "X": 4,
          "Y": 0.9316284612898341
         },
         {
          "X": 4,
          "Y": 0.8886313915016948
         },
         {
          "X": 4,
          "Y": 0.675934537730924
         },
         {
          "X": 4,
          "Y": 0.3964734350849107
         },
         {
          "X": 4,
          "Y": 0.9957671010218424
         },
         {
          "X": 4,
          "Y": 0.24433054641138072
         },
         {
          "X": 4,
          "Y": 0.7536861595623622
         },
         {
          "X": 4,
          "Y": 0.4493645228306278
         },
         {
          "X": 4,
          "Y": 0.00033237288703952007
         },
         {
          "X": 4,
          "Y": 0.0519894218765785
         },
         {
          "X": 4,
          "Y": 0.41667382278302245
         },
         {
          "X": 4,
          "Y": 0.007233598900337129
         },
         {
          "X": 4,
          "Y": 0.4598663558177512
         },
         {
          "X": 4,
          "Y": 0.7536861595623622
         },
         {
          "X": 4,
          "Y": 0.36920209934435916
         },
         {
          "X": 4,
          "Y": 0.675934537730924
         },
         {
          "X": 4,
          "Y": 0.21161478565069763
         },
         {
          "X": 4,
          "Y": 0.6926322003594482
         },
         {
          "X": 4,
          "Y": 0.22244850227552593
         },
         {
          "X": 4,
          "Y": 0.4598663558177512
         },
         {
          "X": 4,
          "Y": 0.5307022935939362
         },
         {
          "X": 4,
          "Y": 0.5182321574616847
         },
         {
          "X": 4,
          "Y": 0.5307022935939362
         },
         {
          "X": 4,
          "Y": 0.006919406904991255
         },
         {
          "X": 4,
          "Y": 0.9965670295372662
         },
         {
          "X": 4,
          "Y": 0.9964929377957817
         },
         {
          "X": 4,
          "Y": 0.6399012347291129
         },
         {
          "X": 4,
          "Y": 0.7479075801596389
         },
         {
          "X": 4,
          "Y": 0.8886313915016948
         },
         {
          "X": 4,
          "Y": 0.9931986827122878
         },
         {
          "X": 4,
          "Y": 0.24433054641138072
         },
         {
          "X": 4,
          "Y": 0.7612677684514549
         },
         {
          "X": 4,
          "Y": 0.005165946787801327
         },
         {
          "X": 5,
          "Y": 0.9998760866495924
         },
         {
          "X": 5,
          "Y": 0.5451404525311602
         },
         {
          "X": 5,
          "Y": 0.7891778987335617
         },
         {
          "X": 5,
          "Y": 0.036015829285365245
         },
         {
          "X": 5,
          "Y": 0.10807811049463184
         },
         {
          "X": 5,
          "Y": 0.9041240605371809
         },
         {
          "X": 5,
          "Y": 0.020345630347169748
         },
         {
          "X": 5,
          "Y": 0.06300958181371087
         },
         {
          "X": 5,
          "Y": 0.06300958181371087
         },
         {
          "X": 5,
          "Y": 0.8950168606804846
         },
         {
          "X": 5,
          "Y": 0.9987096424556289
         },
         {
          "X": 5,
          "Y": 0.9942188506832141
         },
         {
          "X": 5,
          "Y": 0.0810086629145395
         },
         {
          "X": 5,
          "Y": 0.0810086629145395
         },
         {
          "X": 5,
          "Y": 0.0012851454618832258
         },
         {
          "X": 5,
          "Y": 0.1947808970659021
         },
         {
          "X": 5,
          "Y": 0.9983318290819182
         },
         {
          "X": 5,
          "Y": 0.0013482498015731019
         },
         {
          "X": 5,
          "Y": 0.9917592372513253
         },
         {
          "X": 5,
          "Y": 0.5579160626713439
         },
         {
          "X": 5,
          "Y": 0.1947808970659021
         },
         {
          "X": 5,
          "Y": 0.9942188506832141
         },
         {
          "X": 5,
          "Y": 0.9210641931811175
         },
         {
          "X": 5,
          "Y": 0.8319320445020014
         },
         {
          "X": 5,
          "Y": 0.6840481072565301
         },
         {
          "X": 5,
          "Y": 0.7654031497801113
         },
         {
          "X": 5,
          "Y": 0.799036559601811
         },
         {
          "X": 5,
          "Y": 0.004700444469821336
         },
         {
          "X": 5,
          "Y": 0.6339274772219892
         },
         {
          "X": 5,
          "Y": 0.8227913651624027
         },
         {
          "X": 5,
          "Y": 0.2527953150651531
         },
         {
          "X": 5,
          "Y": 0.318533826388153
         },
         {
          "X": 5,
          "Y": 0.9210641931811175
         },
         {
          "X": 5,
          "Y": 0.8566705513979512
         },
         {
          "X": 5,
          "Y": 0.0021968130870420903
         },
         {
          "X": 5,
          "Y": 0.8039111436681525
         },
         {
          "X": 5,
          "Y": 0.639373956491323
         },
         {
          "X": 5,
          "Y": 0.9662107411616809
         },
         {
          "X": 5,
          "Y": 0.020345630347169748
         },
         {
          "X": 5,
          "Y": 0.002227631499433146
         },
         {
          "X": 5,
          "Y": 0.9789191784948578
         },
         {
          "X": 5,
          "Y": 0.10807811049463184
         },
         {
          "X": 5,
          "Y": 0.318533826388153
         },
         {
          "X": 5,
          "Y": 0.9592205889992224
         },
         {
          "X": 5,
          "Y": 0.8948711778767638
         },
         {
          "X": 5,
          "Y": 0.4802075673951087
         },
         {
          "X": 5,
          "Y": 0.9993458202376849
         },
         {
          "X": 5,
          "Y": 6.03300337073591e-06
         },
         {
          "X": 5,
          "Y": 0.9210641931811175
         },
         {
          "X": 5,
          "Y": 0.9917592372513253
         },
         {
          "X": 5,
          "Y": 0.8566705513979512
         },
         {
          "X": 5,
          "Y": 0.5337138668742696
         },
         {
          "X": 5,
          "Y": 0.9983318290819182
         },
         {
          "X": 5,
          "Y": 0.06879442302582904
         },
         {
          "X": 5,
          "Y": 0.008722846911000975
         },
         {
          "X": 5,
          "Y": 0.09818498675546063
         },
         {
          "X": 5,
          "Y": 0.004700444469821336
         },
         {
          "X": 5,
          "Y": 0.8642546743174279
         },
         {
          "X": 5,
          "Y": 0.3079435319463872
         },
         {
          "X": 5,
          "Y": 0.8622981475646427
         },
         {
          "X": 5,
          "Y": 0.0012851454618832258
         },
         {
          "X": 5,
          "Y": 0.00011374885712425336
         },
         {
          "X": 5,
          "Y": 0.03796555697215165
         },
         {
          "X": 5,
          "Y": 0.46264156804027345
         },
         {
          "X": 5,
          "Y": 0.7891778987335617
         },
         {
          "X": 5,
          "Y": 0.3199274063447101
         },
         {
          "X": 5,
          "Y": 0.9210641931811175
         },
         {
          "X": 5,
          "Y": 0.9641597630524048
         },
         {
          "X": 5,
          "Y": 0.8948711778767638
         },
         {
          "X": 5,
          "Y": 0.6840481072565301
         },
         {
          "X": 5,
          "Y": 0.3199274063447101
         },
         {
          "X": 5,
          "Y": 0.9991180173942752
         },
         {
          "X": 5,
          "Y": 0.21104673333656848
         },
         {
          "X": 5,
          "Y": 0.8039111436681525
         },
         {
          "X": 5,
          "Y": 0.5451404525311602
         },
         {
          "X": 5,
          "Y": 3.862203006734019e-05
         },
         {
          "X": 5,
          "Y": 0.036015829285365245
         },
         {
          "X": 5,
          "Y": 0.46264156804027345
         },
         {
          "X": 5,
          "Y": 0.001966322335614131
         },
         {
          "X": 5,
          "Y": 0.4849087881895337
         },
         {
          "X": 5,
          "Y": 0.8039111436681525
         },
         {
          "X": 5,
          "Y": 0.4802075673951087
         },
         {
          "X": 5,
          "Y": 0.6840481072565301
         },
         {
          "X": 5,
          "Y": 0.2527953150651531
         },
         {
          "X": 5,
          "Y": 0.7541955758566405
         },
         {
          "X": 5,
          "Y": 0.09818498675546063
         },
         {
          "X": 5,
          "Y": 0.4849087881895337
         },
         {
          "X": 5,
          "Y": 0.5177619729910565
         },
         {
          "X": 5,
          "Y": 0.6087590705172905
         },
         {
          "X": 5,
          "Y": 0.5177619729910565
         },
         {
          "X": 5,
          "Y": 0.0015601389807071704
         },
         {
          "X": 5,
          "Y": 0.9993458202376849
         },
         {
          "X": 5,
          "Y": 0.9991350869634447
         },
         {
          "X": 5,
          "Y": 0.6339274772219892
         },
         {
          "X": 5,
          "Y": 0.799036559601811
         },
         {
          "X": 5,
          "Y": 0.8948711778767638
         },
         {
          "X": 5,
          "Y": 0.9976906761180505
         },
         {
          "X": 5,
          "Y": 0.21104673333656848
         },
         {
          "X": 5,
          "Y": 0.7944444141579413
         },
         {
          "X": 5,
          "Y": 0.0013482498015731019
         },
         {
          "X": 6,
          "Y": 0.9999799493922025
         },
         {
          "X": 6,
          "Y": 0.6376891022645881
         },
         {
          "X": 6,
          "Y": 0.9007501761934251
         },
         {
          "X": 6,
          "Y": 0.024821573740806263
         },
         {
          "X": 6,
          "Y": 0.21525905849666493
         },
         {
          "X": 6,
          "Y": 0.9394947176280589
         },
         {
          "X": 6,
          "Y": 0.010674304759768424
         },
         {
          "X": 6,
          "Y": 0.027549008648301284
         },
         {
          "X": 6,
          "Y": 0.027549008648301284
         },
         {
          "X": 6,
          "Y": 0.9160421580305798
         },
         {
          "X": 6,
          "Y": 0.9994947589303971
         },
         {
          "X": 6,
          "Y": 0.9982953838263704
         },
         {
          "X": 6,
          "Y": 0.04959229928831075
         },
         {
          "X": 6,
          "Y": 0.04959229928831075
         },
         {
          "X": 6,
          "Y": 0.00035809073070050453
         },
         {
          "X": 6,
          "Y": 0.12167124554552479
         },
         {
          "X": 6,
          "Y": 0.9989103723627009
         },
         {
          "X": 6,
          "Y": 0.00035088184403847615
         },
         {
          "X": 6,
          "Y": 0.9962133632432673
         },
         {
          "X": 6,
          "Y": 0.5922513800394288
         },
         {
          "X": 6,
          "Y": 0.12167124554552479
         },
         {
          "X": 6,
          "Y": 0.9982953838263704
         },
         {
          "X": 6,
          "Y": 0.9789037288125834
         },
         {
          "X": 6,
          "Y": 0.879162749114445
         },
         {
          "X": 6,
          "Y": 0.6920510863918092
         },
         {
          "X": 6,
          "Y": 0.805231528895619
         },
         {
          "X": 6,
          "Y": 0.8419865318992886
         },
         {
          "X": 6,
          "Y": 0.001655406817745366
         },
         {
          "X": 6,
          "Y": 0.6279122440812799
         },
         {
          "X": 6,
          "Y": 0.8763109664060293
         },
         {
          "X": 6,
          "Y": 0.29895085298813145
         },
         {
          "X": 6,
          "Y": 0.24364440634477336
         },
         {
          "X": 6,
          "Y": 0.9789037288125834
         },
         {
          "X": 6,
          "Y": 0.8946478977636899
         },
         {
          "X": 6,
          "Y": 0.00047999271988293646
         },
         {
          "X": 6,
          "Y": 0.8459876711655607
         },
         {
          "X": 6,
          "Y": 0.7169388361899929
         },
         {
          "X": 6,
          "Y": 0.9777575022513056
         },
         {
          "X": 6,
          "Y": 0.010674304759768424
         },
         {
          "X": 6,
          "Y": 0.0006633009523985778
         },
         {
          "X": 6,
          "Y": 0.9946377885591517
         },
         {
          "X": 6,
          "Y": 0.21525905849666493
         },
         {
          "X": 6,
          "Y": 0.24364440634477336
         },
         {
          "X": 6,
          "Y": 0.9712016704872655
         },
         {
          "X": 6,
          "Y": 0.9008003870280451
         },
         {
          "X": 6,
          "Y": 0.5932022078947375
         },
         {
          "X": 6,
          "Y": 0.9998756215797486
         },
         {
          "X": 6,
          "Y": 4.0943169322017857e-07
         },
         {
          "X": 6,
          "Y": 0.9789037288125834
         },
         {
          "X": 6,
          "Y": 0.9962133632432673
         },
         {
          "X": 6,
          "Y": 0.8946478977636899
         },
         {
          "X": 6,
          "Y": 0.5402269811486273
         },
         {
          "X": 6,
          "Y": 0.9989103723627009
         },
         {
          "X": 6,
          "Y": 0.027218204687770375
         },
         {
          "X": 6,
          "Y": 0.004145172612427876
         },
         {
          "X": 6,
          "Y": 0.039785356203855655
         },
         {
          "X": 6,
          "Y": 0.001655406817745366
         },
         {
          "X": 6,
          "Y": 0.9040372760695827
         },
         {
          "X": 6,
          "Y": 0.19601374678978384
         },
         {
          "X": 6,
          "Y": 0.8756600872449306
         },
         {
          "X": 6,
          "Y": 0.00035809073070050453
         },
         {
          "X": 6,
          "Y": 1.5972551770585516e-05
         },
         {
          "X": 6,
          "Y": 0.03320724396472055
         },
         {
          "X": 6,
          "Y": 0.5092532721210564
         },
         {
          "X": 6,
          "Y": 0.9007501761934251
         },
         {
          "X": 6,
          "Y": 0.25198945226615127
         },
         {
          "X": 6,
          "Y": 0.9789037288125834
         },
         {
          "X": 6,
          "Y": 0.9815196525757489
         },
         {
          "X": 6,
          "Y": 0.9008003870280451
         },
         {
          "X": 6,
          "Y": 0.6920510863918092
         },
         {
          "X": 6,
          "Y": 0.25198945226615127
         },
         {
          "X": 6,
          "Y": 0.9998167150853648
         },
         {
          "X": 6,
          "Y": 0.18120972044549352
         },
         {
          "X": 6,
          "Y": 0.8459876711655607
         },
         {
          "X": 6,
          "Y": 0.6376891022645881
         },
         {
          "X": 6,
          "Y": 4.486749600443191e-06
         },
         {
          "X": 6,
          "Y": 0.024821573740806263
         },
         {
          "X": 6,
          "Y": 0.5092532721210564
         },
         {
          "X": 6,
          "Y": 0.0005324518943984281
         },
         {
          "X": 6,
          "Y": 0.5100272320353868
         },
         {
          "X": 6,
          "Y": 0.8459876711655607
         },
         {
          "X": 6,
          "Y": 0.5932022078947375
         },
         {
          "X": 6,
          "Y": 0.6920510863918092
         },
         {
          "X": 6,
          "Y": 0.29895085298813145
         },
         {
          "X": 6,
          "Y": 0.806866567062226
         },
         {
          "X": 6,
          "Y": 0.039785356203855655
         },
         {
          "X": 6,
          "Y": 0.5100272320353868
         },
         {
          "X": 6,
          "Y": 0.5047977841710024
         },
         {
          "X": 6,
          "Y": 0.6923730503405924
         },
         {
          "X": 6,
          "Y": 0.5047977841710024
         },
         {
          "X": 6,
          "Y": 0.0003503049029810426
         },
         {
          "X": 6,
          "Y": 0.9998756215797486
         },
         {
          "X": 6,
          "Y": 0.9997871200502396
         },
         {
          "X": 6,
          "Y": 0.6279122440812799
         },
         {
          "X": 6,
          "Y": 0.8419865318992886
         },
         {
          "X": 6,
          "Y": 0.9008003870280451
         },
         {
          "X": 6,
          "Y": 0.9992182258375845
         },
         {
          "X": 6,
          "Y": 0.18120972044549352
         },
         {
          "X": 6,
          "Y": 0.8240759685536926
         },
         {
          "X": 6,
          "Y": 0.00035088184403847615
         },
         {
          "X": 7,
          "Y": 0.9999967558630982
         },
         {
          "X": 7,
          "Y": 0.7210430924530303
         },
         {
          "X": 7,
          "Y": 0.9565282278471396
         },
         {
          "X": 7,
          "Y": 0.017045137754120546
         },
         {
          "X": 7,
          "Y": 0.38307929294299436
         },
         {
          "X": 7,
          "Y": 0.9623596461827125
         },
         {
          "X": 7,
          "Y": 0.005574100254128263
         },
         {
          "X": 7,
          "Y": 0.01179376973026384
         },
         {
          "X": 7,
          "Y": 0.01179376973026384
         },
         {
          "X": 7,
          "Y": 0.93317106542048
         },
         {
          "X": 7,
          "Y": 0.9998022668230517
         },
         {
          "X": 7,
          "Y": 0.9994988298683015
         },
         {
          "X": 7,
          "Y": 0.029962434794913374
         },
         {
          "X": 7,
          "Y": 0.029962434794913374
         },
         {
          "X": 7,
          "Y": 9.971102124398734e-05
         },
         {
          "X": 7,
          "Y": 0.07349803981324673
         },
         {
          "X": 7,
          "Y": 0.9992884123563368
         },
         {
          "X": 7,
          "Y": 9.124954141172588e-05
         },
         {
          "X": 7,
          "Y": 0.9982642509815172
         },
         {
          "X": 7,
          "Y": 0.6257090087034859
         },
         {
          "X": 7,
          "Y": 0.07349803981324673
         },
         {
          "X": 7,
          "Y": 0.9994988298683015
         },
         {
          "X": 7,
          "Y": 0.9946098600586215
         },
         {
          "X": 7,
          "Y": 0.9144849391653023
         },
         {
          "X": 7,
          "Y": 0.6999402729731318
         },
         {
          "X": 7,
          "Y": 0.839714111972836
         },
         {
          "X": 7,
          "Y": 0.8771683049011608
         },
         {
          "X": 7,
          "Y": 0.0005818494856126035
         },
         {
          "X": 7,
          "Y": 0.6218571293358229
         },
         {
          "X": 7,
          "Y": 0.9153301995731692
         },
         {
          "X": 7,
          "Y": 0.34959075246051446
         },
         {
          "X": 7,
          "Y": 0.18166823552356265
         },
         {
          "X": 7,
          "Y": 0.9946098600586215
         },
         {
          "X": 7,
          "Y": 0.9234616015715045
         },
         {
          "X": 7,
          "Y": 0.0001047351860716356
         },
         {
          "X": 7,
          "Y": 0.8803789299009679
         },
         {
          "X": 7,
          "Y": 0.7834705806582453
         },
         {
          "X": 7,
          "Y": 0.9854179540356776
         },
         {
          "X": 7,
          "Y": 0.005574100254128263
         },
         {
          "X": 7,
          "Y": 0.00019728769638784383
         },
         {
          "X": 7,
          "Y": 0.9986521811662205
         },
         {
          "X": 7,
          "Y": 0.38307929294299436
         },
         {
          "X": 7,
          "Y": 0.18166823552356265
         },
         {
          "X": 7,
          "Y": 0.9797370429574107
         },
         {
          "X": 7,
          "Y": 0.906430158058774
         },
         {
          "X": 7,
          "Y": 0.6971260043773916
         },
         {
          "X": 7,
          "Y": 0.9999763622277877
         },
         {
          "X": 7,
          "Y": 2.7786066472114462e-08
         },
         {
          "X": 7,
          "Y": 0.9946098600586215
         },
         {
          "X": 7,
          "Y": 0.9982642509815172
         },
         {
          "X": 7,
          "Y": 0.9234616015715045
         },
         {
          "X": 7,
          "Y": 0.5467263837696594
         },
         {
          "X": 7,
          "Y": 0.9992884123563368
         },
         {
          "X": 7,
          "Y": 0.01048582099931948
         },
         {
          "X": 7,
          "Y": 0.0019650597773079545
         },
         {
          "X": 7,
          "Y": 0.015523427318719954
         },
         {
          "X": 7,
          "Y": 0.0005818494856126035
         },
         {
          "X": 7,
          "Y": 0.9330638577963452
         },
         {
          "X": 7,
          "Y": 0.11784021241147995
         },
         {
          "X": 7,
          "Y": 0.887894013418824
         },
         {
          "X": 7,
          "Y": 9.971102124398734e-05
         },
         {
          "X": 7,
          "Y": 2.242668398634105e-06
         },
         {
          "X": 7,
          "Y": 0.029027307382558792
         },
         {
          "X": 7,
          "Y": 0.5557046414769575
         },
         {
          "X": 7,
          "Y": 0.9565282278471396
         },
         {
          "X": 7,
          "Y": 0.1943553994223587
         },
         {
          "X": 7,
          "Y": 0.9946098600586215
         },
         {
          "X": 7,
          "Y": 0.9905533405024224
         },
         {
          "X": 7,
          "Y": 0.906430158058774
         },
         {
          "X": 7,
          "Y": 0.6999402729731318
         },
         {
          "X": 7,
          "Y": 0.1943553994223587
         },
         {
          "X": 7,
          "Y": 0.9999619326281054
         },
         {
          "X": 7,
          "Y": 0.154763490632664
         },
         {
          "X": 7,
          "Y": 0.8803789299009679
         },
         {
          "X": 7,
          "Y": 0.7210430924530303
         },
         {
          "X": 7,
          "Y": 5.212132710725773e-07
         },
         {
          "X": 7,
          "Y": 0.017045137754120546
         },
         {
          "X": 7,
          "Y": 0.5557046414769575
         },
         {
          "X": 7,
          "Y": 0.0001440294447163415
         },
         {
          "X": 7,
          "Y": 0.535095145024578
         },
         {
          "X": 7,
          "Y": 0.8803789299009679
         },
         {
          "X": 7,
          "Y": 0.6971260043773916
         },
         {
          "X": 7,
          "Y": 0.6999402729731318
         },
         {
          "X": 7,
          "Y": 0.34959075246051446
         },
         {
          "X": 7,
          "Y": 0.8504886138543589
         },
         {
          "X": 7,
          "Y": 0.015523427318719954
         },
         {
          "X": 7,
          "Y": 0.535095145024578
         },
         {
          "X": 7,
          "Y": 0.491827140628747
         },
         {
          "X": 7,
          "Y": 0.7650152395274887
         },
         {
          "X": 7,
          "Y": 0.491827140628747
         },
         {
          "X": 7,
          "Y": 7.858166930644536e-05
         },
         {
          "X": 7,
          "Y": 0.9999763622277877
         },
         {
          "X": 7,
          "Y": 0.9999476298924634
         },
         {
          "X": 7,
          "Y": 0.6218571293358229
         },
         {
          "X": 7,
          "Y": 0.8771683049011608
         },
         {
          "X": 7,
          "Y": 0.906430158058774
         },
         {
          "X": 7,
          "Y": 0.9997356141779002
         },
         {
          "X": 7,
          "Y": 0.154763490632664
         },
         {
          "X": 7,
          "Y": 0.8502412394865374
         },
         {
          "X": 7,
          "Y": 9.124954141172588e-05
         },
         {
          "X": 8,
          "Y": 0.9999994751143666
         },
         {
          "X": 8,
          "Y": 0.7914907826465585
         },
         {
          "X": 8,
          "Y": 0.9815995655727314
         },
         {
          "X": 8,
          "Y": 0.011675838112055099
         },
         {
          "X": 8,
          "Y": 0.584315476388347
         },
         {
          "X": 8,
          "Y": 0.9767973228173001
         },
         {
          "X": 8,
          "Y": 0.0029036316556869607
         },
         {
          "X": 8,
          "Y": 0.005002577398625225
         },
         {
          "X": 8,
          "Y": 0.005002577398625225
         },
         {
          "X": 8,
          "Y": 0.9470075288353582
         },
         {
          "X": 8,
          "Y": 0.9999226288367732
         },
         {
          "X": 8,
          "Y": 0.999852777463393
         },
         {
          "X": 8,
          "Y": 0.017955762482040047
         },
         {
          "X": 8,
          "Y": 0.017955762482040047
         },
         {
          "X": 8,
          "Y": 2.7759539726922887e-05
         },
         {
          "X": 8,
          "Y": 0.04345439002224372
         },
         {
          "X": 8,
          "Y": 0.9995353545739829
         },
         {
          "X": 8,
          "Y": 2.372559045500834e-05
         },
         {
          "X": 8,
          "Y": 0.9992052395653253
         },
         {
          "X": 8,
          "Y": 0.6580065795591926
         },
         {
          "X": 8,
          "Y": 0.04345439002224372
         },
         {
          "X": 8,
          "Y": 0.999852777463393
         },
         {
          "X": 8,
          "Y": 0.9986390649634155
         },
         {
          "X": 8,
          "Y": 0.9401845135894091
         },
         {
          "X": 8,
          "Y": 0.7077127111146055
         },
         {
          "X": 8,
          "Y": 0.8690843104606252
         },
         {
          "X": 8,
          "Y": 0.9053969583870914
         },
         {
          "X": 8,
          "Y": 0.0002043684307229709
         },
         {
          "X": 8,
          "Y": 0.6157637750014274
         },
         {
          "X": 8,
          "Y": 0.9428431867436592
         },
         {
          "X": 8,
          "Y": 0.4038669559683345
         },
         {
          "X": 8,
          "Y": 0.13269130255296183
         },
         {
          "X": 8,
          "Y": 0.9986390649634155
         },
         {
          "X": 8,
          "Y": 0.9448803064727201
         },
         {
          "X": 8,
          "Y": 2.284668073779962e-05
         },
         {
          "X": 8,
          "Y": 0.907926370611362
         },
         {
          "X": 8,
          "Y": 0.8379001782656157
         },
         {
          "X": 8,
          "Y": 0.990465825826449
         },
         {
          "X": 8,
          "Y": 0.0029036316556869607
         },
         {
          "X": 8,
          "Y": 5.86606838201621e-05
         },
         {
          "X": 8,
          "Y": 0.999662239515103
         },
         {
          "X": 8,
          "Y": 0.584315476388347
         },
         {
          "X": 8,
          "Y": 0.13269130255296183
         },
         {
          "X": 8,
          "Y": 0.9857797056096208
         },
         {
          "X": 8,
          "Y": 0.9117717218847178
         },
         {
          "X": 8,
          "Y": 0.7841606500417012
         },
         {
          "X": 8,
          "Y": 0.9999955080738182
         },
         {
          "X": 8,
          "Y": 1.885699685976484e-09
         },
         {
          "X": 8,
          "Y": 0.9986390649634155
         },
         {
          "X": 8,
          "Y": 0.9992052395653253
         },
         {
          "X": 8,
          "Y": 0.9448803064727201
         },
         {
          "X": 8,
          "Y": 0.5532098956023518
         },
         {
          "X": 8,
          "Y": 0.9995353545739829
         },
         {
          "X": 8,
          "Y": 0.003997396872526014
         },
         {
          "X": 8,
          "Y": 0.0009304845390591921
         },
         {
          "X": 8,
          "Y": 0.005965010321720546
         },
         {
          "X": 8,
          "Y": 0.0002043684307229709
         },
         {
          "X": 8,
          "Y": 0.9537596270528976
         },
         {
          "X": 8,
          "Y": 0.06819896747805324
         },
         {
          "X": 8,
          "Y": 0.8990629825591725
         },
         {
          "X": 8,
          "Y": 2.7759539726922887e-05
         },
         {
          "X": 8,
          "Y": 3.14884074806658e-07
         },
         {
          "X": 8,
          "Y": 0.02535971591687896
         },
         {
          "X": 8,
          "Y": 0.6012023506935582
         },
         {
          "X": 8,
          "Y": 0.9815995655727314
         },
         {
          "X": 8,
          "Y": 0.1473072577839133
         },
         {
          "X": 8,
          "Y": 0.9986390649634155
         },
         {
          "X": 8,
          "Y": 0.9951927483149189
         },
         {
          "X": 8,
          "Y": 0.9117717218847178
         },
         {
          "X": 8,
          "Y": 0.7077127111146055
         },
         {
          "X": 8,
          "Y": 0.1473072577839133
         },
         {
          "X": 8,
          "Y": 0.9999920945045415
         },
         {
          "X": 8,
          "Y": 0.13155675870855923
         },
         {
          "X": 8,
          "Y": 0.907926370611362
         },
         {
          "X": 8,
          "Y": 0.7914907826465585
         },
         {
          "X": 8,
          "Y": 6.054768952777911e-08
         },
         {
          "X": 8,
          "Y": 0.011675838112055099
         },
         {
          "X": 8,
          "Y": 0.6012023506935582
         },
         {
          "X": 8,
          "Y": 3.8949249090570384e-05
         },
         {
          "X": 8,
          "Y": 0.559986999360921
         },
         {
          "X": 8,
          "Y": 0.907926370611362
         },
         {
          "X": 8,
          "Y": 0.7841606500417012
         },
         {
          "X": 8,
          "Y": 0.7077127111146055
         },
         {
          "X": 8,
          "Y": 0.4038669559683345
         },
         {
          "X": 8,
          "Y": 0.8856542564204964
         },
         {
          "X": 8,
          "Y": 0.005965010321720546
         },
         {
          "X": 8,
          "Y": 0.559986999360921
         },
         {
          "X": 8,
          "Y": 0.47886749055822125
         },
         {
          "X": 8,
          "Y": 0.8248434014432142
         },
         {
          "X": 8,
          "Y": 0.47886749055822125
         },
         {
          "X": 8,
          "Y": 1.7624009826444538e-05
         },
         {
          "X": 8,
          "Y": 0.9999955080738182
         },
         {
          "X": 8,
          "Y": 0.9999871181094584
         },
         {
          "X": 8,
          "Y": 0.6157637750014274
         },
         {
          "X": 8,
          "Y": 0.9053969583870914
         },
         {
          "X": 8,
          "Y": 0.9117717218847178
         },
         {
          "X": 8,
          "Y": 0.9999106187937006
         },
         {
          "X": 8,
          "Y": 0.13155675870855923
         },
         {
          "X": 8,
          "Y": 0.8731141356258378
         },
         {
          "X": 8,
          "Y": 2.372559045500834e-05
         },
         {
          "X": 9,
          "Y": 0.999999915076241
         },
         {
          "X": 9,
          "Y": 0.8479005003557852
         },
         {
          "X": 9,
          "Y": 0.992327569874495
         },
         {
          "X": 9,
          "Y": 0.007984155240798856
         },
         {
          "X": 9,
          "Y": 0.7608831300449542
         },
         {
          "X": 9,
          "Y": 0.9857789868724709
         },
         {
          "X": 9,
          "Y": 0.0015106014094762787
         },
         {
          "X": 9,
          "Y": 0.0021135852792598634
         },
         {
          "X": 9,
          "Y": 0.0021135852792598634
         },
         {
          "X": 9,
          "Y": 0.9581078540392088
         },
         {
          "X": 9,
          "Y": 0.9999697275978265
         },
         {
          "X": 9,
          "Y": 0.9999567630740064
         },
         {
          "X": 9,
          "Y": 0.010707345976366958
         },
         {
          "X": 9,
          "Y": 0.010707345976366958
         },
         {
          "X": 9,
          "Y": 7.727852197636784e-06
         },
         {
          "X": 9,
          "Y": 0.02535553376898338
         },
         {
          "X": 9,
          "Y": 0.9996966264650464
         },
         {
          "X": 9,
          "Y": 6.168529790410579e-06
         },
         {
          "X": 9,
          "Y": 0.9996362829389
         },
         {
          "X": 9,
          "Y": 0.6889028442977302
         },
         {
          "X": 9,
          "Y": 0.02535553376898338
         },
         {
          "X": 9,
          "Y": 0.9999567630740064
         },
         {
          "X": 9,
          "Y": 0.999657420318132
         },
         {
          "X": 9,
          "Y": 0.9585110757194626
         },
         {
          "X": 9,
          "Y": 0.7153656915902067
         },
         {
          "X": 9,
          "Y": 0.8937537485862456
         },
         {
          "X": 9,
          "Y": 0.9276731409587924
         },
         {
          "X": 9,
          "Y": 7.176464819657581e-05
         },
         {
          "X": 9,
          "Y": 0.6096338695678809
         },
         {
          "X": 9,
          "Y": 0.961789191483787
         },
         {
          "X": 9,
          "Y": 0.46060230580998157
         },
         {
          "X": 9,
          "Y": 0.09537936220674435
         },
         {
          "X": 9,
          "Y": 0.999657420318132
         },
         {
          "X": 9,
          "Y": 0.9605611290843115
         },
         {
          "X": 9,
          "Y": 4.983400703097508e-06
         },
         {
          "X": 9,
          "Y": 0.9296369586885778
         },
         {
          "X": 9,
          "Y": 0.8807305172498124
         },
         {
          "X": 9,
          "Y": 0.9937773087132873
         },
         {
          "X": 9,
          "Y": 0.0015106014094762787
         },
         {
          "X": 9,
          "Y": 1.744021886108839e-05
         },
         {
          "X": 9,
          "Y": 0.9999154220597625
         },
         {
          "X": 9,
          "Y": 0.7608831300449542
         },
         {
          "X": 9,
          "Y": 0.09537936220674435
         },
         {
          "X": 9,
          "Y": 0.9900386935292207
         },
         {
          "X": 9,
          "Y": 0.9168363320944135
         },
         {
          "X": 9,
          "Y": 0.8515120379774314
         },
         {
          "X": 9,
          "Y": 0.9999991464048416
         },
         {
          "X": 9,
          "Y": 1.2797288970039989e-10
         },
         {
          "X": 9,
          "Y": 0.999657420318132
         },
         {
          "X": 9,
          "Y": 0.9996362829389
         },
         {
          "X": 9,
          "Y": 0.9605611290843115
         },
         {
          "X": 9,
          "Y": 0.5596753590277151
         },
         {
          "X": 9,
          "Y": 0.9996966264650464
         },
         {
          "X": 9,
          "Y": 0.0015177265476171117
         },
         {
          "X": 9,
          "Y": 0.00044035770530789493
         },
         {
          "X": 9,
          "Y": 0.002278484960787074
         },
         {
          "X": 9,
          "Y": 7.176464819657581e-05
         },
         {
          "X": 9,
          "Y": 0.9682741113164255
         },
         {
          "X": 9,
          "Y": 0.038555572085082715
         },
         {
          "X": 9,
          "Y": 0.9092329556933174
         },
         {
          "X": 9,
          "Y": 7.727852197636784e-06
         },
         {
          "X": 9,
          "Y": 4.4211536721708054e-08
         },
         {
          "X": 9,
          "Y": 0.022144954784961937
         },
         {
          "X": 9,
          "Y": 0.645017161845082
         },
         {
          "X": 9,
          "Y": 0.992327569874495
         },
         {
          "X": 9,
          "Y": 0.11009186394790658
         },
         {
          "X": 9,
          "Y": 0.999657420318132
         },
         {
          "X": 9,
          "Y": 0.9975592818297738
         },
         {
          "X": 9,
          "Y": 0.9168363320944135
         },
         {
          "X": 9,
          "Y": 0.7153656915902067
         },
         {
          "X": 9,
          "Y": 0.11009186394790658
         },
         {
          "X": 9,
          "Y": 0.9999983582957856
         },
         {
          "X": 9,
          "Y": 0.11137135199998782
         },
         {
          "X": 9,
          "Y": 0.9296369586885778
         },
         {
          "X": 9,
          "Y": 0.8479005003557852
         },
         {
          "X": 9,
          "Y": 7.0336298363649035e-09
         },
         {
          "X": 9,
          "Y": 0.007984155240798856
         },
         {
          "X": 9,
          "Y": 0.645017161845082
         },
         {
          "X": 9,
          "Y": 1.0532066533215186e-05
         },
         {
          "X": 9,
          "Y": 0.5845807782554526
         },
         {
          "X": 9,
          "Y": 0.9296369586885778
         },
         {
          "X": 9,
          "Y": 0.8515120379774314
         },
         {
          "X": 9,
          "Y": 0.7153656915902067
         },
         {
          "X": 9,
          "Y": 0.46060230580998157
         },
         {
          "X": 9,
          "Y": 0.9133910879218364
         },
         {
          "X": 9,
          "Y": 0.002278484960787074
         },
         {
          "X": 9,
          "Y": 0.5845807782554526
         },
         {
          "X": 9,
          "Y": 0.46593622307071864
         },
         {
          "X": 9,
          "Y": 0.8719879457498277
         },
         {
          "X": 9,
          "Y": 0.46593622307071864
         },
         {
          "X": 9,
          "Y": 3.95246165230879e-06
         },
         {
          "X": 9,
          "Y": 0.9999991464048416
         },
         {
          "X": 9,
          "Y": 0.9999968314336046
         },
         {
          "X": 9,
          "Y": 0.6096338695678809
         },
         {
          "X": 9,
          "Y": 0.9276731409587924
         },
         {
          "X": 9,
          "Y": 0.9168363320944135
         },
         {
          "X": 9,
          "Y": 0.9999697862979643
         },
         {
          "X": 9,
          "Y": 0.11137135199998782
         },
         {
          "X": 9,
          "Y": 0.8929335251348123
         },
         {
          "X": 9,
          "Y": 6.168529790410579e-06
         },
         {
          "X": 10,
          "Y": 0.9999999862597837
         },
         {
          "X": 10,
          "Y": 0.8911480413458164
         },
         {
          "X": 10,
          "Y": 0.9968210824485084
         },
         {
          "X": 10,
          "Y": 0.0054532733530207106
         },
         {
          "X": 10,
          "Y": 0.878097947100189
         },
         {
          "X": 10,
          "Y": 0.9913147981926623
         },
         {
          "X": 10,
          "Y": 0.0007853572487138119
         },
         {
          "X": 10,
          "Y": 0.0008914933879821351
         },
         {
          "X": 10,
          "Y": 0.0008914933879821351
         },
         {
          "X": 10,
          "Y": 0.966964108623632
         },
         {
          "X": 10,
          "Y": 0.9999881558965977
         },
         {
          "X": 10,
          "Y": 0.9999873029326979
         },
         {
          "X": 10,
          "Y": 0.0063660162006452916
         },
         {
          "X": 10,
          "Y": 0.0063660162006452916
         },
         {
          "X": 10,
          "Y": 2.1512905799904685e-06
         },
         {
          "X": 10,
          "Y": 0.014679211998741276
         },
         {
          "X": 10,
          "Y": 0.9998019342433069
         },
         {
          "X": 10,
          "Y": 1.6037647397867876e-06
         },
         {
          "X": 10,
          "Y": 0.9998335861339549
         },
         {
          "X": 10,
          "Y": 0.7182032515370298
         },
         {
          "X": 10,
          "Y": 0.014679211998741276
         },
         {
          "X": 10,
          "Y": 0.9999873029326979
         },
         {
          "X": 10,
          "Y": 0.9999138303067976
         },
         {
          "X": 10,
          "Y": 0.9713934999558184
         },
         {
          "X": 10,
          "Y": 0.7228967512514909
         },
         {
          "X": 10,
          "Y": 0.9142332950211013
         },
         {
          "X": 10,
          "Y": 0.9450224595297774
         },
         {
          "X": 10,
          "Y": 2.5198224316655872e-05
         },
         {
          "X": 10,
          "Y": 0.6034691463703117
         },
         {
          "X": 10,
          "Y": 0.9746241101327086
         },
         {
          "X": 10,
          "Y": 0.5183772377366075
         },
         {
          "X": 10,
          "Y": 0.06773984698524181
         },
         {
          "X": 10,
          "Y": 0.9999138303067976
         },
         {
          "X": 10,
          "Y": 0.9719135675761894
         },
         {
          "X": 10,
          "Y": 1.0869822182135116e-06
         },
         {
          "X": 10,
          "Y": 0.9465297657620386
         },
         {
          "X": 10,
          "Y": 0.9134135785706143
         },
         {
          "X": 10,
          "Y": 0.9959433326003124
         },
         {
          "X": 10,
          "Y": 0.0007853572487138119
         },
         {
          "X": 10,
          "Y": 5.184945072572197e-06
         },
         {
          "X": 10,
          "Y": 0.999978825023973
         },
         {
          "X": 10,
          "Y": 0.878097947100189
         },
         {
          "X": 10,
          "Y": 0.06773984698524181
         },
         {
          "X": 10,
          "Y": 0.9930311291597498
         },
         {
          "X": 10,
          "Y": 0.9216352033416456
         },
         {
          "X": 10,
          "Y": 0.9005132100475242
         },
         {
          "X": 10,
          "Y": 0.9999998377928493
         },
         {
          "X": 10,
          "Y": 8.684872036215705e-12
         },
         {
          "X": 10,
          "Y": 0.9999138303067976
         },
         {
          "X": 10,
          "Y": 0.9998335861339549
         },
         {
          "X": 10,
          "Y": 0.9719135675761894
         },
         {
          "X": 10,
          "Y": 0.5661206407679745
         },
         {
          "X": 10,
          "Y": 0.9998019342433069
         },
         {
          "X": 10,
          "Y": 0.0005753599142812823
         },
         {
          "X": 10,
          "Y": 0.00020834823531179638
         },
         {
          "X": 10,
          "Y": 0.0008683340939030569
         },
         {
          "X": 10,
          "Y": 2.5198224316655872e-05
         },
         {
          "X": 10,
          "Y": 0.978336100255821
         },
         {
          "X": 10,
          "Y": 0.021499694209300455
         },
         {
          "X": 10,
          "Y": 0.9184711669668738
         },
         {
          "X": 10,
          "Y": 2.1512905799904685e-06
         },
         {
          "X": 10,
          "Y": 6.207552813546284e-09
         },
         {
          "X": 10,
          "Y": 0.019329635254781208
         },
         {
          "X": 10,
          "Y": 0.6865281214713116
         },
         {
          "X": 10,
          "Y": 0.9968210824485084
         },
         {
          "X": 10,
          "Y": 0.08138115802179173
         },
         {
          "X": 10,
          "Y": 0.9999138303067976
         },
         {
          "X": 10,
          "Y": 0.9987622574938009
         },
         {
          "X": 10,
          "Y": 0.9216352033416456
         },
         {
          "X": 10,
          "Y": 0.7228967512514909
         },
         {
          "X": 10,
          "Y": 0.08138115802179173
         },
         {
          "X": 10,
          "Y": 0.9999996590752135
         },
         {
          "X": 10,
          "Y": 0.0939480436092802
         },
         {
          "X": 10,
          "Y": 0.9465297657620386
         },
         {
          "X": 10,
          "Y": 0.8911480413458164
         },
         {
          "X": 10,
          "Y": 8.170740571761249e-10
         },
         {
          "X": 10,
          "Y": 0.0054532733530207106
         },
         {
          "X": 10,
          "Y": 0.6865281214713116
         },
         {
          "X": 10,
          "Y": 2.8478630065475214e-06
         },
         {
          "X": 10,
          "Y": 0.608760324840037
         },
         {
          "X": 10,
          "Y": 0.9465297657620386
         },
         {
          "X": 10,
          "Y": 0.9005132100475242
         },
         {
          "X": 10,
          "Y": 0.7228967512514909
         },
         {
          "X": 10,
          "Y": 0.5183772377366075
         },
         {
          "X": 10,
          "Y": 0.9348943928643831
         },
         {
          "X": 10,
          "Y": 0.0008683340939030569
         },
         {
          "X": 10,
          "Y": 0.608760324840037
         },
         {
          "X": 10,
          "Y": 0.45305057508692037
         },
         {
          "X": 10,
          "Y": 0.9078606844444266
         },
         {
          "X": 10,
          "Y": 0.45305057508692037
         },
         {
          "X": 10,
          "Y": 8.863923469860975e-07
         },
         {
          "X": 10,
          "Y": 0.9999998377928493
         },
         {
          "X": 10,
          "Y": 0.9999992206315186
         },
         {
          "X": 10,
          "Y": 0.6034691463703117
         },
         {
          "X": 10,
          "Y": 0.9450224595297774
         },
         {
          "X": 10,
          "Y": 0.9216352033416456
         },
         {
          "X": 10,
          "Y": 0.9999897872039055
         },
         {
          "X": 10,
          "Y": 0.0939480436092802
         },
         {
          "X": 10,
          "Y": 0.9099763471835371
         },
         {
          "X": 10,
          "Y": 1.6037647397867876e-06
         }
        ]
       },
       "description": "Logistic Regression",
       "encoding": {
        "color": {
         "aggregate": "count",
         "field": "col",
         "scale": {
          "scheme": {
           "extent": [
            0,
            1
           ],
           "name": "blues"
          }
         },
         "type": "quantitative"
        },
        "x": {
         "axis": {
          "grid": true,
          "title": "Toss Value"
         },
         "bin": {
          "maxbins": 20
         },
         "field": "X",
         "type": "quantitative"
        },
        "y": {
         "axis": {
          "grid": false
         },
         "bin": {
          "maxbins": 20
         },
         "field": "Y",
         "type": "quantitative"
        }
       },
       "height": 300,
       "mark": "rect",
       "width": 300
      },
      "image/png": "[encoded data removed]"
     },
     "metadata": {},
     "output_type": "display_data"
    }
   ],
   "source": [
    "vlShow $ density2DPlot xPoints yPoints"
   ]
  },
  {
   "cell_type": "markdown",
   "metadata": {},
   "source": [
    "the sigmoidal structure of the distribution becomes quite clear. The goal of the inference algorithm will be to find parameters that correspond to the observed values. We start with the definition of a helper function `obs` that returns an empty instance of the MonadInfer class. This class can sample and score different execution paths."
   ]
  },
  {
   "cell_type": "code",
   "execution_count": 17,
   "metadata": {},
   "outputs": [],
   "source": [
    "obs :: (MonadInfer m) => Double -> Bool -> m ()\n",
    "obs x label = do\n",
    "      p <- sigmoid x -- get the y Value (True=1, False=0) of the sigmoid at point x\n",
    "      score $ (Exp . log) $ if label then p else 1 - p"
   ]
  },
  {
   "cell_type": "code",
   "execution_count": 18,
   "metadata": {},
   "outputs": [],
   "source": [
    "logisticRegression :: (MonadInfer m) => [(Double, Bool)] -> m Double\n",
    "logisticRegression dat = do\n",
    "  mapM_ (uncurry obs) dat\n",
    "  sigmoid 10\n",
    "\n",
    "model = logisticRegression (zip xs labels)"
   ]
  },
  {
   "cell_type": "code",
   "execution_count": 19,
   "metadata": {},
   "outputs": [],
   "source": [
    "samples <- takeFromModel 100 model\n",
    "(bins, counts) = kde 10 (fromList samples)"
   ]
  },
  {
   "cell_type": "code",
   "execution_count": 20,
   "metadata": {},
   "outputs": [
    {
     "data": {
      "application/vnd.vegalite.v2+json": {
       "$schema": "https://vega.github.io/schema/vega-lite/v3.json",
       "config": {
        "axis": {
         "domainWidth": 1
        },
        "selection": {
         "single": {
          "on": "dblclick"
         }
        }
       },
       "data": {
        "values": [
         {
          "X": -0.09999999989036241,
          "Y": 0.25200042244775195
         },
         {
          "X": -0.019999999898337076,
          "Y": 4.305585223762178
         },
         {
          "X": 0.06000000009368826,
          "Y": 0.6681791523397732
         },
         {
          "X": 0.14000000008571362,
          "Y": 0.09476126793583381
         },
         {
          "X": 0.22000000007773896,
          "Y": 0.1591434966444653
         },
         {
          "X": 0.3000000000697643,
          "Y": 0.2429975382774381
         },
         {
          "X": 0.38000000006178963,
          "Y": 0.15207841973089434
         },
         {
          "X": 0.460000000053815,
          "Y": 0.2592589034551007
         },
         {
          "X": 0.5400000000458403,
          "Y": 0.25599001429582224
         },
         {
          "X": 0.6200000000378656,
          "Y": 0.16222254245796905
         },
         {
          "X": 0.7000000000298909,
          "Y": 0.3596956999499646
         },
         {
          "X": 0.7800000000219163,
          "Y": 0.17015227112150444
         },
         {
          "X": 0.8600000000139416,
          "Y": 0.09221074863514077
         },
         {
          "X": 0.940000000005967,
          "Y": 0.8382545019868058
         },
         {
          "X": 1.0199999999979923,
          "Y": 5.02726045007548
         },
         {
          "X": 1.0999999999900176,
          "Y": 0.29354268154632
         }
        ]
       },
       "description": "Logistic Regression",
       "encoding": {
        "x": {
         "axis": {
          "grid": true,
          "title": "Toss Value"
         },
         "field": "X",
         "type": "quantitative"
        },
        "y": {
         "axis": {
          "grid": false
         },
         "field": "Y",
         "type": "quantitative"
        }
       },
       "height": 200,
       "mark": "line",
       "width": 600
      },
      "image/png": "[encoded data removed]"
     },
     "metadata": {},
     "output_type": "display_data"
    }
   ],
   "source": [
    "vlShow $ linePlot (toList bins) (toList counts)"
   ]
  },
  {
   "cell_type": "code",
   "execution_count": 21,
   "metadata": {},
   "outputs": [
    {
     "data": {
      "application/vnd.vegalite.v2+json": {
       "$schema": "https://vega.github.io/schema/vega-lite/v3.json",
       "config": {
        "axis": {
         "domainWidth": 1
        },
        "selection": {
         "single": {
          "on": "dblclick"
         }
        }
       },
       "data": {
        "values": [
         {
          "X": -10,
          "Y": 0.9951931205724038
         },
         {
          "X": -5,
          "Y": 0.9987155742177685
         },
         {
          "X": 2,
          "Y": 0.04578458116188763
         },
         {
          "X": 6,
          "Y": 0.9514353089729366
         },
         {
          "X": 10,
          "Y": 0.00043422638859465115
         },
         {
          "Y": 0.9780986029563794
         },
         {
          "Y": 0.999999999999986
         },
         {
          "Y": 0.9999997173539747
         },
         {
          "Y": 0.8929795837919031
         },
         {
          "Y": 0.014041058539690239
         },
         {
          "Y": 0.1386203002214848
         },
         {
          "Y": 0.006908442451768724
         },
         {
          "Y": 0.47965353683960515
         },
         {
          "Y": 9.966926288347576e-11
         },
         {
          "Y": 0.00589739729405815
         },
         {
          "Y": 0.6987297981408392
         },
         {
          "Y": 3.3173086349550866e-06
         },
         {
          "Y": 0.004952217370203935
         },
         {
          "Y": 0.5477635334838111
         },
         {
          "Y": 0.9999997361069469
         },
         {
          "Y": 0.0002429325087028649
         },
         {
          "Y": 0.004946028319797928
         },
         {
          "Y": 0.0010043660482853644
         },
         {
          "Y": 0.995451536800856
         },
         {
          "Y": 2.1526781465391435e-05
         },
         {
          "Y": 0.04367873007724595
         },
         {
          "Y": 0.0006365441953098271
         },
         {
          "Y": 0.9999771415883623
         },
         {
          "Y": 0.9999999156871473
         },
         {
          "Y": 0.9999970718419234
         },
         {
          "Y": 0.9635368852602914
         },
         {
          "Y": 5.4169966115375915e-05
         },
         {
          "Y": 0.09036870657065693
         },
         {
          "Y": 0.9996820535413772
         },
         {
          "Y": 0.9999994485830627
         },
         {
          "Y": 0.9999973104509404
         },
         {
          "Y": 0.9288952782111615
         },
         {
          "Y": 0.999999597823536
         },
         {
          "Y": 0.039061320147095256
         },
         {
          "Y": 0.00013423296407810687
         },
         {
          "Y": 0.9996371063295534
         },
         {
          "Y": 3.224217934513645e-05
         },
         {
          "Y": 1.5102191706585814e-07
         },
         {
          "Y": 0.0024028350857840663
         },
         {
          "Y": 0.9999643310949459
         },
         {
          "Y": 0.7214295588620243
         },
         {
          "Y": 0.9955622585089476
         },
         {
          "Y": 0.050224147773743004
         },
         {
          "Y": 2.417346104135494e-10
         },
         {
          "Y": 3.413169457888939e-08
         },
         {
          "Y": 0.9999985681090815
         },
         {
          "Y": 0.9999996876989099
         },
         {
          "Y": 0.5413527306776241
         },
         {
          "Y": 0.9999905159182748
         },
         {
          "Y": 0.97213533711959
         },
         {
          "Y": 0.7642590011935498
         },
         {
          "Y": 0.9539746605034485
         },
         {
          "Y": 0.0012488658446231137
         },
         {
          "Y": 0.609372873942153
         },
         {
          "Y": 0.00021594457960802347
         },
         {
          "Y": 0.023991849605965492
         },
         {
          "Y": 0.9972786482592775
         },
         {
          "Y": 0.6601245778002511
         },
         {
          "Y": 0.999080330070125
         },
         {
          "Y": 0.9999929931096442
         },
         {
          "Y": 0.00022061969842860181
         },
         {
          "Y": 4.384437153869243e-06
         },
         {
          "Y": 0.9996471128555666
         },
         {
          "Y": 0.0508416673047666
         },
         {
          "Y": 0.012952195749754933
         },
         {
          "Y": 3.150696842645947e-08
         },
         {
          "Y": 0.9991152708123849
         },
         {
          "Y": 0.9999973943673753
         },
         {
          "Y": 8.978132965282172e-05
         },
         {
          "Y": 0.2842141721082402
         },
         {
          "Y": 0.0004685712146299527
         },
         {
          "Y": 0.9999965742234287
         },
         {
          "Y": 0.9867985785650277
         },
         {
          "Y": 4.514241597920819e-09
         },
         {
          "Y": 0.9705974129245014
         },
         {
          "Y": 0.9544406294603955
         },
         {
          "Y": 0.9999999381926592
         },
         {
          "Y": 0.27009063419740953
         },
         {
          "Y": 0.955785538061837
         },
         {
          "Y": 0.0047443373501345155
         },
         {
          "Y": 0.3010063855480715
         },
         {
          "Y": 0.999999927902309
         },
         {
          "Y": 0.9999999873019888
         },
         {
          "Y": 0.8312201344141886
         },
         {
          "Y": 0.0024968075318969976
         },
         {
          "Y": 0.9991715070750309
         },
         {
          "Y": 0.9999957128718406
         },
         {
          "Y": 0.467314069143556
         },
         {
          "Y": 0.0029371865495012224
         },
         {
          "Y": 0.3566081947086627
         },
         {
          "Y": 0.999180505326894
         },
         {
          "Y": 0.9309826568211073
         },
         {
          "Y": 0.9994872655429174
         },
         {
          "Y": 0.9254059275159262
         },
         {
          "Y": 0.0025468247258960486
         }
        ]
       },
       "description": "Logistic Regression",
       "encoding": {
        "x": {
         "axis": {
          "grid": true,
          "title": "Toss Value"
         },
         "field": "X",
         "type": "quantitative"
        },
        "y": {
         "axis": {
          "grid": false
         },
         "field": "Y",
         "type": "quantitative"
        }
       },
       "height": 200,
       "mark": {
        "opacity": 0.2,
        "type": "point"
       },
       "width": 600
      },
      "image/png": "[encoded data removed]"
     },
     "metadata": {},
     "output_type": "display_data"
    }
   ],
   "source": [
    "xValues = xs\n",
    "yValues <- takeFromModel nsamples model\n",
    "vlShow $ pointPlot xValues yValues"
   ]
  }
 ],
 "metadata": {
  "kernelspec": {
   "display_name": "Haskell - bayes-monad",
   "language": "haskell",
   "name": "ihaskell_bayes-monad"
  },
  "language_info": {
   "codemirror_mode": "ihaskell",
   "file_extension": ".hs",
   "name": "haskell",
   "pygments_lexer": "Haskell",
   "version": "8.4.4"
  }
 },
 "nbformat": 4,
 "nbformat_minor": 4
}
