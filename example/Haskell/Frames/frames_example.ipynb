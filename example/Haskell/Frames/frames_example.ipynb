{
 "cells": [
  {
   "cell_type": "markdown",
   "metadata": {},
   "source": [
    "## Frames"
   ]
  },
  {
   "cell_type": "code",
   "execution_count": 1,
   "metadata": {},
   "outputs": [
    {
     "data": {
      "text/plain": [
       "141.9682659007689"
      ]
     },
     "metadata": {},
     "output_type": "display_data"
    }
   ],
   "source": [
    ":e DataKinds\n",
    ":e FlexibleContexts\n",
    ":e QuasiQuotes\n",
    ":e TemplateHaskell\n",
    "\n",
    "import qualified Control.Foldl as L\n",
    "import Data.Vinyl (rcast)\n",
    "import Data.Vinyl.Curry (runcurryX)\n",
    "import Frames\n",
    "\n",
    "-- Data set from http://vincentarelbundock.github.io/Rdatasets/datasets.html\n",
    "tableTypes \"Row\" \"./prestige.csv\"\n",
    "\n",
    "loadRows :: IO (Frame Row)\n",
    "loadRows = inCoreAoS (readTable \"./prestige.csv\")\n",
    "\n",
    "-- | Compute the ratio of income to prestige for a record containing\n",
    "-- only those fields.\n",
    "ratio :: Record '[Income, Prestige] -> Double\n",
    "ratio = runcurryX (\\i p -> fromIntegral i / p)\n",
    "\n",
    "averageRatio :: IO Double\n",
    "averageRatio = L.fold (L.premap (ratio . rcast) avg) <$> loadRows\n",
    "  where avg = (/) <$> L.sum <*> L.genericLength\n",
    "  \n",
    "averageRatio"
   ]
  }
 ],
 "metadata": {
  "kernelspec": {
   "display_name": "Haskell - dataHaskell",
   "language": "haskell",
   "name": "ihaskell_frames"
  },
  "language_info": {
   "codemirror_mode": "ihaskell",
   "file_extension": ".hs",
   "name": "haskell",
   "pygments_lexer": "Haskell",
   "version": "8.4.4"
  }
 },
 "nbformat": 4,
 "nbformat_minor": 2
}
