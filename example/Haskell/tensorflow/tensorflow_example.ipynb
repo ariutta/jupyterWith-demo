{
 "cells": [
  {
   "cell_type": "markdown",
   "metadata": {},
   "source": [
    "# Tensorflow"
   ]
  },
  {
   "cell_type": "code",
   "execution_count": 1,
   "metadata": {},
   "outputs": [],
   "source": [
    "import Control.Monad (replicateM, replicateM_)\n",
    "import System.Random (randomIO)\n",
    "import Test.HUnit (assertBool)\n",
    "\n",
    "import qualified TensorFlow.Core as TF\n",
    "import qualified TensorFlow.GenOps.Core as TF\n",
    "import qualified TensorFlow.Minimize as TF\n",
    "import qualified TensorFlow.Ops as TF hiding (initializedVariable)\n",
    "import qualified TensorFlow.Variable as TF\n",
    "\n",
    "fit :: [Float] -> [Float] -> IO (Float, Float)\n",
    "fit xData yData = TF.runSession $ do\n",
    "    -- Create tensorflow constants for x and y.\n",
    "    let x = TF.vector xData\n",
    "        y = TF.vector yData\n",
    "    -- Create scalar variables for slope and intercept.\n",
    "    w <- TF.initializedVariable 0\n",
    "    b <- TF.initializedVariable 0\n",
    "    -- Define the loss function.\n",
    "    let yHat = (x `TF.mul` TF.readValue w) `TF.add` TF.readValue b\n",
    "        loss = TF.square (yHat `TF.sub` y)\n",
    "    -- Optimize with gradient descent.\n",
    "    trainStep <- TF.minimizeWith (TF.gradientDescent 0.001) loss [w, b]\n",
    "    replicateM_ 1000 (TF.run trainStep)\n",
    "    -- Return the learned parameters.\n",
    "    (TF.Scalar w', TF.Scalar b') <- TF.run (TF.readValue w, TF.readValue b)\n",
    "    return (w', b')"
   ]
  },
  {
   "cell_type": "markdown",
   "metadata": {},
   "source": [
    "generate data ..."
   ]
  },
  {
   "cell_type": "code",
   "execution_count": 2,
   "metadata": {},
   "outputs": [],
   "source": [
    "xData <- replicateM 100 (randomIO :: IO Float)\n",
    "yData = [x*3 + 8 | x <- xData]"
   ]
  },
  {
   "cell_type": "markdown",
   "metadata": {},
   "source": [
    "fit the model ..."
   ]
  },
  {
   "cell_type": "code",
   "execution_count": 3,
   "metadata": {},
   "outputs": [
    {
     "data": {
      "text/plain": [
       "(3.0000193,7.9999886)"
      ]
     },
     "metadata": {},
     "output_type": "display_data"
    }
   ],
   "source": [
    "(w, b) <- fit xData yData\n",
    "(w, b)"
   ]
  }
 ],
 "metadata": {
  "kernelspec": {
   "display_name": "Haskell - Frames",
   "language": "haskell",
   "name": "ihaskell_tensorflow"
  },
  "language_info": {
   "codemirror_mode": "ihaskell",
   "file_extension": ".hs",
   "name": "haskell",
   "pygments_lexer": "Haskell",
   "version": "8.4.4"
  }
 },
 "nbformat": 4,
 "nbformat_minor": 2
}
