{
 "cells": [
  {
   "cell_type": "code",
   "execution_count": 7,
   "metadata": {},
   "outputs": [
    {
     "name": "stdout",
     "output_type": "stream",
     "text": [
      "[1] \"SUCCESS: You have successfully installed and loaded all required libraries.\"\n"
     ]
    }
   ],
   "source": [
    "# Set to your own local working directory\n",
    "setwd(\"~/Dropbox (Gladstone)/Documents/nixosjupyterlab\")\n",
    "\n",
    "# Libraries\n",
    "load.libs <- c(\n",
    "  \"DOSE\",\n",
    "  \"GO.db\",\n",
    "  \"GSEABase\",\n",
    "  \"org.Hs.eg.db\", ## Human-specific\n",
    "  \"clusterProfiler\",\n",
    "  \"plyr\",  ## for ldply\n",
    "  \"dplyr\",\n",
    "  \"tidyr\",\n",
    "  \"magrittr\",\n",
    "  \"stringr\",\n",
    "  \"rWikiPathways\")\n",
    "options(install.packages.check.source = \"no\")\n",
    "options(install.packages.compile.from.source = \"never\")\n",
    "if (!require(\"pacman\")) install.packages(\"pacman\"); library(pacman)\n",
    "p_load(load.libs, update = FALSE, character.only = TRUE)\n",
    "status <- sapply(load.libs,require,character.only = TRUE)\n",
    "if(all(status)){\n",
    "  print(\"SUCCESS: You have successfully installed and loaded all required libraries.\")\n",
    "} else{\n",
    "  cat(\"ERROR: One or more libraries failed to install correctly. Check the following list for FALSE cases and try again...\\n\\n\")\n",
    "  status\n",
    "}"
   ]
  },
  {
   "cell_type": "code",
   "execution_count": 8,
   "metadata": {},
   "outputs": [
    {
     "name": "stderr",
     "output_type": "stream",
     "text": [
      "trying URL 'http://data.wikipathways.org/current/gmt/wikipathways-20191110-gmt-Homo_sapiens.gmt'\n",
      "Content type 'unknown' length 199785 bytes (195 KB)\n",
      "==================================================\n",
      "downloaded 195 KB\n",
      "\n",
      "'select()' returned 1:1 mapping between keys and columns\n",
      "simpleWarning in bitr(gmt$gene, fromType = \"SYMBOL\", toType = \"ENTREZID\", OrgDb = org.Hs.eg.db): 12.85% of input gene IDs are fail to map...\n",
      "\n",
      "\n"
     ]
    }
   ],
   "source": [
    "# Prepare WikiPathways GMT\n",
    "wp.hs.gmt <- rWikiPathways::downloadPathwayArchive(organism=\"Homo sapiens\", format = \"gmt\")\n",
    "#wp.hs.gmt <-\"wikipathways-20191010-gmt-Homo_sapiens.gmt\"\n",
    "wp2gene <- clusterProfiler::read.gmt(wp.hs.gmt)\n",
    "wp2gene <- wp2gene %>% tidyr::separate(ont, c(\"name\",\"version\",\"wpid\",\"org\"), \"%\")\n",
    "wpid2gene <- wp2gene %>% dplyr::select(wpid,gene) #TERM2GENE\n",
    "wpid2name <- wp2gene %>% dplyr::select(wpid,name) #TERM2NAME\n",
    "wpid2name<-unique(wpid2name)\n",
    "\n",
    "# Get GMT from file (e.g., downloaded from Enrichr)\n",
    "gmt.file <- \"OMIM_Disease\"\n",
    "gmt <- clusterProfiler::read.gmt(gmt.file)\n",
    "gmt.entrez <- bitr(gmt$gene,fromType = \"SYMBOL\",toType = \"ENTREZID\",OrgDb = org.Hs.eg.db)\n",
    "gmt <-gmt %>%\n",
    "  dplyr::left_join(gmt.entrez, by=c(\"gene\" = \"SYMBOL\")) %>%\n",
    "  dplyr::filter(!is.na(ENTREZID)) %>%\n",
    "  dplyr::select(ont, ENTREZID)\n",
    "gmt.lists <- gmt %>% group_by(ont) %>%\n",
    "  dplyr::summarize(cnt = n(),\n",
    "            genes = list(ENTREZID))\n",
    "gmt.all.genes <- unique(gmt$ENTREZID)\n",
    "  \n",
    "# Apply to each term in GMT  \n",
    "gmt.wp.overlaps <- ldply(gmt.lists$ont, function(term){\n",
    "\n",
    "  gmt.term.genes <- gmt %>%\n",
    "    dplyr::filter(ont == term) %>%\n",
    "    dplyr::select(ENTREZID)\n",
    "  \n",
    "    ## WikiPathways Analysis\n",
    "  ewp <- clusterProfiler::enricher(\n",
    "    gene = gmt.term.genes$ENTREZID,\n",
    "    universe = gmt.all.genes,\n",
    "    pAdjustMethod = \"fdr\",\n",
    "    pvalueCutoff = 0.05, #p.adjust cutoff\n",
    "    minGSSize = 10,\n",
    "    maxGSSize = 200,\n",
    "    TERM2GENE = wpid2gene,\n",
    "    TERM2NAME = wpid2name)\n",
    "  #ewp <- DOSE::setReadable(ewp, org.Hs.eg.db, keyType = \"ENTREZID\")\n",
    "  #head(ewp, 20)\n",
    "  \n",
    "  ## stash results\n",
    "  if (!is.null(ewp)){\n",
    "    res <- ewp@result %>%\n",
    "      dplyr::filter(p.adjust < 0.05)\n",
    "    \n",
    "    ovr.genes <- res %>%\n",
    "      tidyr::separate_rows(geneID, sep=\"/\") %>%\n",
    "      dplyr::distinct(geneID)\n",
    "    \n",
    "    gmt.lists[gmt.lists$ont == term,] %<>%\n",
    "      dplyr::mutate(wp.cnt = length(res$ID),\n",
    "             wpids = paste(res$ID, collapse = \",\"),\n",
    "             overlap.cnt = length(ovr.genes$geneID),\n",
    "             overlap.genes = paste(ovr.genes$geneID, collapse = \", \")\n",
    "      )\n",
    "  }\n",
    "})\n",
    "\n",
    "## Flatten and save\n",
    "gmt.wp.overlaps <- gmt.wp.overlaps %>%\n",
    "  rowwise() %>%\n",
    "  dplyr::mutate(genes = paste(unlist(genes), collapse = \", \"))\n",
    "\n",
    "write.table(gmt.wp.overlaps, \"gmt-wp-overlaps.tsv\", quote=F, sep=\"\\t\", row.names = F)\n"
   ]
  },
  {
   "cell_type": "code",
   "execution_count": null,
   "metadata": {},
   "outputs": [],
   "source": []
  }
 ],
 "metadata": {
  "kernelspec": {
   "display_name": "R - Juniper",
   "language": "R",
   "name": "juniper_juniper"
  },
  "language_info": {
   "codemirror_mode": "r",
   "file_extension": ".R",
   "mimetype": "text/x-r-source",
   "name": "R",
   "pygments_lexer": "r",
   "version": "3.6.1"
  }
 },
 "nbformat": 4,
 "nbformat_minor": 4
}
