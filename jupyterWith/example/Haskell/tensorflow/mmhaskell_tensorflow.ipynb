{
 "cells": [
  {
   "cell_type": "markdown",
   "metadata": {},
   "source": [
    "# Monday Morning Haskell Tensorflow\n",
    "\n",
    "following https://mmhaskell.com/blog/2017/8/14/starting-out-with-haskell-tensor-flow"
   ]
  },
  {
   "cell_type": "code",
   "execution_count": 7,
   "metadata": {},
   "outputs": [],
   "source": [
    ":e OverloadedLists\n",
    ":e ScopedTypeVariables\n",
    ":e FlexibleContexts \n",
    "\n",
    "import Data.Vector (Vector)\n",
    "import TensorFlow.Core (Tensor, Value, feed, encodeTensorData, Scalar(..))\n",
    "import TensorFlow.Ops (constant, add, placeholder, sub, reduceSum, mul)\n",
    "import TensorFlow.Variable (readValue, initializedVariable, Variable)\n",
    "import TensorFlow.GenOps.Core (square)\n",
    "import TensorFlow.Session (runSession, run, runWithFeeds)\n",
    "import TensorFlow.Minimize (gradientDescent, minimizeWith)\n",
    "\n",
    "import Control.Monad (replicateM_)\n",
    "import qualified Data.Vector as Vector\n",
    "import Data.Vector (Vector)"
   ]
  },
  {
   "cell_type": "code",
   "execution_count": 8,
   "metadata": {},
   "outputs": [
    {
     "data": {
      "text/plain": [
       "[7.0]"
      ]
     },
     "metadata": {},
     "output_type": "display_data"
    }
   ],
   "source": [
    "runSimple :: IO (Vector Float)\n",
    "runSimple = runSession $ do\n",
    "    let node1 = constant [1] [3::Float]\n",
    "    let node2 = constant [1] [4::Float]\n",
    "    let additionNode = node1 `add` node2\n",
    "    run additionNode\n",
    "    \n",
    "result <- runSimple\n",
    "result"
   ]
  },
  {
   "cell_type": "code",
   "execution_count": 9,
   "metadata": {},
   "outputs": [
    {
     "data": {
      "text/plain": [
       "[8.0]"
      ]
     },
     "metadata": {},
     "output_type": "display_data"
    }
   ],
   "source": [
    "runPlaceholder :: Vector Float -> Vector Float -> IO (Vector Float)\n",
    "runPlaceholder input1 input2 = runSession $ do\n",
    "  (node1 :: Tensor Value Float) <- placeholder [1]\n",
    "  (node2 :: Tensor Value Float) <- placeholder [1]\n",
    "  let adderNode = node1 `add` node2\n",
    "  let runStep = \\node1Feed node2Feed -> runWithFeeds \n",
    "        [ feed node1 node1Feed\n",
    "        , feed node2 node2Feed\n",
    "        ] \n",
    "        adderNode\n",
    "  runStep (encodeTensorData [1] input1) (encodeTensorData [1] input2)\n",
    "  \n",
    "result1 <- runPlaceholder [3.0] [5.0]\n",
    "result1"
   ]
  },
  {
   "cell_type": "code",
   "execution_count": 10,
   "metadata": {},
   "outputs": [
    {
     "data": {
      "text/plain": [
       "(4.9999948,-0.99998516)"
      ]
     },
     "metadata": {},
     "output_type": "display_data"
    }
   ],
   "source": [
    "runVariable :: Vector Float -> Vector Float -> IO (Float, Float)\n",
    "runVariable xInput yInput = runSession $ do\n",
    "  let xSize = fromIntegral $ Vector.length xInput\n",
    "  let ySize = fromIntegral $ Vector.length yInput\n",
    "  (w :: Variable Float) <- initializedVariable 3\n",
    "  (b :: Variable Float) <- initializedVariable 1\n",
    "  (x :: Tensor Value Float) <- placeholder [xSize]\n",
    "  let linear_model = ((readValue w) `mul` x) `add` (readValue b)\n",
    "  (y :: Tensor Value Float) <- placeholder [ySize]\n",
    "  let square_deltas = square (linear_model `sub` y)\n",
    "  let loss = reduceSum square_deltas\n",
    "  trainStep <- minimizeWith (gradientDescent 0.01) loss [w,b] \n",
    "  let trainWithFeeds = \\xF yF -> runWithFeeds\n",
    "        [ feed x xF\n",
    "        , feed y yF\n",
    "        ]\n",
    "        trainStep\n",
    "  replicateM_ 1000 \n",
    "    (trainWithFeeds (encodeTensorData [xSize] xInput) (encodeTensorData [ySize] yInput))\n",
    "  (Scalar w_learned, Scalar b_learned) <- run (readValue w, readValue b)\n",
    "  return (w_learned, b_learned)\n",
    "results <- runVariable [1.0, 2.0, 3.0, 4.0] [4.0, 9.0, 14.0, 19.0]\n",
    "results"
   ]
  }
 ],
 "metadata": {
  "kernelspec": {
   "display_name": "Haskell - Tensorflow",
   "language": "haskell",
   "name": "ihaskell_tensorflow"
  },
  "language_info": {
   "codemirror_mode": "ihaskell",
   "file_extension": ".hs",
   "name": "haskell",
   "pygments_lexer": "Haskell",
   "version": "8.4.4"
  }
 },
 "nbformat": 4,
 "nbformat_minor": 2
}
