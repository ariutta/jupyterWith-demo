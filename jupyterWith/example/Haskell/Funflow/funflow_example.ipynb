{
 "cells": [
  {
   "cell_type": "code",
   "execution_count": 22,
   "metadata": {},
   "outputs": [
    {
     "data": {
      "text/plain": [
       "[2019-01-24 17:38:01][FFExecutorD.executeLoop][Info][matto-dell][17815][ThreadId 560][funflow-1.4.0-KLdImYfU5mYAAbPXU2bOEB:Control.Funflow.External.Executor src/Control/Funflow/External/Executor.hs:181:9] Initialising connection to coordinator.\n",
       "Hey you ... What's up?"
      ]
     },
     "metadata": {},
     "output_type": "display_data"
    }
   ],
   "source": [
    ":e Arrows\n",
    ":e QuasiQuotes\n",
    "import Control.Arrow\n",
    "import Control.Funflow\n",
    "import Control.Funflow.Exec.Simple (withSimpleLocalRunner)\n",
    "import Data.Default\n",
    "import Path\n",
    "\n",
    "-- | Flow which asks for the user's name, then their favourite number.\n",
    "--   The favourite number will be cached, such that if the user comes back,\n",
    "--   they will not be asked again.\n",
    "favouriteNumber :: SimpleFlow () (String, String)\n",
    "favouriteNumber = proc () -> do\n",
    "    name <- step (\\_ -> \"Hey you ... \") -< ()\n",
    "    -- We enable caching for this step. The default cacher uses 'Store' instances\n",
    "    -- to provide serialisation/deserialisation. The ident is used to ensure that\n",
    "    -- multiple different steps with the same input do not resolve to the same\n",
    "    -- cache item.\n",
    "    fnum <- step' (def { cache = defaultCacherWithIdent 172652 })\n",
    "                  (\\_ -> \"What's up?\") -< ()\n",
    "    returnA -< (name, fnum)\n",
    "\n",
    "-- Use /tmp/funflow as the path to our content store.\n",
    "-- | Runs the 'favourite number' flow in IO.\n",
    "runFavouriteNumber :: IO ()\n",
    "runFavouriteNumber = do\n",
    "  -- Use /tmp/funflow as the path to our content store.\n",
    "  res <- withSimpleLocalRunner [absdir|/tmp/funflow|] $ \\run ->\n",
    "    -- 'run' takes the flow and the initial input. Since this flow has an input type of '()',\n",
    "    -- this is what we provide.\n",
    "    run favouriteNumber ()\n",
    "  case res of\n",
    "    Left err -> putStrLn $ \"Something went wrong: \" ++ show err\n",
    "    Right (name, num) -> putStrLn $ name ++ num\n",
    "    \n",
    "runFavouriteNumber"
   ]
  }
 ],
 "metadata": {
  "kernelspec": {
   "display_name": "Haskell - Funflow",
   "language": "haskell",
   "name": "ihaskell_funflow"
  },
  "language_info": {
   "codemirror_mode": "ihaskell",
   "file_extension": ".hs",
   "name": "haskell",
   "pygments_lexer": "Haskell",
   "version": "8.4.4"
  }
 },
 "nbformat": 4,
 "nbformat_minor": 2
}
