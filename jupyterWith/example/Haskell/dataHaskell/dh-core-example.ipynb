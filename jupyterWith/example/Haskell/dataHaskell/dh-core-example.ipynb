{
 "cells": [
  {
   "cell_type": "markdown",
   "metadata": {},
   "source": [
    "# dh-core: developing data science in Haskell\n",
    "\n",
    "This notebook shows how a dataHaskell kernel that integrates the dh-core libraries https://github.com/DataHaskell/dh-core can be used. The dh-core library is quite fresh and will likely change significantly."
   ]
  },
  {
   "cell_type": "markdown",
   "metadata": {},
   "source": [
    "## dh-core\n",
    "\n",
    "dh-core is the core dataHaskell library"
   ]
  },
  {
   "cell_type": "code",
   "execution_count": null,
   "metadata": {},
   "outputs": [],
   "source": []
  },
  {
   "cell_type": "markdown",
   "metadata": {},
   "source": [
    "## datasets\n",
    "\n",
    "The datassets module (https://hackage.haskell.org/package/datasets) is now integrated in the dh-core repository. It provides access to some standard datasets:"
   ]
  },
  {
   "cell_type": "code",
   "execution_count": 1,
   "metadata": {},
   "outputs": [
    {
     "data": {
      "text/plain": [
       "150"
      ]
     },
     "metadata": {},
     "output_type": "display_data"
    },
    {
     "data": {
      "text/plain": [
       "Iris {sepalLength = 5.1, sepalWidth = 3.5, petalLength = 1.4, petalWidth = 0.2, irisClass = Setosa}"
      ]
     },
     "metadata": {},
     "output_type": "display_data"
    },
    {
     "data": {
      "text/plain": [
       "4177"
      ]
     },
     "metadata": {},
     "output_type": "display_data"
    },
    {
     "data": {
      "text/plain": [
       "Abalone {sex = M, abaloneLength = 0.455, diameter = 0.365, height = 9.5e-2, wholeWeight = 0.514, shuckedWeight = 0.2245, visceraWeight = 0.101, shellWeight = 0.15, rings = 15}"
      ]
     },
     "metadata": {},
     "output_type": "display_data"
    }
   ],
   "source": [
    "import Numeric.Datasets (getDataset)\n",
    "import Numeric.Datasets.Iris (iris)\n",
    "import Numeric.Datasets.Abalone (abalone)\n",
    "\n",
    "-- The Iris data set is embedded\n",
    "print (length iris)\n",
    "print (head iris)\n",
    "\n",
    "-- The Abalone dataset is fetched\n",
    "abas <- getDataset abalone\n",
    "print (length abas)\n",
    "print (head abas)"
   ]
  }
 ],
 "metadata": {
  "kernelspec": {
   "display_name": "Haskell - dataHaskell",
   "language": "haskell",
   "name": "ihaskell_datahaskell"
  },
  "language_info": {
   "codemirror_mode": "ihaskell",
   "file_extension": ".hs",
   "name": "haskell",
   "pygments_lexer": "Haskell",
   "version": "8.4.4"
  }
 },
 "nbformat": 4,
 "nbformat_minor": 2
}
