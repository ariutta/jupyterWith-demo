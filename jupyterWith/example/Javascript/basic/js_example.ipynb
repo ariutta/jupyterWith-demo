{
 "cells": [
  {
   "cell_type": "code",
   "execution_count": 2,
   "metadata": {},
   "outputs": [
    {
     "data": {
      "text/plain": [
       "'Hello,World!'"
      ]
     },
     "execution_count": 2,
     "metadata": {},
     "output_type": "execute_result"
    }
   ],
   "source": [
    "var msg = [\"Hello\", \"World!\"].join(\",\")\n",
    "msg"
   ]
  }
 ],
 "metadata": {
  "kernelspec": {
   "display_name": "Javascript - basic",
   "language": "javascript",
   "name": "ijavascript_basic"
  },
  "language_info": {
   "file_extension": ".js",
   "mimetype": "application/javascript",
   "name": "javascript",
   "version": "6.16.0"
  }
 },
 "nbformat": 4,
 "nbformat_minor": 2
}
