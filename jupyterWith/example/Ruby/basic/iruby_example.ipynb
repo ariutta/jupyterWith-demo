{
 "cells": [
  {
   "cell_type": "code",
   "execution_count": 1,
   "metadata": {},
   "outputs": [
    {
     "name": "stdout",
     "output_type": "stream",
     "text": [
      "Hello, world!\n"
     ]
    }
   ],
   "source": [
    "puts 'Hello, world!'"
   ]
  },
  {
   "cell_type": "code",
   "execution_count": 2,
   "metadata": {},
   "outputs": [
    {
     "name": "stderr",
     "output_type": "stream",
     "text": [
      "Error!\n"
     ]
    }
   ],
   "source": [
    "$stderr.puts 'Error!'"
   ]
  },
  {
   "cell_type": "code",
   "execution_count": 3,
   "metadata": {},
   "outputs": [
    {
     "data": {
      "text/plain": [
       "1.4142135623730951"
      ]
     },
     "execution_count": 3,
     "metadata": {},
     "output_type": "execute_result"
    }
   ],
   "source": [
    "Math.sqrt(2)"
   ]
  },
  {
   "cell_type": "code",
   "execution_count": 6,
   "metadata": {},
   "outputs": [
    {
     "data": {
      "text/html": [
       "<b style=\"color:green\">Hello, world!</b>"
      ],
      "text/plain": [
       "\"<b style=\\\"color:green\\\">Hello, world!</b>\""
      ]
     },
     "metadata": {},
     "output_type": "display_data",
     "source": "ruby"
    },
    {
     "data": {
      "text/plain": [
       "[\"display_data\", \"<IDS|MSG>\", \"43314173affab00afc36f6be1d9eae00de5ab0d595960743553dde3748000ea4\", \"{\\\"msg_type\\\":\\\"display_data\\\",\\\"msg_id\\\":\\\"129c5ef1-e42f-45cb-a435-a7fc0555bcca\\\",\\\"username\\\":\\\"kernel\\\",\\\"session\\\":\\\"6b8e9274-77e0-47e7-a8fe-83271586b6f1\\\",\\\"version\\\":\\\"5.0\\\"}\", \"{\\\"username\\\":\\\"\\\",\\\"version\\\":\\\"5.2\\\",\\\"session\\\":\\\"99a21287-8eeb-4353-b0b6-ce0f3f8ba0ae\\\",\\\"msg_id\\\":\\\"c74277b6-ad58-4fdc-9ded-606511ace79e\\\",\\\"msg_type\\\":\\\"execute_request\\\",\\\"date\\\":\\\"2019-02-05T23:37:09.289972Z\\\"}\", \"{}\", \"{\\\"data\\\":{\\\"text/plain\\\":\\\"\\\\\\\"<b style=\\\\\\\\\\\\\\\"color:green\\\\\\\\\\\\\\\">Hello, world!</b>\\\\\\\"\\\",\\\"text/html\\\":\\\"<b style=\\\\\\\"color:green\\\\\\\">Hello, world!</b>\\\"},\\\"metadata\\\":{},\\\"source\\\":\\\"ruby\\\"}\"]"
      ]
     },
     "execution_count": 6,
     "metadata": {},
     "output_type": "execute_result"
    }
   ],
   "source": [
    "IRuby.display '<b style=\"color:green\">Hello, world!</b>', mime: 'text/html'"
   ]
  },
  {
   "cell_type": "code",
   "execution_count": 9,
   "metadata": {},
   "outputs": [
    {
     "data": {
      "text/html": [
       "<table><tr><td>1</td></tr><tr><td>2</td></tr><tr><td></td></tr><tr><td>3</td></tr></table>"
      ],
      "text/plain": [
       "\"<table><tr><td>1</td></tr><tr><td>2</td></tr><tr><td></td></tr><tr><td>3</td></tr></table>\""
      ]
     },
     "metadata": {},
     "output_type": "display_data",
     "source": "ruby"
    },
    {
     "data": {
      "text/html": [
       "<table><tr><th>a</th><th>b</th><th>c</th></tr><tr><td>1</td><td>2</td><td>3</td></tr></table>"
      ],
      "text/plain": [
       "\"<table><tr><th>a</th><th>b</th><th>c</th></tr><tr><td>1</td><td>2</td><td>3</td></tr></table>\""
      ]
     },
     "metadata": {},
     "output_type": "display_data",
     "source": "ruby"
    },
    {
     "data": {
      "text/html": [
       "<table><tr><td>11</td><td>12</td><td>13</td><td>14</td></tr><tr><td>21</td><td>22</td><td>23</td><td></td></tr><tr><td colspan='4'>not an Array</td></tr><tr><td>31</td><td>32</td><td>33</td><td>34</td></tr></table>"
      ],
      "text/plain": [
       "\"<table><tr><td>11</td><td>12</td><td>13</td><td>14</td></tr><tr><td>21</td><td>22</td><td>23</td><td></td></tr><tr><td colspan='4'>not an Array</td></tr><tr><td>31</td><td>32</td><td>33</td><td>34</td></tr></table>\""
      ]
     },
     "metadata": {},
     "output_type": "display_data",
     "source": "ruby"
    },
    {
     "data": {
      "text/html": [
       "<table><tr><th>a</th><th>b</th><th>c</th></tr><tr><td>11</td><td>21</td><td>31</td></tr><tr><td>12</td><td>22</td><td>32</td></tr><tr><td>13</td><td>23</td><td>33</td></tr><tr><td>14</td><td></td><td>34</td></tr></table>"
      ],
      "text/plain": [
       "\"<table><tr><th>a</th><th>b</th><th>c</th></tr><tr><td>11</td><td>21</td><td>31</td></tr><tr><td>12</td><td>22</td><td>32</td></tr><tr><td>13</td><td>23</td><td>33</td></tr><tr><td>14</td><td></td><td>34</td></tr></table>\""
      ]
     },
     "metadata": {},
     "output_type": "display_data",
     "source": "ruby"
    },
    {
     "data": {
      "text/html": [
       "<table><tr><th>a</th><th>b</th><th>c</th><th>e</th></tr><tr><td>1</td><td>2</td><td>3</td><td></td></tr><tr><td colspan='4'>not an Array</td></tr><tr><td>2</td><td>3</td><td>4</td><td>5</td></tr></table>"
      ],
      "text/plain": [
       "\"<table><tr><th>a</th><th>b</th><th>c</th><th>e</th></tr><tr><td>1</td><td>2</td><td>3</td><td></td></tr><tr><td colspan='4'>not an Array</td></tr><tr><td>2</td><td>3</td><td>4</td><td>5</td></tr></table>\""
      ]
     },
     "metadata": {},
     "output_type": "display_data",
     "source": "ruby"
    },
    {
     "data": {
      "text/html": [
       "<table><tr><th>a</th><th>b</th><th>c</th><th>d</th><th>0</th><th>1</th></tr><tr><td>1</td><td>2</td><td>3</td><td></td><td></td><td></td><td></td></tr><tr><td>2</td><td>3</td><td>4</td><td>5</td><td></td><td></td><td></td></tr><tr><td></td><td></td><td></td><td></td><td>x</td><td>y</td><td></td></tr><tr><td></td><td></td><td></td><td></td><td>a</td><td>b</td><td>c</td></tr></table>"
      ],
      "text/plain": [
       "\"<table><tr><th>a</th><th>b</th><th>c</th><th>d</th><th>0</th><th>1</th></tr><tr><td>1</td><td>2</td><td>3</td><td></td><td></td><td></td><td></td></tr><tr><td>2</td><td>3</td><td>4</td><td>5</td><td></td><td></td><td></td></tr><tr><td></td><td></td><td></td><td></td><td>x</td><td>y</td><td></td></tr><tr><td></td><td></td><td></td><td></td><td>a</td><td>b</td><td>c</td></tr></table>\""
      ]
     },
     "metadata": {},
     "output_type": "display_data",
     "source": "ruby"
    },
    {
     "data": {
      "text/plain": [
       "[\"display_data\", \"<IDS|MSG>\", \"c5c49b35e276c86fc7896ce50a939833f65553ea66dbc0e38e45c10e63a7dd5a\", \"{\\\"msg_type\\\":\\\"display_data\\\",\\\"msg_id\\\":\\\"8ce7a775-4ebb-4f0f-b1fb-f220a41077ff\\\",\\\"username\\\":\\\"kernel\\\",\\\"session\\\":\\\"6b8e9274-77e0-47e7-a8fe-83271586b6f1\\\",\\\"version\\\":\\\"5.0\\\"}\", \"{\\\"username\\\":\\\"\\\",\\\"version\\\":\\\"5.2\\\",\\\"session\\\":\\\"99a21287-8eeb-4353-b0b6-ce0f3f8ba0ae\\\",\\\"msg_id\\\":\\\"26d4c106-8249-4b68-83e4-9bb140fc63b5\\\",\\\"msg_type\\\":\\\"execute_request\\\",\\\"date\\\":\\\"2019-02-05T23:37:52.266395Z\\\"}\", \"{}\", \"{\\\"data\\\":{\\\"text/plain\\\":\\\"\\\\\\\"<table><tr><th>a</th><th>b</th><th>c</th><th>d</th><th>0</th><th>1</th></tr><tr><td>1</td><td>2</td><td>3</td><td></td><td></td><td></td><td></td></tr><tr><td>2</td><td>3</td><td>4</td><td>5</td><td></td><td></td><td></td></tr><tr><td></td><td></td><td></td><td></td><td>x</td><td>y</td><td></td></tr><tr><td></td><td></td><td></td><td></td><td>a</td><td>b</td><td>c</td></tr></table>\\\\\\\"\\\",\\\"text/html\\\":\\\"<table><tr><th>a</th><th>b</th><th>c</th><th>d</th><th>0</th><th>1</th></tr><tr><td>1</td><td>2</td><td>3</td><td></td><td></td><td></td><td></td></tr><tr><td>2</td><td>3</td><td>4</td><td>5</td><td></td><td></td><td></td></tr><tr><td></td><td></td><td></td><td></td><td>x</td><td>y</td><td></td></tr><tr><td></td><td></td><td></td><td></td><td>a</td><td>b</td><td>c</td></tr></table>\\\"},\\\"metadata\\\":{},\\\"source\\\":\\\"ruby\\\"}\"]"
      ]
     },
     "execution_count": 9,
     "metadata": {},
     "output_type": "execute_result"
    }
   ],
   "source": [
    "IRuby.display IRuby.table([1,2,[],3])\n",
    "IRuby.display IRuby.table({a:1,b:2,c:3})\n",
    "IRuby.display IRuby.table([[11,12,13,14],[21,22,23],'not an Array',[31,32,33,34]])\n",
    "IRuby.display IRuby.table({a:[11,12,13,14],b:[21,22,23],c:[31,32,33,34]})\n",
    "IRuby.display IRuby.table([{a:1,b:2,c:3},'not an Array',{a:2,b:3,c:4,e:5}])\n",
    "IRuby.display IRuby.table([{a:1,b:2,c:3},{a:2,b:3,c:4,d:5},{0=>:x,1=>:y},[:a,:b,:c]])"
   ]
  }
 ],
 "metadata": {
  "kernelspec": {
   "display_name": "IRuby - basic",
   "language": "ruby",
   "name": "iruby_basic"
  },
  "language_info": {
   "file_extension": ".rb",
   "mimetype": "application/x-ruby",
   "name": "ruby",
   "version": "2.5.3"
  }
 },
 "nbformat": 4,
 "nbformat_minor": 2
}
